{
 "cells": [
  {
   "cell_type": "markdown",
   "metadata": {},
   "source": [
    "# American-Sign-Language"
   ]
  },
  {
   "cell_type": "markdown",
   "metadata": {},
   "source": [
    "Neste projeto, classificaremos os símbolos da língua gestual por meio da **Rede Neural Convolucional (CNN)**. Após o treinamento bem-sucedido do modelo CNN, o alfabeto correspondente de um símbolo de linguagem gestual será previsto. Avaliaremos o desempenho de classificação do nosso modelo usando as **matrizes de confusão** *normalizadas* e *não normalizadas*. Por fim, obteremos a pontuação de **precisão da classificação** do modelo CNN."
   ]
  },
  {
   "cell_type": "markdown",
   "metadata": {},
   "source": [
    "### Conjunto de dados\n",
    "\n",
    "Usando o conjunto de dados *American Sign Language* (ASL) fornecido pelo MNIST, disponível publicamente no Kaggle, avaliamos modelos para classificar os gestos das mãos para cada letra do alfabeto. Devido ao movimento envolvido nas letras J e Z, essas letras não foram incluídas no conjunto de dados. \n",
    "\n",
    "Deste modo, este conjunto de dados contém 27455 imagens de treinamento e 7172 imagens de teste, todas com formato de 28x28 pixels com valores em tons de cinza entre 0-255. Essas imagens pertencem às 24 classes do alfabeto americano, começando de A a Y (excluindo as classes das letras J (9) e Z (25), como referido anteriormente).\n",
    "\n",
    "O conjunto de dados no Kaggle está disponível no formato CSV, onde os dados de treinamento têm 27455 linhas e 785 colunas e os dados de teste têm 7172 linhas e 785 colunas. A primeira coluna do conjunto de dados representa o rótulo da classe da imagem e as 784 colunas restantes representam os 28x28 pixels.\n",
    "\n",
    "<center><img src=\"images/american_sign_language.PNG\" style=\"width:250px;height:150px;\"></center>\n",
    "<caption><center> Fig. 1: Alfabeto em língua gestual americana </center></caption>"
   ]
  },
  {
   "cell_type": "markdown",
   "metadata": {},
   "source": [
    "### Tratamento e visualização dos dados"
   ]
  },
  {
   "cell_type": "markdown",
   "metadata": {},
   "source": [
    "##### Importação de bibliotecas importantes"
   ]
  },
  {
   "cell_type": "code",
   "execution_count": 8,
   "metadata": {},
   "outputs": [],
   "source": [
    "import numpy as np\n",
    "import pandas as pd\n",
    "import random \n",
    "import matplotlib.pyplot as plt\n",
    "import cv2\n",
    "import string"
   ]
  },
  {
   "cell_type": "code",
   "execution_count": 9,
   "metadata": {},
   "outputs": [],
   "source": [
    "from sklearn.preprocessing import LabelBinarizer\n",
    "import tensorflow.keras\n",
    "from tensorflow.keras.models import Sequential\n",
    "from tensorflow.keras.layers import Dense, Conv2D, MaxPooling2D, Flatten, Dropout\n",
    "from tensorflow.keras.preprocessing.image import img_to_array\n",
    "import seaborn as sns\n",
    "\n",
    "from sklearn.metrics import confusion_matrix\n",
    "from sklearn import metrics"
   ]
  },
  {
   "cell_type": "markdown",
   "metadata": {},
   "source": [
    "##### Leitura dos dados de treino e de teste dos ficheiros CSV"
   ]
  },
  {
   "cell_type": "code",
   "execution_count": 10,
   "metadata": {},
   "outputs": [],
   "source": [
    "# obter os dados de treinamento\n",
    "dataTrain = pd.read_csv('sign_mnist_train.csv')\n",
    "# converter os rotulos dos dados de treinamento para uma matriz (rotulo)\n",
    "yTrain = dataTrain['label'].values\n",
    "yTrain2 = dataTrain['label'].values\n",
    "# remover os rotulos dos dados de treinamento\n",
    "dataTrain.drop('label', axis = 1, inplace = True)\n",
    "# converter os dados de treinamento para uma matriz (rotulo + pixeis)\n",
    "xTrain = dataTrain.values\n",
    "\n",
    "# obter os dados de teste\n",
    "dataTest = pd.read_csv('sign_mnist_test.csv')\n",
    "# converter os rotulos dos dados de teste para uma matriz (rotulo)\n",
    "yTest = dataTest['label'].values\n",
    "yTest2 = dataTest['label'].values\n",
    "# remover os rotulos dos dados de teste\n",
    "dataTest.drop('label', axis = 1, inplace = True)\n",
    "# converter os dados de teste para uma matriz (rotulo + pixeis)\n",
    "xTest = dataTest.values\n",
    "# verificar os dados de teste para verificar os rotulos de classe e as colunas que representam os pixeis\n",
    "# dataTest.head()"
   ]
  },
  {
   "cell_type": "markdown",
   "metadata": {},
   "source": [
    "##### Especificar os rótulos de classe para as imagens"
   ]
  },
  {
   "cell_type": "code",
   "execution_count": 11,
   "metadata": {},
   "outputs": [],
   "source": [
    "class_name = ('A', 'B', 'C', 'D', 'E', 'F', 'G', 'H', 'I', 'K' , 'L', 'M', 'N', 'O', 'P', 'Q', 'R', 'S', 'T', 'U', 'V', 'W', 'X','Y')"
   ]
  },
  {
   "cell_type": "markdown",
   "metadata": {},
   "source": [
    "##### Histograma com o número de vezes que aparece uma letra do alfabeto, onde \"A\" corresponde à classe 0, \"B\" à classe 1 e assim sucessivamente"
   ]
  },
  {
   "cell_type": "code",
   "execution_count": 12,
   "metadata": {},
   "outputs": [
    {
     "data": {
      "text/plain": [
       "([<matplotlib.axis.XTick at 0x7f0d721ad520>,\n",
       "  <matplotlib.axis.XTick at 0x7f0d721ad4f0>,\n",
       "  <matplotlib.axis.XTick at 0x7f0d720b6040>,\n",
       "  <matplotlib.axis.XTick at 0x7f0d6f37d0a0>,\n",
       "  <matplotlib.axis.XTick at 0x7f0d6f37d5b0>,\n",
       "  <matplotlib.axis.XTick at 0x7f0d6f37dac0>,\n",
       "  <matplotlib.axis.XTick at 0x7f0d6f37dfd0>,\n",
       "  <matplotlib.axis.XTick at 0x7f0d6f37d130>,\n",
       "  <matplotlib.axis.XTick at 0x7f0d6f3b0370>,\n",
       "  <matplotlib.axis.XTick at 0x7f0d6f3b0880>,\n",
       "  <matplotlib.axis.XTick at 0x7f0d6f3b0d90>,\n",
       "  <matplotlib.axis.XTick at 0x7f0d6f37a2e0>,\n",
       "  <matplotlib.axis.XTick at 0x7f0d6f37a7f0>,\n",
       "  <matplotlib.axis.XTick at 0x7f0d6f37ad00>,\n",
       "  <matplotlib.axis.XTick at 0x7f0d6f388250>,\n",
       "  <matplotlib.axis.XTick at 0x7f0d6f388760>,\n",
       "  <matplotlib.axis.XTick at 0x7f0d6f37a460>,\n",
       "  <matplotlib.axis.XTick at 0x7f0d6f3b0940>,\n",
       "  <matplotlib.axis.XTick at 0x7f0d6f388490>,\n",
       "  <matplotlib.axis.XTick at 0x7f0d6f388c70>,\n",
       "  <matplotlib.axis.XTick at 0x7f0d6f3b81c0>,\n",
       "  <matplotlib.axis.XTick at 0x7f0d6f3b86d0>,\n",
       "  <matplotlib.axis.XTick at 0x7f0d6f3b8be0>,\n",
       "  <matplotlib.axis.XTick at 0x7f0d6f39a130>],\n",
       " [Text(0, 0, 'A'),\n",
       "  Text(1, 0, 'B'),\n",
       "  Text(2, 0, 'C'),\n",
       "  Text(3, 0, 'D'),\n",
       "  Text(4, 0, 'E'),\n",
       "  Text(5, 0, 'F'),\n",
       "  Text(6, 0, 'G'),\n",
       "  Text(7, 0, 'H'),\n",
       "  Text(8, 0, 'I'),\n",
       "  Text(9, 0, 'K'),\n",
       "  Text(10, 0, 'L'),\n",
       "  Text(11, 0, 'M'),\n",
       "  Text(12, 0, 'N'),\n",
       "  Text(13, 0, 'O'),\n",
       "  Text(14, 0, 'P'),\n",
       "  Text(15, 0, 'Q'),\n",
       "  Text(16, 0, 'R'),\n",
       "  Text(17, 0, 'S'),\n",
       "  Text(18, 0, 'T'),\n",
       "  Text(19, 0, 'U'),\n",
       "  Text(20, 0, 'V'),\n",
       "  Text(21, 0, 'W'),\n",
       "  Text(22, 0, 'X'),\n",
       "  Text(23, 0, 'Y')])"
      ]
     },
     "execution_count": 12,
     "metadata": {},
     "output_type": "execute_result"
    },
    {
     "data": {
      "image/png": "[encoded data removed]",
      "text/plain": [
       "<Figure size 1440x576 with 1 Axes>"
      ]
     },
     "metadata": {
      "needs_background": "light"
     },
     "output_type": "display_data"
    }
   ],
   "source": [
    "#plt.figure(figsize = (20,8))\n",
    "#plt.xlabel('classes')\n",
    "#sns.countplot(x = yTrain)\n",
    "\n",
    "plt.figure(figsize = (20,8))\n",
    "plt.xlabel('classes')\n",
    "sns.countplot(x = yTrain)\n",
    "x_pos = np.arange(len(class_name))\n",
    "plt.xticks(x_pos, class_name)"
   ]
  },
  {
   "cell_type": "markdown",
   "metadata": {},
   "source": [
    "##### Processar conjunto de dados para o treinamento\n",
    "\n",
    "\"-1\" especifica que esta dimensão no eixo atual deve ser calculada dinamicamente de acordo com a regra de que os elementos totais do tensor permanecem inalterados."
   ]
  },
  {
   "cell_type": "code",
   "execution_count": 13,
   "metadata": {},
   "outputs": [
    {
     "name": "stdout",
     "output_type": "stream",
     "text": [
      "(27455, 784)\n",
      "(7172, 784)\n",
      "(27455, 28, 28, 1)\n",
      "(7172, 28, 28, 1)\n"
     ]
    }
   ],
   "source": [
    "print(xTrain.shape)\n",
    "print(xTest.shape)\n",
    "xTrain = np.array(xTrain.reshape(-1,28,28,1))\n",
    "xTest = np.array(xTest.reshape(-1,28,28,1))\n",
    "print(xTrain.shape)\n",
    "print(xTest.shape)"
   ]
  },
  {
   "cell_type": "markdown",
   "metadata": {},
   "source": [
    "##### Converter os rótulos das classes em rótulos binários (onde \"1\" significa que pertence e \"0\" que não pertence à classe)"
   ]
  },
  {
   "cell_type": "code",
   "execution_count": 14,
   "metadata": {},
   "outputs": [],
   "source": [
    "lbTrain = LabelBinarizer()\n",
    "lbTest = LabelBinarizer()\n",
    "yTrain = lbTrain.fit_transform(yTrain)\n",
    "yTest = lbTest.fit_transform(yTest)"
   ]
  },
  {
   "cell_type": "markdown",
   "metadata": {},
   "source": [
    "##### Visualizar algumas imagens do conjunto de dados de treinamento"
   ]
  },
  {
   "cell_type": "code",
   "execution_count": 15,
   "metadata": {},
   "outputs": [
    {
     "data": {
      "text/plain": [
       "Text(0.5, 0.98, 'Some images from train data set')"
      ]
     },
     "execution_count": 15,
     "metadata": {},
     "output_type": "execute_result"
    },
    {
     "data": {
      "image/png": "[encoded data removed]",
      "text/plain": [
       "<Figure size 720x144 with 5 Axes>"
      ]
     },
     "metadata": {
      "needs_background": "light"
     },
     "output_type": "display_data"
    }
   ],
   "source": [
    "plt.style.use('_classic_test_patch')\n",
    "fig, axs = plt.subplots(1, 5, figsize=(10, 2), sharey=True)\n",
    "for i in range(5): \n",
    "    axs[i].imshow(xTrain[i].reshape(28,28),cmap='gray')\n",
    "fig.suptitle('Some images from train data set')"
   ]
  },
  {
   "cell_type": "markdown",
   "metadata": {},
   "source": [
    "### Conjunto de dados Definir o modelo CNN (Convolutional Neural Network)"
   ]
  },
  {
   "cell_type": "code",
   "execution_count": null,
   "metadata": {},
   "outputs": [],
   "source": []
  },
  {
   "cell_type": "code",
   "execution_count": null,
   "metadata": {},
   "outputs": [],
   "source": []
  },
  {
   "cell_type": "raw",
   "metadata": {},
   "source": [
    "A partir da definição da documentação tensorflow.keras, o modelo *Sequencial* é uma stack linear de camadas. O parâmetro *kernel_size* é um inteiro que especifica o mesmo valor para todas as dimensões espaciais, ou tuplo/lista de 2 inteiros, que especifica a altura e largura da janela de convolução 2D. O parâmetro *activation* é uma função de ativação a ser aplicada. O parâmetro *input_shape* é um tensor com a forma: batch_shape + (linhas, colunas, canais), quando data_format = 'canais_last', onde é preciso usar as dimensões da imagem de entrada.\n",
    "\n",
    "A camada de entrada do modelo obterá imagens de tamanho (28,28,1) onde 28,28 são a altura e a largura da imagem, respetivamente, enquanto 1 representa o canal de cor da imagem para tons de cinza.\n",
    "A camada de saída do modelo terá 24 neurónios para 24 letras diferentes, e a função de ativação será *softmax*, pois é um problema de classificação multiclasse.\n",
    "\n",
    "A primeira camada oculta é composta por vários nós, cada um dos quais tem uma soma ponderada dos 784 valores de entrada. A soma ponderada das entradas é então inserida numa função de ativação ReLU (Rectified Linear Unit). o ReLU produzirá 0 quando a entrada for negativa, mas não mudará a entrada de outra forma. As saídas do ReLU servirão como entradas para a próxima camada oculta na rede.\n",
    "\n",
    "À medida que os dados continuam a se mover pelas camadas ocultas, a rede neural tenta extrair mais recursos abstratos.\n",
    "\n",
    "Depois que os dados passam pelas camadas Convolution (*Conv2D*) e MaxPool (*MaxPooling2D*) da rede neural, eles entram nas camadas *Flatten* e *Dense*. Essas camadas são responsáveis por reduzir os dados a uma dimensão e identificar a classe de uma imagem.\n",
    "\n",
    "Observe que o Dropout foi definido como 0,2 no final. No backend, ele essencialmente reduz o overfitting, ou seja, o fenômeno quando o modelo tem um desempenho muito bom nos dados de treinamento, mas falha miseravelmente com os dados de teste.\n",
    "\n",
    "Depois que a arquitetura da CNN foi definida, tentamos otimizar o desempenho do modelo selecionando um valor apropriado para o número de épocas. Anteriormente, mencionamos que cada nó obtém uma soma ponderada de suas entradas. Os pesos aplicados a cada entrada são aprendidos durante o processo de treinamento e atualizados a cada época. Uma época é uma única passagem por todos os dados de treinamento. Na primeira época, a rede neural estima um valor para cada peso. Para cada época subsequente, a rede neural atualiza esses pesos com valores que reduzem a perda geral. Geralmente, mais épocas resultam em classificadores mais precisos; no entanto, mais épocas também produzem modelos mais complexos. "
   ]
  },
  {
   "cell_type": "code",
   "execution_count": 16,
   "metadata": {},
   "outputs": [],
   "source": [
    "model = Sequential()\n",
    "# camada de convolução 1\n",
    "model.add(Conv2D(64, kernel_size=(3,3), activation = 'relu', input_shape=(28, 28 ,1) ))\n",
    "model.add(MaxPooling2D(pool_size = (2, 2)))\n",
    "\n",
    "# camada de convolução 2\n",
    "model.add(Conv2D(64, kernel_size = (3, 3), activation = 'relu'))\n",
    "model.add(MaxPooling2D(pool_size = (2, 2)))\n",
    "model.add(Dropout(0.20))\n",
    "\n",
    "# camada de convolução 3\n",
    "model.add(Conv2D(64, kernel_size = (3, 3), activation = 'relu'))\n",
    "model.add(MaxPooling2D(pool_size = (2, 2)))\n",
    "model.add(Dropout(0.20))\n",
    "\n",
    "\n",
    "\n",
    "model.add(Flatten())\n",
    "model.add(Dense(128, activation = 'relu'))\n",
    "model.add(Dropout(0.20))\n",
    "model.add(Dense(24, activation = 'softmax'))"
   ]
  },
  {
   "cell_type": "markdown",
   "metadata": {},
   "source": [
    "##### Compilar o modelo de CNN (Convolutional Neural Network)\n",
    "\n",
    "Depois do CNN pronto, é preciso treinar o modelo alimentando o conjunto de treinamento. Existem vários otimizadores que podem ser usados, mas foi escolhido o *adam*.\n",
    "\n",
    "Depois que a arquitetura da CNN foi definida, tentamos otimizar o desempenho do modelo selecionando um valor apropriado para o número de épocas. \n",
    "\n",
    "Cada nó obtém uma soma ponderada de suas entradas. Os pesos aplicados a cada entrada são aprendidos durante o processo de treinamento e atualizados a cada epoch (época). Uma época é uma única passagem por todos os dados de treinamento. Na primeira época, a rede neural estima um valor para cada peso. Para cada época subsequente, a rede neural atualiza esses pesos com valores que reduzem a perda geral. \n",
    "\n",
    "Geralmente, mais épocas resultam em classificadores mais precisos; no entanto, mais épocas também produzem modelos mais complexos e levam mais tempo de treinamento."
   ]
  },
  {
   "cell_type": "code",
   "execution_count": null,
   "metadata": {},
   "outputs": [],
   "source": [
    "model.compile(loss = tensorflow.keras.losses.categorical_crossentropy, optimizer=tensorflow.keras.optimizers.Adam(), metrics=['accuracy'])"
   ]
  },
  {
   "cell_type": "code",
   "execution_count": null,
   "metadata": {},
   "outputs": [],
   "source": [
    "# Let's use 15% of our training dataset to validate our model\n",
    "\n",
    "num_rows = xTrain.shape[0]\n",
    "val_percent = 0.15\n",
    "val_size = int(num_rows * val_percent) #4118 para validar os dados\n",
    "train_size = num_rows - val_size  #23337 para dados de traino\n",
    "\n",
    "xtrain_ds = xTrain[:train_size] #23337\n",
    "xval_ds = xTrain[train_size:] #4118\n",
    "ytrain_ds = yTrain[:train_size] #23337\n",
    "yval_ds = yTrain[train_size:] #4118\n"
   ]
  },
  {
   "cell_type": "markdown",
   "metadata": {},
   "source": [
    "##### Treinar o modelo CNN (Convolutional Neural Network)"
   ]
  },
  {
   "cell_type": "code",
   "execution_count": null,
   "metadata": {},
   "outputs": [],
   "source": [
    "history = model.fit(xtrain_ds, ytrain_ds, validation_data = (xval_ds, yval_ds), epochs=100, batch_size=128)"
   ]
  },
  {
   "cell_type": "code",
   "execution_count": null,
   "metadata": {},
   "outputs": [],
   "source": [
    "model.save('sign_language')\n",
    "model.summary()\n",
    "#model = tensorflow.keras.models.load_model('sign_language')"
   ]
  },
  {
   "cell_type": "markdown",
   "metadata": {},
   "source": [
    "##### Visualizar o desempenho do treinamento do modelo CNN\n",
    "\n",
    "Depois do treinamento acabar, desenhou-se a variação de precisão com a época para visualizar como nosso modelo está melhorando a cada época."
   ]
  },
  {
   "cell_type": "code",
   "execution_count": null,
   "metadata": {},
   "outputs": [],
   "source": [
    "plt.style.use('default')\n",
    "plt.figure(figsize = (10,6))\n",
    "\n",
    "plt.subplot(2,2,1)\n",
    "plt.plot(history.history['loss'], label = 'Loss')\n",
    "plt.plot(history.history['val_loss'], label = 'val_Loss')\n",
    "plt.legend()\n",
    "plt.grid()\n",
    "plt.title('Evolução de perda (Loss Evolution)')\n",
    "\n",
    "plt.subplot(2,2,2)\n",
    "plt.plot(history.history['accuracy'], label = 'Accuracy')\n",
    "plt.plot(history.history['val_accuracy'], label = 'val_accuracy')\n",
    "plt.legend()\n",
    "plt.grid()\n",
    "plt.title('Evolução de precisão (Accurary Evolution)')"
   ]
  },
  {
   "cell_type": "markdown",
   "metadata": {},
   "source": [
    "##### Usar o modelo CNN treinado para fazer previsões sobre os dados de teste invisíveis"
   ]
  },
  {
   "cell_type": "code",
   "execution_count": null,
   "metadata": {},
   "outputs": [],
   "source": [
    "predicted_classes = model.predict_classes(xTest)\n",
    "pred2 = np.zeros(shape=(7172,))\n",
    "\n",
    "for i in range(7172):\n",
    "    if(predicted_classes[i]>=9):\n",
    "        pred2[i] = predicted_classes[i] + 1\n",
    "    else:\n",
    "        pred2[i] = predicted_classes[i]\n",
    "pred2 = pred2.astype(int)"
   ]
  },
  {
   "cell_type": "markdown",
   "metadata": {},
   "source": [
    "##### Visualização das previsoes dos rótulos das classes para as imagens de teste do modelo da CNN"
   ]
  },
  {
   "cell_type": "code",
   "execution_count": null,
   "metadata": {},
   "outputs": [],
   "source": [
    "fig, axes = plt.subplots(5, 5, figsize = (12,12)) \n",
    "axes = axes.ravel() \n",
    "for i in np.arange (0, 5*5):\n",
    "    if (predicted_classes[i] >= 9):\n",
    "        axes[i].imshow(xTest[i].reshape(28,28)) \n",
    "        axes[i].set_title(\"Prediction Class = {0} \\n True Class = {1}\".format(pred2[i], yTest2[i])) \n",
    "        axes[i].axis('off') \n",
    "    else:\n",
    "        axes[i].imshow(xTest[i].reshape(28,28)) \n",
    "        axes[i].set_title(\"Prediction Class = {0} \\n True Class = {1}\".format(pred2[i], yTest2[i])) \n",
    "        axes[i].axis('off') \n",
    "plt.subplots_adjust(wspace = 0.5)"
   ]
  },
  {
   "cell_type": "raw",
   "metadata": {},
   "source": [
    "##### Visualização do relatório completo de classificação, usando matrizes de confusão normalizadas e não nor"
   ]
  },
  {
   "cell_type": "code",
   "execution_count": null,
   "metadata": {},
   "outputs": [],
   "source": [
    "# A matriz de confusão precisa de rótulos e previsões como dígitos únicos, não como vetores codificados por um ponto\n",
    "predicted_classes = model.predict_classes(xTest, batch_size=128, verbose=0)\n",
    "rounded_labels=np.argmax(yTest, axis=1)\n",
    "cm = metrics.confusion_matrix(rounded_labels, predicted_classes)"
   ]
  },
  {
   "cell_type": "markdown",
   "metadata": {},
   "source": [
    "##### Definir a função para o gráfico da matriz de confusão"
   ]
  },
  {
   "cell_type": "code",
   "execution_count": null,
   "metadata": {},
   "outputs": [],
   "source": [
    "def plot_confusion_matrix(y_true, y_pred, classes, normalize=False, title=None, cmap=plt.cm.Blues):\n",
    "    if not title:\n",
    "        if normalize:\n",
    "            title = 'Normalized confusion matrix'\n",
    "        else:\n",
    "            title = 'Confusion matrix, without normalization'\n",
    "\n",
    "    # matriz de confusao\n",
    "    cm = confusion_matrix(y_true, y_pred)\n",
    "    if normalize:\n",
    "        cm = cm.astype('float') / cm.sum(axis=1)[:, np.newaxis]\n",
    "        print(\"Normalized confusion matrix\")\n",
    "    else:\n",
    "        print('Confusion matrix, without normalization')\n",
    "\n",
    "    # visualizacao\n",
    "    fig, ax = plt.subplots(figsize=(10, 10))\n",
    "    im = ax.imshow(cm, interpolation='nearest', cmap=cmap)\n",
    "    ax.figure.colorbar(im, ax=ax)\n",
    "    ax.set(xticks=np.arange(cm.shape[1]), yticks=np.arange(cm.shape[0]), xticklabels=classes, yticklabels=classes, title=title, ylabel='True label', xlabel='Predicted label')\n",
    "\n",
    "    # girar os rótulos e definir o alinhamento\n",
    "    plt.setp(ax.get_xticklabels(), rotation=45, ha=\"right\", rotation_mode=\"anchor\")\n",
    "    \n",
    "    # loop sobre dimensoes de dados e criar anotacoes de texto\n",
    "    fmt = '.2f' if normalize else 'd'\n",
    "    thresh = cm.max() / 2.\n",
    "    for i in range(cm.shape[0]):\n",
    "        for j in range(cm.shape[1]):\n",
    "            ax.text(j, i, format(cm[i, j], fmt),\n",
    "                    ha=\"center\", va=\"center\",\n",
    "                    color=\"white\" if cm[i, j] > thresh else \"black\")\n",
    "    fig.tight_layout()\n",
    "    return ax\n",
    "\n",
    "np.set_printoptions(precision=2)"
   ]
  },
  {
   "cell_type": "markdown",
   "metadata": {},
   "source": [
    "##### Matriz de confusão não normalizada"
   ]
  },
  {
   "cell_type": "code",
   "execution_count": null,
   "metadata": {},
   "outputs": [],
   "source": [
    "plt.figure(figsize=(20,20))\n",
    "plot_confusion_matrix(rounded_labels, predicted_classes, classes = class_name, title='Non-Normalized Confusion matrix')\n",
    "plt.show()"
   ]
  },
  {
   "cell_type": "markdown",
   "metadata": {},
   "source": [
    "##### Matriz de confusão normalizada"
   ]
  },
  {
   "cell_type": "code",
   "execution_count": null,
   "metadata": {},
   "outputs": [],
   "source": [
    "plt.figure(figsize=(35,35))\n",
    "plot_confusion_matrix(rounded_labels, predicted_classes, classes = class_name, normalize=True, title='Normalized Confusion matrix')\n",
    "plt.show()"
   ]
  },
  {
   "cell_type": "markdown",
   "metadata": {},
   "source": [
    "##### Pontuação média de precisão da classificação"
   ]
  },
  {
   "cell_type": "code",
   "execution_count": null,
   "metadata": {},
   "outputs": [],
   "source": [
    "from sklearn.metrics import accuracy_score\n",
    "acc_score = accuracy_score(rounded_labels, predicted_classes)\n",
    "print('Accuracy Score = ',acc_score) \n",
    "#Accuracy Score =  0.9599832682654769  100 epo _ 0,2 drop\n",
    "#Accuracy Score =  0.954127161182376 -  50 epo _ 0,2 drop\n",
    "#Accuracy Score =  0.9421360847741216 - 20 epo _ 0,2 drop\n",
    "#Accuracy Score =  0.34313998884551034 - 20 epo_ 0,5 drop\n",
    "#Accuracy Score =  0.899888455103179 - 50 epos _ 0,5 drop\n",
    "#Accuracy Score =  0.8467651979921919 - 20 epo _ 0,0 drop\n",
    "#Accuracy Score =  0.8931957612939208 - 50 epo _ 00 drop"
   ]
  },
  {
   "cell_type": "markdown",
   "metadata": {},
   "source": [
    "O modelo treinado obteve uma precisão de cerca de 95,16%. Isso é muito bom. No entanto, é possível obter uma precisão muito maior ajustando os parâmetros que foram usados.\n",
    "\n",
    "Esta percentagem significa que, para este modelo poder reconhecer corretamente a qual alfabeto um gesto de mão se refere na linguagem de sinais quase 92 vezes para cada 100 imagens! Ou seja, dada uma imagem 28x28 de um gesto de mão como entrada, é altamente provável que nosso modelo identifique o que é corretamente.\n",
    "\n",
    "Para entender melhor os pontos fortes e fracos desse modelo, criamos uma matriz de confusão."
   ]
  },
  {
   "cell_type": "code",
   "execution_count": null,
   "metadata": {},
   "outputs": [],
   "source": [
    "def classify(image):\n",
    "    image = cv2.resize(image, (28, 28))\n",
    "    image = image.astype(\"float\") / 255.0\n",
    "    image = img_to_array(image)\n",
    "    image = np.expand_dims(image, axis = 0)\n",
    "    proba = model.predict(image)\n",
    "    idx = np.argmax(proba)\n",
    "    return class_name[idx]"
   ]
  },
  {
   "cell_type": "code",
   "execution_count": null,
   "metadata": {},
   "outputs": [],
   "source": [
    "classify(xTrain[2]*255)"
   ]
  },
  {
   "cell_type": "code",
   "execution_count": null,
   "metadata": {},
   "outputs": [],
   "source": [
    "print(yTrain2[0])"
   ]
  },
  {
   "cell_type": "code",
   "execution_count": null,
   "metadata": {},
   "outputs": [],
   "source": []
  }
 ],
 "metadata": {
  "kernelspec": {
   "display_name": "Python 3",
   "language": "python",
   "name": "python3"
  },
  "language_info": {
   "codemirror_mode": {
    "name": "ipython",
    "version": 3
   },
   "file_extension": ".py",
   "mimetype": "text/x-python",
   "name": "python",
   "nbconvert_exporter": "python",
   "pygments_lexer": "ipython3",
   "version": "3.8.5"
  }
 },
 "nbformat": 4,
 "nbformat_minor": 4
}

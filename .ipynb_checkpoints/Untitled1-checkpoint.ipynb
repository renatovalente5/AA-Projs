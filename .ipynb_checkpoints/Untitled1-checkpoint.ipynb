{
 "cells": [
  {
   "cell_type": "markdown",
   "metadata": {},
   "source": [
    "## Load Data"
   ]
  },
  {
   "cell_type": "markdown",
   "metadata": {},
   "source": [
    "O ficheiro *sign_mnist_test.csv* contém 7172 exemplos de teste de gestos.\n",
    "\n",
    "Os dados de teste (7172 casos) têm uma linha de cabeçalho de rótulo, pixel1, pixel2 ... pixel784 que representa uma única imagem de 28x28 pixels com valores em tons de cinza entre 0-255. Os dados de imagem do gesto de mão original representavam vários utilizadores repetindo o gesto em diferentes fundos.\n",
    "\n",
    "Cada um desses exemplos de teste torna-se uma única linha no array X. Isso dá uma (7172, 785) forma X, onde em cada linha estão os pixels de uma imagem.\n",
    "\n",
    "Y é um vetor de forma (7172, 1) dos rótulos do conjunto de teste. Os dados foram rotulados da seguinte maneira: o índice 0 corresponde a A, o índice 1 corresponde a B, o índice 2 corresponde a C e assim sucessivamente. É de saliantar que não existe dados para os índice 9 e 25, uma vez que estes gestos apresentam movimentos."
   ]
  },
  {
   "cell_type": "code",
   "execution_count": 33,
   "metadata": {},
   "outputs": [],
   "source": [
    "#Import relevant libraries\n",
    "import numpy as np\n",
    "import pandas as pd\n",
    "import matplotlib.pyplot as plt\n",
    "from scipy.io import loadmat\n",
    "import sys\n",
    "#import cv2 as cv\n",
    "from PIL import Image\n",
    "import itertools\n",
    "from sklearn.svm import SVC\n",
    "from sklearn.neural_network import MLPClassifier\n",
    "from sklearn.datasets import make_classification\n",
    "from sklearn.model_selection import train_test_split"
   ]
  },
  {
   "cell_type": "code",
   "execution_count": 8,
   "metadata": {},
   "outputs": [
    {
     "name": "stdout",
     "output_type": "stream",
     "text": [
      "Data with label -> (7172, 785)\n",
      "[[  6 149 149 ... 112 120 107]\n",
      " [  5 126 128 ... 184 182 180]\n",
      " [ 10  85  88 ... 225 224 222]\n",
      " ...\n",
      " [  2 190 191 ... 211 209 208]\n",
      " [  4 201 205 ...  67  70  63]\n",
      " [  2 173 174 ... 195 193 192]] \n",
      "\n"
     ]
    }
   ],
   "source": [
    "# get data from \"sign_mnist_test.csv\" \n",
    "data=pd.read_csv(\"sign_mnist_test.csv\")\n",
    "data.head()\n",
    "# transform <class 'pandas.core.frame.DataFrame'> to <class 'numpy.ndarray'>\n",
    "data = data.to_numpy()\n",
    "print(\"Data with label ->\", data.shape)\n",
    "print(data, \"\\n\")"
   ]
  },
  {
   "cell_type": "code",
   "execution_count": 10,
   "metadata": {},
   "outputs": [
    {
     "name": "stdout",
     "output_type": "stream",
     "text": [
      "Array of labels -> (7172,)\n",
      "[ 6  5 10 ...  2  4  2] \n",
      "\n"
     ]
    }
   ],
   "source": [
    "# get array of labels (first column of data)\n",
    "labels = data[:,0]\n",
    "#y = y.reshape(7172,1)\n",
    "#print(list(set(y[:, 0])))  #[1, 2, 3, 4, 5, 6, 7, 8, 9, 10]\n",
    "print(\"Array of labels ->\", labels.shape)\n",
    "print(labels, \"\\n\")"
   ]
  },
  {
   "cell_type": "code",
   "execution_count": null,
   "metadata": {},
   "outputs": [],
   "source": [
    "# get number of testing examples\n",
    "for i in range(data.shape[0]):\n",
    "    if (data[i][0] == 0):\n",
    "        data[i][0] = 30\n",
    "    #print(data[i])"
   ]
  },
  {
   "cell_type": "code",
   "execution_count": 11,
   "metadata": {},
   "outputs": [
    {
     "name": "stdout",
     "output_type": "stream",
     "text": [
      "Data without label -> (7172, 784)\n",
      "[[149. 149. 150. ... 112. 120. 107.]\n",
      " [126. 128. 131. ... 184. 182. 180.]\n",
      " [ 85.  88.  92. ... 225. 224. 222.]\n",
      " ...\n",
      " [190. 191. 190. ... 211. 209. 208.]\n",
      " [201. 205. 208. ...  67.  70.  63.]\n",
      " [173. 174. 173. ... 195. 193. 192.]] \n",
      "\n",
      "\n"
     ]
    }
   ],
   "source": [
    "# get data without labels\n",
    "dataWoutLabel = np.empty(shape=[0, 784])\n",
    "for i in range(7172):\n",
    "    npArr = data[i]\n",
    "    npArr = npArr[1:]\n",
    "    npArr = npArr.reshape(1,784)\n",
    "    dataWoutLabel = np.append(dataWoutLabel, npArr, axis=0)\n",
    "print(\"Data without label ->\", dataWoutLabel.shape)\n",
    "print(dataWoutLabel, \"\\n\\n\")"
   ]
  },
  {
   "cell_type": "markdown",
   "metadata": {},
   "source": [
    "********************************************************************************************************************************************************************"
   ]
  },
  {
   "cell_type": "markdown",
   "metadata": {},
   "source": [
    "## SVM training"
   ]
  },
  {
   "cell_type": "markdown",
   "metadata": {},
   "source": [
    "**Scikit-learn** (sklearn) é uma biblioteca de machine learning gratuita para Python, que possui vários algoritmos e oferece suporte a bibliotecas numéricas e científicas do Python.\n",
    "\n",
    "**sklearn.svm** importa a função SVC para treinar o classificador SVM. Foi escolhido o kernel linear para treinar com diferentes valores do parâmetro C (para C = 1, C = 100).\n",
    "\n",
    "O **parâmetro C** é um valor positivo que controla a penalidade para exemplos de treinamento classificados incorretamente. C desempenha um papel semelhante a 1/lambda onde lambda é o parâmetro de regularização usado para a regressão logística. Um C grande diz ao SVM para tentar classificar todos os exemplos corretamente. \n",
    "\n",
    "Quando C = 1, o SVM coloca o limite de decisão na lacuna entre os dois conjuntos de dados e classifica *incorretamente* o ponto de dados na extrema esquerda.\n",
    "\n",
    "Quando C = 100, o SVM agora classifica todos os exemplos *corretamente*, mas tem um limite de decisão que não parece ser um ajuste de dados natural."
   ]
  },
  {
   "cell_type": "code",
   "execution_count": 31,
   "metadata": {},
   "outputs": [
    {
     "name": "stdout",
     "output_type": "stream",
     "text": [
      "Vogal -> (7172,)\n",
      "[False False False ... False  True False] \n",
      "\n",
      "Consoante -> (7172,)\n",
      "[ True  True  True ...  True False  True] \n",
      "\n"
     ]
    },
    {
     "data": {
      "text/plain": [
       "<matplotlib.legend.Legend at 0x2310320cd30>"
      ]
     },
     "execution_count": 31,
     "metadata": {},
     "output_type": "execute_result"
    },
    {
     "data": {
      "image/png": "[encoded data removed]",
      "text/plain": [
       "<Figure size 432x288 with 1 Axes>"
      ]
     },
     "metadata": {
      "needs_background": "light"
     },
     "output_type": "display_data"
    }
   ],
   "source": [
    "vogal = np.logical_or((labels==30),np.logical_or((labels==4),np.logical_or((labels==8),np.logical_or((labels==14),(labels==20)))))\n",
    "consoante = np.logical_not(np.logical_or((labels==30),np.logical_or((labels==4),np.logical_or((labels==8),np.logical_or((labels==14),(labels==20))))))\n",
    "\n",
    "print(\"Vogal ->\", vogal.shape)\n",
    "print(vogal, \"\\n\")\n",
    "vogal = vogal.reshape(7172,1)\n",
    "\n",
    "print(\"Consoante ->\", consoante.shape)\n",
    "print(consoante, \"\\n\")\n",
    "consoante = consoante.reshape(7172,1)\n",
    "\n",
    "plt.scatter(dataWoutLabel[vogal[:,0],0],dataWoutLabel[vogal[:,0],1],c=\"r\",marker=\"o\")\n",
    "plt.scatter(dataWoutLabel[consoante[:,0],0],dataWoutLabel[consoante[:,0],1],c=\"b\",marker=\"+\")\n",
    "plt.legend([\"Vogal\",\"Consoante\"])"
   ]
  },
  {
   "cell_type": "code",
   "execution_count": null,
   "metadata": {},
   "outputs": [
    {
     "name": "stdout",
     "output_type": "stream",
     "text": [
      "C=1 -> 1.0\n",
      "C=50 -> 1.0\n"
     ]
    }
   ],
   "source": [
    "# Test C = 1\n",
    "classifier = SVC(C=1, kernel=\"linear\")\n",
    "classifier.fit(dataWoutLabel,np.ravel(labels))\n",
    "print(\"C=1 -> Score:\",classifier.score(dataWoutLabel,labels))\n",
    "\n",
    "# Test C = 50\n",
    "classifier = SVC(C=50, kernel=\"linear\")\n",
    "classifier.fit(dataWoutLabel,np.ravel(labels))\n",
    "print(\"C=50 -> Score:\",classifier.score(dataWoutLabel,labels))\n",
    "\n",
    "# Test C = 100\n",
    "classifier = SVC(C=100, kernel=\"linear\")\n",
    "classifier.fit(dataWoutLabel,np.ravel(labels))\n",
    "print(\"C=100 -> Score:\", classifier.score(dataWoutLabel,labels))"
   ]
  },
  {
   "cell_type": "code",
   "execution_count": null,
   "metadata": {},
   "outputs": [],
   "source": [
    "#plt.figure(figsize=(6,4))\n",
    "#plt.scatter(X[pos[:,0],0],X[pos[:,0],1],c=\"r\",marker=\"+\",s=50)\n",
    "#plt.scatter(X[neg[:,0],0],X[neg[:,0],1],c=\"y\",marker=\"o\",s=50)\n",
    "\n",
    "pos=(y==1)\n",
    "neg=(y==0)\n",
    "print(pos.shape)\n",
    "print (neg.shape)\n",
    "\n",
    "plt.scatter(X[pos[:,0],0],X[pos[:,0],1],c=\"r\",marker=\"+\")\n",
    "plt.scatter(X[neg[:,0],0],X[neg[:,0],1],c=\"b\",marker=\"o\")\n",
    "plt.legend([\"Positive examples\",\"Negative examples\"])\n",
    "\n",
    "# plotting the decision boundary\n",
    "num=100\n",
    "X_1,X_2 = np.meshgrid(np.linspace(X[:,0].min(),X[:,1].max(),num),np.linspace(X[:,1].min(),X[:,1].max(),num))\n",
    "print(X_1.shape)\n",
    "print(X_2.shape)\n",
    "plt.contour(X_1,X_2,classifier.predict(np.array([X_1.ravel(),X_2.ravel()]).T).reshape(X_1.shape),1,colors=\"y\")\n",
    "\n",
    "\n",
    "#X_1, X_2 are num x num matrices \n",
    "#X_1.ravel() #is (num*num,) 1d array\n",
    "#np.array([X_1.ravel(),X_2.ravel()]) #is (2,num*num) array\n",
    "#classifier.predict(np.array([X_1.ravel(),X_2.ravel()]).T) #=> (num*num,) 1d binary array (0 or 1) \n",
    "#plt.contour(X_1 ( num x num) ,X_2 ( num x num), Z(num x num), levels)\n",
    "#plt.xlim(-1,5)\n",
    "#plt.ylim(-1,5)\n",
    "\n",
    "print(X_1.shape)\n",
    "\n",
    "print(X_2.shape)\n",
    "\n",
    "print(X_1.ravel().shape)  #is (num*num,) 1d array"
   ]
  },
  {
   "cell_type": "code",
   "execution_count": null,
   "metadata": {},
   "outputs": [],
   "source": []
  }
 ],
 "metadata": {
  "kernelspec": {
   "display_name": "Python 3",
   "language": "python",
   "name": "python3"
  },
  "language_info": {
   "codemirror_mode": {
    "name": "ipython",
    "version": 3
   },
   "file_extension": ".py",
   "mimetype": "text/x-python",
   "name": "python",
   "nbconvert_exporter": "python",
   "pygments_lexer": "ipython3",
   "version": "3.8.5"
  }
 },
 "nbformat": 4,
 "nbformat_minor": 4
}

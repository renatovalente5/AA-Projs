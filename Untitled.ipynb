{
 "cells": [
  {
   "cell_type": "markdown",
   "metadata": {},
   "source": [
    "# Compreender a Língua Gestual Americana"
   ]
  },
  {
   "cell_type": "markdown",
   "metadata": {},
   "source": [
    "**Problema**: A compreensão da língua gestual não é uma habilidade universal. Por esse motivo, construir um sistema que reconheça os gestos das mãos pode ser muito útil para facilitar a lacuna de comunicação entre indivíduos."
   ]
  },
  {
   "cell_type": "code",
   "execution_count": 6,
   "metadata": {},
   "outputs": [],
   "source": [
    "#Import relevant libraries\n",
    "import numpy as np\n",
    "import pandas as pd\n",
    "import matplotlib.pyplot as plt\n",
    "from scipy.io import loadmat\n",
    "import sys\n",
    "#import cv2 as cv\n",
    "from PIL import Image\n",
    "import itertools"
   ]
  },
  {
   "cell_type": "markdown",
   "metadata": {},
   "source": [
    "### Load Data\n",
    "O ficheiro *sign_mnist_test.csv* contém 7172 exemplos de teste de gestos.\n",
    "\n",
    "Os dados de teste (7172 casos) têm uma linha de cabeçalho de rótulo, pixel1, pixel2 ... pixel784 que representa uma única imagem de 28x28 pixels com valores em tons de cinza entre 0-255. Os dados de imagem do gesto de mão original representavam vários utilizadores repetindo o gesto em diferentes fundos.\n",
    "\n",
    "Cada um desses exemplos de teste torna-se uma única linha no array X. Isso dá uma (7172, 785) forma X, onde em cada linha estão os pixels de uma imagem.\n",
    "\n",
    "Y é um vetor de forma (7172, 1) dos rótulos do conjunto de teste. Os dados foram rotulados da seguinte maneira: o índice 0 corresponde a *A*, o índice 1 corresponde a *B*, o índice 2 corresponde a *C* e assim sucessivamente. É de saliantar que não existe dados para os índice 9 e 25, uma vez que estes gestos apresentam movimentos."
   ]
  },
  {
   "cell_type": "code",
   "execution_count": 7,
   "metadata": {},
   "outputs": [
    {
     "data": {
      "text/html": [
       "<div>\n",
       "<style scoped>\n",
       "    .dataframe tbody tr th:only-of-type {\n",
       "        vertical-align: middle;\n",
       "    }\n",
       "\n",
       "    .dataframe tbody tr th {\n",
       "        vertical-align: top;\n",
       "    }\n",
       "\n",
       "    .dataframe thead th {\n",
       "        text-align: right;\n",
       "    }\n",
       "</style>\n",
       "<table border=\"1\" class=\"dataframe\">\n",
       "  <thead>\n",
       "    <tr style=\"text-align: right;\">\n",
       "      <th></th>\n",
       "      <th>label</th>\n",
       "      <th>pixel1</th>\n",
       "      <th>pixel2</th>\n",
       "      <th>pixel3</th>\n",
       "      <th>pixel4</th>\n",
       "      <th>pixel5</th>\n",
       "      <th>pixel6</th>\n",
       "      <th>pixel7</th>\n",
       "      <th>pixel8</th>\n",
       "      <th>pixel9</th>\n",
       "      <th>...</th>\n",
       "      <th>pixel775</th>\n",
       "      <th>pixel776</th>\n",
       "      <th>pixel777</th>\n",
       "      <th>pixel778</th>\n",
       "      <th>pixel779</th>\n",
       "      <th>pixel780</th>\n",
       "      <th>pixel781</th>\n",
       "      <th>pixel782</th>\n",
       "      <th>pixel783</th>\n",
       "      <th>pixel784</th>\n",
       "    </tr>\n",
       "  </thead>\n",
       "  <tbody>\n",
       "    <tr>\n",
       "      <th>0</th>\n",
       "      <td>6</td>\n",
       "      <td>149</td>\n",
       "      <td>149</td>\n",
       "      <td>150</td>\n",
       "      <td>150</td>\n",
       "      <td>150</td>\n",
       "      <td>151</td>\n",
       "      <td>151</td>\n",
       "      <td>150</td>\n",
       "      <td>151</td>\n",
       "      <td>...</td>\n",
       "      <td>138</td>\n",
       "      <td>148</td>\n",
       "      <td>127</td>\n",
       "      <td>89</td>\n",
       "      <td>82</td>\n",
       "      <td>96</td>\n",
       "      <td>106</td>\n",
       "      <td>112</td>\n",
       "      <td>120</td>\n",
       "      <td>107</td>\n",
       "    </tr>\n",
       "    <tr>\n",
       "      <th>1</th>\n",
       "      <td>5</td>\n",
       "      <td>126</td>\n",
       "      <td>128</td>\n",
       "      <td>131</td>\n",
       "      <td>132</td>\n",
       "      <td>133</td>\n",
       "      <td>134</td>\n",
       "      <td>135</td>\n",
       "      <td>135</td>\n",
       "      <td>136</td>\n",
       "      <td>...</td>\n",
       "      <td>47</td>\n",
       "      <td>104</td>\n",
       "      <td>194</td>\n",
       "      <td>183</td>\n",
       "      <td>186</td>\n",
       "      <td>184</td>\n",
       "      <td>184</td>\n",
       "      <td>184</td>\n",
       "      <td>182</td>\n",
       "      <td>180</td>\n",
       "    </tr>\n",
       "    <tr>\n",
       "      <th>2</th>\n",
       "      <td>10</td>\n",
       "      <td>85</td>\n",
       "      <td>88</td>\n",
       "      <td>92</td>\n",
       "      <td>96</td>\n",
       "      <td>105</td>\n",
       "      <td>123</td>\n",
       "      <td>135</td>\n",
       "      <td>143</td>\n",
       "      <td>147</td>\n",
       "      <td>...</td>\n",
       "      <td>68</td>\n",
       "      <td>166</td>\n",
       "      <td>242</td>\n",
       "      <td>227</td>\n",
       "      <td>230</td>\n",
       "      <td>227</td>\n",
       "      <td>226</td>\n",
       "      <td>225</td>\n",
       "      <td>224</td>\n",
       "      <td>222</td>\n",
       "    </tr>\n",
       "    <tr>\n",
       "      <th>3</th>\n",
       "      <td>0</td>\n",
       "      <td>203</td>\n",
       "      <td>205</td>\n",
       "      <td>207</td>\n",
       "      <td>206</td>\n",
       "      <td>207</td>\n",
       "      <td>209</td>\n",
       "      <td>210</td>\n",
       "      <td>209</td>\n",
       "      <td>210</td>\n",
       "      <td>...</td>\n",
       "      <td>154</td>\n",
       "      <td>248</td>\n",
       "      <td>247</td>\n",
       "      <td>248</td>\n",
       "      <td>253</td>\n",
       "      <td>236</td>\n",
       "      <td>230</td>\n",
       "      <td>240</td>\n",
       "      <td>253</td>\n",
       "      <td>255</td>\n",
       "    </tr>\n",
       "    <tr>\n",
       "      <th>4</th>\n",
       "      <td>3</td>\n",
       "      <td>188</td>\n",
       "      <td>191</td>\n",
       "      <td>193</td>\n",
       "      <td>195</td>\n",
       "      <td>199</td>\n",
       "      <td>201</td>\n",
       "      <td>202</td>\n",
       "      <td>203</td>\n",
       "      <td>203</td>\n",
       "      <td>...</td>\n",
       "      <td>26</td>\n",
       "      <td>40</td>\n",
       "      <td>64</td>\n",
       "      <td>48</td>\n",
       "      <td>29</td>\n",
       "      <td>46</td>\n",
       "      <td>49</td>\n",
       "      <td>46</td>\n",
       "      <td>46</td>\n",
       "      <td>53</td>\n",
       "    </tr>\n",
       "  </tbody>\n",
       "</table>\n",
       "<p>5 rows × 785 columns</p>\n",
       "</div>"
      ],
      "text/plain": [
       "   label  pixel1  pixel2  pixel3  pixel4  pixel5  pixel6  pixel7  pixel8  \\\n",
       "0      6     149     149     150     150     150     151     151     150   \n",
       "1      5     126     128     131     132     133     134     135     135   \n",
       "2     10      85      88      92      96     105     123     135     143   \n",
       "3      0     203     205     207     206     207     209     210     209   \n",
       "4      3     188     191     193     195     199     201     202     203   \n",
       "\n",
       "   pixel9  ...  pixel775  pixel776  pixel777  pixel778  pixel779  pixel780  \\\n",
       "0     151  ...       138       148       127        89        82        96   \n",
       "1     136  ...        47       104       194       183       186       184   \n",
       "2     147  ...        68       166       242       227       230       227   \n",
       "3     210  ...       154       248       247       248       253       236   \n",
       "4     203  ...        26        40        64        48        29        46   \n",
       "\n",
       "   pixel781  pixel782  pixel783  pixel784  \n",
       "0       106       112       120       107  \n",
       "1       184       184       182       180  \n",
       "2       226       225       224       222  \n",
       "3       230       240       253       255  \n",
       "4        49        46        46        53  \n",
       "\n",
       "[5 rows x 785 columns]"
      ]
     },
     "execution_count": 7,
     "metadata": {},
     "output_type": "execute_result"
    }
   ],
   "source": [
    "# Import data from \"sign_mnist_test.csv\"\n",
    "data=pd.read_csv(\"sign_mnist_test.csv\")     # [7172 rows x 785 columns] --> Type : <class 'pandas.core.frame.DataFrame'>\n",
    "data.head()\n",
    "#data.describe()"
   ]
  },
  {
   "cell_type": "code",
   "execution_count": 8,
   "metadata": {},
   "outputs": [
    {
     "name": "stdout",
     "output_type": "stream",
     "text": [
      "Data with label (7172, 785)\n",
      "[[  6 149 149 ... 112 120 107]\n",
      " [  5 126 128 ... 184 182 180]\n",
      " [ 10  85  88 ... 225 224 222]\n",
      " ...\n",
      " [  2 190 191 ... 211 209 208]\n",
      " [  4 201 205 ...  67  70  63]\n",
      " [  2 173 174 ... 195 193 192]] \n",
      "\n"
     ]
    }
   ],
   "source": [
    "# Transform <class 'pandas.core.frame.DataFrame'> to <class 'numpy.ndarray'>\n",
    "X = data.to_numpy()                 # np_array = [[6 149 149 ... 112 120 107]..[2 173 174 ... 195 193 192]] --> (7172, 785) --> Type : <class 'numpy.ndarray'>\n",
    "print(\"Data with label (7172, 785)\")\n",
    "print(X, \"\\n\")"
   ]
  },
  {
   "cell_type": "code",
   "execution_count": 9,
   "metadata": {},
   "outputs": [
    {
     "name": "stdout",
     "output_type": "stream",
     "text": [
      "Array of labels \n",
      "[[ 6]\n",
      " [ 5]\n",
      " [10]\n",
      " ...\n",
      " [ 2]\n",
      " [ 4]\n",
      " [ 2]] \n",
      "\n"
     ]
    }
   ],
   "source": [
    "# Get array of labels (first column of data)\n",
    "print(\"Array of labels \")\n",
    "y = X[:,0]\n",
    "y = y.reshape(7172,1)\n",
    "#print(list(set(y[:, 0])))  #[1, 2, 3, 4, 5, 6, 7, 8, 9, 10]\n",
    "print(y, \"\\n\")"
   ]
  },
  {
   "cell_type": "code",
   "execution_count": 38,
   "metadata": {},
   "outputs": [
    {
     "name": "stdout",
     "output_type": "stream",
     "text": [
      "7172 \n",
      "\n"
     ]
    }
   ],
   "source": [
    "# Get number of testing examples\n",
    "m = X.shape[0]\n",
    "print(m, \"\\n\")\n",
    "for i in range(m):\n",
    "    if (X[i][0] == 0):\n",
    "        X[i][0] = 25\n",
    "    #print(X[i])\n"
   ]
  },
  {
   "cell_type": "code",
   "execution_count": null,
   "metadata": {},
   "outputs": [],
   "source": []
  },
  {
   "cell_type": "code",
   "execution_count": 40,
   "metadata": {},
   "outputs": [
    {
     "name": "stdout",
     "output_type": "stream",
     "text": [
      "Data without label (7172, 784)\n"
     ]
    }
   ],
   "source": [
    "# Get array without labels -> (7172, 784)\n",
    "z = np.empty(shape=[0, 784])\n",
    "for i in range(7172):\n",
    "    npArr = X[i]\n",
    "    npArr = npArr[1:]\n",
    "    npArr = npArr.reshape(1,784)\n",
    "    z = np.append(z, npArr, axis=0)\n",
    "print(\"Data without label (7172, 784)\")\n",
    "#print(z, \"\\n\\n\")"
   ]
  },
  {
   "cell_type": "code",
   "execution_count": null,
   "metadata": {},
   "outputs": [],
   "source": [
    "# Get number of testing examples\n",
    "m = X.shape[0]\n",
    "print(m, \"\\n\")"
   ]
  },
  {
   "cell_type": "markdown",
   "metadata": {},
   "source": [
    "### Plot subset of data\n",
    "\n",
    "O código abaixo seleciona aleatoriamente 100 linhas de X, mapeia cada linha para uma imagem em tons de cinza de 28x28 pixels e exibe as imagens juntas.\n",
    "\n",
    "<img src=\"images/amer_sign3.png\" style=\"width:300px;height:200px;\">\n",
    "<caption>Fig. 1 : Examples of the American Sign Language Data Set MNIST</caption>"
   ]
  },
  {
   "cell_type": "code",
   "execution_count": null,
   "metadata": {},
   "outputs": [],
   "source": [
    "fig, axis = plt.subplots(10,10,figsize=(8,8))\n",
    "\n",
    "for i in range(10):\n",
    "    for j in range(10):\n",
    "        axis[i,j].imshow(z[np.random.randint(0,7172),:].reshape(28,28,order=\"F\"), cmap=\"gray\") "
   ]
  },
  {
   "cell_type": "markdown",
   "metadata": {},
   "source": [
    "### Computing the Cost Function\n",
    "\n",
    "Lembre-se de que a função de custo regularizada na regressão logística é:\n",
    "\n",
    "$J(\\theta) = \\frac{1}{m} \\sum_{i=1}^{m} [ -y^{(i)}log(h_{\\theta}(x^{(i)})) - (1 - y^{(i)})log(1 - (h_{\\theta}(x^{(i)}))] + \\frac{\\lambda}{2m} \\sum_{j=1}^n \\theta_j^2$\n",
    "\n",
    "Os gradientes de custo são (lembre-se de que o gradiente de $\\theta_0$ não está regularizado):\n",
    "\n",
    "$ \\frac{\\partial J(\\theta)}{\\partial \\theta_j} = \\frac{1}{m} \\sum_{i=1}^{m} (h_{\\theta}(x^{(i)}) - y^{(i)})x_j^{(i)}$ for $j=0$\n",
    "\n",
    "$ \\frac{\\partial J(\\theta)}{\\partial \\theta_j} = \\frac{1}{m} \\sum_{i=1}^{m} (h_{\\theta}(x^{(i)}) - y^{(i)})x_j^{(i)} + \\frac{\\lambda}{m}\\theta_j$ for $j\\geq 1$"
   ]
  },
  {
   "cell_type": "code",
   "execution_count": 41,
   "metadata": {},
   "outputs": [],
   "source": [
    "# Add sigmoid FUNCTION from the previous lab\n",
    "def sigmoid(z):\n",
    "    \"\"\"\n",
    "    return the sigmoid of z\n",
    "    \"\"\"\n",
    "    gz = 1/(1 + np.exp(-z))\n",
    "    \n",
    "    return gz"
   ]
  },
  {
   "cell_type": "code",
   "execution_count": 42,
   "metadata": {},
   "outputs": [],
   "source": [
    "# Add costFunctionReg FUNCTION from the previous lab (the function that computes the regularized cost and the gradients)\n",
    "def costFunctionReg(theta, X, y, Lambda):\n",
    "    \"\"\"\n",
    "    Take in numpy array of  data X, labels y and theta, to return the regularized cost function and gradients\n",
    "    of the logistic regression classifier\n",
    "    \"\"\"\n",
    "    \n",
    "    #number of training examples \n",
    "    m = y.shape[0]\n",
    "        \n",
    "    #vector of the model predictions for all training examples      \n",
    "    h = sigmoid(np.dot(X,theta)) # <--- ! NP DOT\n",
    "    \n",
    "    error = (-y * np.log(h)) - ((1-y)*np.log(1-h))\n",
    "    \n",
    "    #cost function without regularization term\n",
    "    cost = sum(error)/m\n",
    "    \n",
    "    #add regularization term to the cost function\n",
    "    regCost= cost + Lambda/(2*m) * sum(theta[1:]**2)\n",
    "    \n",
    "    #gradient of theta_0\n",
    "    grad_0= (1/m) * np.dot(X.transpose(),(h - y))[0]\n",
    "    \n",
    "    #vector of gradients of theta_j from j=1:n (adding the regularization term of the gradient)\n",
    "    grad = (1/m) * np.dot(X.transpose(),(h - y))[1:] + (Lambda/m)* theta[1:]\n",
    "       \n",
    "    # all gradients in a column vector shape\n",
    "    grad_all=np.append(grad_0,grad)\n",
    "    grad_all = grad_all.reshape((len(grad_all), 1))\n",
    "    \n",
    "    return regCost[0], grad_all"
   ]
  },
  {
   "cell_type": "code",
   "execution_count": 43,
   "metadata": {},
   "outputs": [],
   "source": [
    "# Add gradientDescent FUNCTION from the previous lab (the function that returns the optimal theta vector and J_history)\n",
    "def gradientDescent(X,y,theta,alpha,num_iters,Lambda):\n",
    "    \"\"\"\n",
    "    Take in numpy array X, y and theta and update theta by taking num_iters gradient steps\n",
    "    with learning rate of alpha\n",
    "    \n",
    "    return theta and the list of the cost of theta during each iteration\n",
    "    \"\"\"\n",
    "    J_history = []\n",
    "    \n",
    "    for i in range(num_iters):\n",
    "        \n",
    "        #call CostFunctionReg \n",
    "        cost, grad = costFunctionReg(theta, X, y, Lambda)\n",
    "        \n",
    "        #update theta\n",
    "        descent = alpha * grad ### <---- no need to multiply by 1/m since its already done in the cost function\n",
    "        theta = theta - descent\n",
    "        \n",
    "        J_history.append(cost)\n",
    "    \n",
    "    return theta , J_history"
   ]
  },
  {
   "cell_type": "markdown",
   "metadata": {},
   "source": [
    "### Classificação one-vs-all\n",
    "\n",
    "Implementação de classificação um contra todos treinando vários classificadores de regressão logística regularizada, um para cada uma das classes K no conjunto de dados MNIST.\n",
    "\n",
    "A função retorna todos os parâmetros do classificador numa matriz Kx (n + 1) * all_theta *, onde cada linha corresponde aos parâmetros de regressão logística aprendidos para uma classe.\n",
    "\n",
    "O argumento y é um vetor de rótulos de 0 a 24. Ao treinar o classificador para a classe i, transforma-se o vetor y, com forma (m, 1), num vetor binário, onde apenas para exemplos com rótulo i, y obtém valor = 1, e para todos os outros rótulos (não classe i), y obtém valor = 0."
   ]
  },
  {
   "cell_type": "code",
   "execution_count": 44,
   "metadata": {},
   "outputs": [],
   "source": [
    "def oneVsAll(X, y, initial_theta, alpha, num_iters, Lambda, K):\n",
    "    \"\"\"\n",
    "    Inputs:\n",
    "    numpy array of data X and labels y\n",
    "    initial_theta - inicialized vector of model parameters theta \n",
    "    alpha - learning rate\n",
    "    num_iters - number of iterations\n",
    "    Lambda - regularization parameter \n",
    "    K -number of classes\n",
    "    \n",
    "    ONEVSALL trains K Logistic Regression classifiers using gradient descent. \n",
    "    \n",
    "    Returns:   \n",
    "    all_theta - Kxn matrix where i-th row corresponds to the i-th classifier, n parameters\n",
    "    all_J - the evolution of cost function during each iteration (J_history) for all K classifiers\n",
    "    \n",
    "    \"\"\"\n",
    "    all_theta = []\n",
    "    all_J=[]\n",
    "    \n",
    "    #number of training examples\n",
    "    m= X.shape[0]\n",
    "   \n",
    "    #number of features\n",
    "    n= X.shape[1] # e.g. number of pixels\n",
    "    \n",
    "    # k = len(list(set(y[:, 0]))) # find more efficient solution\n",
    "    \n",
    "    # add an extra column of 1´s corresponding to xo=1 (aka intercept term)\n",
    "    X = np.append(np.ones((m,1)), X, axis=1)\n",
    "    \n",
    "    for i in range(1,K+1):\n",
    "        # IMPORTANT TO SEE np.where(y==i,1,0)\n",
    "        theta , J_history = gradientDescent(X,np.where(y==i,1,0),initial_theta,alpha,num_iters,Lambda)\n",
    "        \n",
    "        #update (extend)\n",
    "        all_theta.extend(theta)\n",
    "        \n",
    "        #update (extend)\n",
    "        all_J.extend(J_history)\n",
    "        \n",
    "    return np.array(all_theta).reshape(K,n+1), all_J # reshape just to be sure"
   ]
  },
  {
   "cell_type": "code",
   "execution_count": 45,
   "metadata": {},
   "outputs": [
    {
     "name": "stdout",
     "output_type": "stream",
     "text": [
      "(7172, 785)\n",
      "(7172, 1)\n",
      "(786, 1)\n"
     ]
    },
    {
     "name": "stderr",
     "output_type": "stream",
     "text": [
      "<ipython-input-41-7ce3f07c4cf8>:6: RuntimeWarning: overflow encountered in exp\n",
      "  gz = 1/(1 + np.exp(-z))\n",
      "<ipython-input-42-515945fd06bc>:14: RuntimeWarning: divide by zero encountered in log\n",
      "  error = (-y * np.log(h)) - ((1-y)*np.log(1-h))\n",
      "<ipython-input-42-515945fd06bc>:14: RuntimeWarning: invalid value encountered in multiply\n",
      "  error = (-y * np.log(h)) - ((1-y)*np.log(1-h))\n"
     ]
    }
   ],
   "source": [
    "K = 24\n",
    "\n",
    "# Inicialize vector theta = 0\n",
    "initial_theta = np.zeros((X.shape[1] + 1, 1))\n",
    "\n",
    "# Optimization hyper-parameters \n",
    "alpha = 1 #learning rate\n",
    "num_iters = 300\n",
    "Lambda = 0.1\n",
    "\n",
    "print(X.shape)\n",
    "print(y.shape)\n",
    "print(initial_theta.shape)\n",
    "\n",
    "\n",
    "all_theta, all_J = oneVsAll(X, y, initial_theta, alpha, num_iters, Lambda, K)"
   ]
  },
  {
   "cell_type": "code",
   "execution_count": null,
   "metadata": {},
   "outputs": [],
   "source": [
    "plt.plot(all_J)  #All classifiers\n",
    "plt.xlabel(\"Iteration\")\n",
    "plt.ylabel(\"$J(\\Theta)$\")\n",
    "plt.title(\"Cost function using Gradient Descent\")"
   ]
  },
  {
   "cell_type": "markdown",
   "metadata": {},
   "source": [
    "### Predição one-vs-all\n",
    "\n",
    "Depois de treinar o classificador um contra todos, pode-se usar para prever o dígito contido numa determinada imagem.\n",
    "\n",
    "Para cada entrada, calcula-se a probabilidade de pertencer a cada classe usando os classificadores de regressão logística treinados.\n",
    "A função * predictOneVsAll * seleciona a classe para a qual o classificador de regressão logística correspondente produz a maior probabilidade e retornará o rótulo da classe (0, 1, 2, ... ou K) como a classe atribuída para este exemplo."
   ]
  },
  {
   "cell_type": "code",
   "execution_count": 76,
   "metadata": {},
   "outputs": [],
   "source": [
    "def predictOneVsAll(all_theta, X):\n",
    "    \"\"\"\n",
    "    Using all_theta, compute the probability of image X(i) for each class and predict the label\n",
    "    \n",
    "    return a vector of prediction\n",
    "    \"\"\"\n",
    "    #number of training examples\n",
    "    m = X.shape[0]\n",
    "    \n",
    "    # add an extra column of 1´s corresponding to xo=1 (aka intercept term)\n",
    "    X = np.append(np.ones((m,1)), X, axis=1)\n",
    "    \n",
    "    predictions = np.dot (X, all_theta.T) # predictions.shape =(5000,10)\n",
    "    #np.argmax returns indices of the max element of the array in a particular axis.\n",
    "    #+1 in order to label 0 as 10. \n",
    "    return np.argmax(predictions,axis=1)+1"
   ]
  },
  {
   "cell_type": "code",
   "execution_count": 82,
   "metadata": {},
   "outputs": [
    {
     "name": "stdout",
     "output_type": "stream",
     "text": [
      "(7172, 1)\n",
      "Training Set Accuracy: 51.911554921540656 % \n",
      "\n",
      "\n"
     ]
    }
   ],
   "source": [
    "pred = predictOneVsAll(all_theta, X)\n",
    "\n",
    "#Check that pred.shape  = (5000,) => rank 1 array. You need to reshape it !!!\n",
    "#print(pred.shape)\n",
    "pred= pred.reshape(pred.shape[0], 1)\n",
    "print(pred.shape)\n",
    "\n",
    "print(\"Training Set Accuracy:\",sum(pred==y)[0]/m*100,\"% \\n\\n\")  # IMPORTANT FORMULA"
   ]
  },
  {
   "cell_type": "code",
   "execution_count": null,
   "metadata": {},
   "outputs": [],
   "source": []
  }
 ],
 "metadata": {
  "kernelspec": {
   "display_name": "Python 3",
   "language": "python",
   "name": "python3"
  },
  "language_info": {
   "codemirror_mode": {
    "name": "ipython",
    "version": 3
   },
   "file_extension": ".py",
   "mimetype": "text/x-python",
   "name": "python",
   "nbconvert_exporter": "python",
   "pygments_lexer": "ipython3",
   "version": "3.8.5"
  }
 },
 "nbformat": 4,
 "nbformat_minor": 4
}

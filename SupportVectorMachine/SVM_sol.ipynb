{
 "cells": [
  {
   "cell_type": "markdown",
   "metadata": {},
   "source": [
    "# ML Lab 5-  Support Vector Machines (SVM)\n",
    "\n",
    "Objectives: Implement Support Vector Machines (SVM) algorithm for linearly and nonlinearly separable datasets. \n",
    "\n",
    "SVM with Gaussian kernels. \n",
    "\n",
    "Cross validation to select the best SVM parameters. "
   ]
  },
  {
   "cell_type": "code",
   "execution_count": 2,
   "metadata": {},
   "outputs": [],
   "source": [
    "#Import relevant libraries\n",
    "import numpy as np\n",
    "import pandas as pd\n",
    "import matplotlib.pyplot as plt\n",
    "#to load matlab mat files\n",
    "from scipy.io import loadmat"
   ]
  },
  {
   "cell_type": "markdown",
   "metadata": {},
   "source": [
    "### PART 1 - Linearly separable Data (linear SVM)\n",
    "\n",
    "File *ex6data1.mat* consists of 2D linearly separable dataset (i.e. with linear boundary between the two classes).\n",
    "\n",
    "Use loadmat to load the training data as a dictionary with keys X and y. Extract arrays X and y. Consult the same code from Lab 4.  "
   ]
  },
  {
   "cell_type": "code",
   "execution_count": 7,
   "metadata": {},
   "outputs": [
    {
     "name": "stdout",
     "output_type": "stream",
     "text": [
      "[[1.9643   4.5957  ]\n",
      " [2.2753   3.8589  ]\n",
      " [2.9781   4.5651  ]\n",
      " [2.932    3.5519  ]\n",
      " [3.5772   2.856   ]\n",
      " [4.015    3.1937  ]\n",
      " [3.3814   3.4291  ]\n",
      " [3.9113   4.1761  ]\n",
      " [2.7822   4.0431  ]\n",
      " [2.5518   4.6162  ]\n",
      " [3.3698   3.9101  ]\n",
      " [3.1048   3.0709  ]\n",
      " [1.9182   4.0534  ]\n",
      " [2.2638   4.3706  ]\n",
      " [2.6555   3.5008  ]\n",
      " [3.1855   4.2888  ]\n",
      " [3.6579   3.8692  ]\n",
      " [3.9113   3.4291  ]\n",
      " [3.6002   3.1221  ]\n",
      " [3.0357   3.3165  ]\n",
      " [1.5841   3.3575  ]\n",
      " [2.0103   3.2039  ]\n",
      " [1.9527   2.7843  ]\n",
      " [2.2753   2.7127  ]\n",
      " [2.3099   2.9584  ]\n",
      " [2.8283   2.6309  ]\n",
      " [3.0473   2.2931  ]\n",
      " [2.4827   2.0373  ]\n",
      " [2.5057   2.3853  ]\n",
      " [1.8721   2.0577  ]\n",
      " [2.0103   2.3546  ]\n",
      " [1.2269   2.3239  ]\n",
      " [1.8951   2.9174  ]\n",
      " [1.561    3.0709  ]\n",
      " [1.5495   2.6923  ]\n",
      " [1.6878   2.4057  ]\n",
      " [1.4919   2.0271  ]\n",
      " [0.962    2.682   ]\n",
      " [1.1693   2.9276  ]\n",
      " [0.8122   2.9992  ]\n",
      " [0.9735   3.3881  ]\n",
      " [1.25     3.1937  ]\n",
      " [1.3191   3.5109  ]\n",
      " [2.2292   2.201   ]\n",
      " [2.4482   2.6411  ]\n",
      " [2.7938   1.9656  ]\n",
      " [2.091    1.6177  ]\n",
      " [2.5403   2.8867  ]\n",
      " [0.9044   3.0198  ]\n",
      " [0.76615  2.5899  ]\n",
      " [0.086405 4.1045  ]]\n",
      "[[1]\n",
      " [1]\n",
      " [1]\n",
      " [1]\n",
      " [1]\n",
      " [1]\n",
      " [1]\n",
      " [1]\n",
      " [1]\n",
      " [1]\n",
      " [1]\n",
      " [1]\n",
      " [1]\n",
      " [1]\n",
      " [1]\n",
      " [1]\n",
      " [1]\n",
      " [1]\n",
      " [1]\n",
      " [1]\n",
      " [0]\n",
      " [0]\n",
      " [0]\n",
      " [0]\n",
      " [0]\n",
      " [0]\n",
      " [0]\n",
      " [0]\n",
      " [0]\n",
      " [0]\n",
      " [0]\n",
      " [0]\n",
      " [0]\n",
      " [0]\n",
      " [0]\n",
      " [0]\n",
      " [0]\n",
      " [0]\n",
      " [0]\n",
      " [0]\n",
      " [0]\n",
      " [0]\n",
      " [0]\n",
      " [0]\n",
      " [0]\n",
      " [0]\n",
      " [0]\n",
      " [0]\n",
      " [0]\n",
      " [0]\n",
      " [1]]\n"
     ]
    }
   ],
   "source": [
    "# mat is a dict with key \"X\" for x-values, and key \"y\" for y values\n",
    "mat = loadmat(\"ex6data1.mat\")\n",
    "X = mat[\"X\"]\n",
    "y = mat[\"y\"]\n",
    "print(X)\n",
    "print(y)\n",
    "#print(X.shape)\n",
    "#print(y.shape)"
   ]
  },
  {
   "cell_type": "markdown",
   "metadata": {},
   "source": [
    "### Plotting the data\n",
    "\n",
    "Plot the data to get Fig.1. In this dataset, the positions of the positive examples (indicated with +) and the negative examples (indicated with o) suggest a natural separation indicated by the gap. However, notice that there is an outlier positive example + on the far left at about (0.1; 4.1). You will see how this outlier affects the SVM decision boundary.\n",
    "\n",
    "<img src=\"images2/f1.png\" style=\"width:350px;height:250px;\">\n",
    "<caption><center> **Fig. 1 ** : **Dataset 1 (ex6data1.mat)** </center></caption>"
   ]
  },
  {
   "cell_type": "code",
   "execution_count": 4,
   "metadata": {
    "collapsed": true,
    "jupyter": {
     "outputs_hidden": true
    }
   },
   "outputs": [
    {
     "name": "stdout",
     "output_type": "stream",
     "text": [
      "[ True  True  True  True  True  True  True  True  True  True  True  True\n",
      "  True  True  True  True  True  True  True  True False False False False\n",
      " False False False False False False False False False False False False\n",
      " False False False False False False False False False False False False\n",
      " False False  True]\n",
      "(51, 2)\n"
     ]
    },
    {
     "data": {
      "text/plain": [
       "<matplotlib.legend.Legend at 0x2e790476c70>"
      ]
     },
     "execution_count": 4,
     "metadata": {},
     "output_type": "execute_result"
    },
    {
     "data": {
      "image/png": "[encoded data removed]",
      "text/plain": [
       "<Figure size 432x288 with 1 Axes>"
      ]
     },
     "metadata": {
      "needs_background": "light"
     },
     "output_type": "display_data"
    }
   ],
   "source": [
    "# Create Fig.1. Use similar code in Lab 3.  \n",
    "pos=(y==1)\n",
    "neg=(y==0)\n",
    "print(pos[:,0])\n",
    "print(X.shape)\n",
    "plt.scatter(X[pos[:,0],0],X[pos[:,0],1],c=\"r\",marker=\"+\")\n",
    "plt.scatter(X[neg[:,0],0],X[neg[:,0],1],c=\"b\",marker=\"o\")\n",
    "plt.legend([\"Positive examples\",\"Negative examples\"])\n"
   ]
  },
  {
   "cell_type": "markdown",
   "metadata": {},
   "source": [
    "### SVM training\n",
    "\n",
    "Scikit-learn (sklearn) is a free machine learning library for Python. It features various algorithms like support vector machine, random forests k-neighbours. It also supports Python numerical and scientific libraries like NumPy and SciPy.\n",
    "\n",
    "From sklearn.svm import function SVC to train SVM classifier.\n",
    "Choose linear kernel and train with different values of parameter C (for example C=1, C=100). \n",
    "\n",
    "C parameter is a positive value that controls the penalty for misclassified training examples. A large C tells the SVM to try to classify all examples correctly. C plays a role similar to $1/\\lambda$ where $\\lambda$ is the regularization parameter used for Logistic Regression. \n",
    "\n",
    "When C = 1, you should find that SVM puts the decision boundary in the gap between the two datasets and misclassifies the data point on the far left. \n",
    "\n",
    "When C = 100, you should find that the SVM now classifies every single example correctly, but has a decision boundary that does not appear to be a natural data fit. \n"
   ]
  },
  {
   "cell_type": "code",
   "execution_count": 5,
   "metadata": {},
   "outputs": [
    {
     "name": "stdout",
     "output_type": "stream",
     "text": [
      "(51, 2)\n",
      "0.9803921568627451\n"
     ]
    }
   ],
   "source": [
    "from sklearn.svm import SVC\n",
    "#SVC? to get on-line help\n",
    "\n",
    "# Test C = 1\n",
    "\n",
    "classifier = SVC(C=1, kernel=\"linear\")\n",
    "#np.ravel(y) returns a flattened 1-D array. It is suggested by python instead of classifier.fit(X,y)\n",
    "#print(y.shape)  => (51,1) - 2d array\n",
    "#print(np.ravel(y).shape) => (51,) 1d array \n",
    "print(X.shape)\n",
    "classifier.fit(X,np.ravel(y))\n",
    "print(classifier.score(X,y))  #ANSWER arround 98% accuracy"
   ]
  },
  {
   "cell_type": "markdown",
   "metadata": {},
   "source": [
    "### Visualising the Training set results"
   ]
  },
  {
   "cell_type": "code",
   "execution_count": 12,
   "metadata": {},
   "outputs": [
    {
     "name": "stdout",
     "output_type": "stream",
     "text": [
      "(100, 100)\n",
      "(100, 100)\n",
      "(10000,)\n"
     ]
    },
    {
     "data": {
      "image/png": "[encoded data removed]",
      "text/plain": [
       "<Figure size 432x288 with 1 Axes>"
      ]
     },
     "metadata": {
      "needs_background": "light"
     },
     "output_type": "display_data"
    }
   ],
   "source": [
    "#plt.figure(figsize=(6,4))\n",
    "#plt.scatter(X[pos[:,0],0],X[pos[:,0],1],c=\"r\",marker=\"+\",s=50)\n",
    "#plt.scatter(X[neg[:,0],0],X[neg[:,0],1],c=\"y\",marker=\"o\",s=50)\n",
    "\n",
    "pos=(y==1)\n",
    "neg=(y==0)\n",
    "plt.scatter(X[pos[:,0],0],X[pos[:,0],1],c=\"r\",marker=\"+\")\n",
    "plt.scatter(X[neg[:,0],0],X[neg[:,0],1],c=\"b\",marker=\"o\")\n",
    "plt.legend([\"Positive examples\",\"Negative examples\"])\n",
    "\n",
    "# plotting the decision boundary\n",
    "num=100\n",
    "X_1,X_2 = np.meshgrid(np.linspace(X[:,0].min(),X[:,1].max(),num),np.linspace(X[:,1].min(),X[:,1].max(),num))\n",
    "plt.contour(X_1,X_2,classifier.predict(np.array([X_1.ravel(),X_2.ravel()]).T).reshape(X_1.shape),1,colors=\"y\")\n",
    "\n",
    "#X_1, X_2 are num x num matrices \n",
    "#X_1.ravel() #is (num*num,) 1d array\n",
    "#np.array([X_1.ravel(),X_2.ravel()]) #is (2,num*num) array\n",
    "#classifier.predict(np.array([X_1.ravel(),X_2.ravel()]).T) #=> (num*num,) 1d binary array (0 or 1) \n",
    "#plt.contour(X_1 ( num x num) ,X_2 ( num x num), Z(num x num), levels)\n",
    "#plt.xlim(-1,5)\n",
    "#plt.ylim(-1,5)\n",
    "\n",
    "print(X_1.shape)\n",
    "print(X_2.shape)\n",
    "print(X_1.ravel().shape)  #is (num*num,) 1d array"
   ]
  },
  {
   "cell_type": "code",
   "execution_count": 6,
   "metadata": {},
   "outputs": [
    {
     "name": "stdout",
     "output_type": "stream",
     "text": [
      "1.0\n"
     ]
    }
   ],
   "source": [
    "# Test C = 100\n",
    "classifier2 = SVC(C=100,kernel=\"linear\")\n",
    "classifier2.fit(X,np.ravel(y))\n",
    "print(classifier2.score(X,y)) #ANSWER arround 100% accuracy"
   ]
  },
  {
   "cell_type": "code",
   "execution_count": 7,
   "metadata": {},
   "outputs": [
    {
     "data": {
      "text/plain": [
       "<matplotlib.contour.QuadContourSet at 0x15039846fd0>"
      ]
     },
     "execution_count": 7,
     "metadata": {},
     "output_type": "execute_result"
    },
    {
     "data": {
      "image/png": "[encoded data removed]",
      "text/plain": [
       "<Figure size 432x288 with 1 Axes>"
      ]
     },
     "metadata": {},
     "output_type": "display_data"
    }
   ],
   "source": [
    "#plt.figure(figsize=(6,4))\n",
    "#plt.scatter(X[pos[:,0],0],X[pos[:,0],1],c=\"r\",marker=\"+\",s=50)\n",
    "#plt.scatter(X[neg[:,0],0],X[neg[:,0],1],c=\"y\",marker=\"o\",s=50)\n",
    "\n",
    "pos=(y==1)\n",
    "neg=(y==0)\n",
    "plt.scatter(X[pos[:,0],0],X[pos[:,0],1],c=\"r\",marker=\"+\")\n",
    "plt.scatter(X[neg[:,0],0],X[neg[:,0],1],c=\"b\",marker=\"o\")\n",
    "#plt.legend([\"Positive examples\",\"Negative examples\"])\n",
    "\n",
    "# plotting the decision boundary\n",
    "X_3,X_4 = np.meshgrid(np.linspace(X[:,0].min(),X[:,1].max(),num=100),np.linspace(X[:,1].min(),X[:,1].max(),num=100))\n",
    "plt.contour(X_3,X_4,classifier2.predict(np.array([X_3.ravel(),X_4.ravel()]).T).reshape(X_3.shape),1,colors=\"y\")\n",
    "#plt.xlim(0,4.5)\n",
    "#plt.ylim(1.5,5)"
   ]
  },
  {
   "cell_type": "markdown",
   "metadata": {},
   "source": [
    "### PART 2 - Nonlinearly separable data  (SVM with Gaussian Kernels)\n",
    "\n",
    "Load data from file ex6data2.mat and get arrays X and y. "
   ]
  },
  {
   "cell_type": "code",
   "execution_count": 7,
   "metadata": {},
   "outputs": [],
   "source": [
    "mat2 = loadmat(\"ex6data2.mat\")\n",
    "X2 = mat2[\"X\"]\n",
    "y2 = mat2[\"y\"]"
   ]
  },
  {
   "cell_type": "markdown",
   "metadata": {},
   "source": [
    "### Plotting the data\n",
    "\n",
    "Plot the data to get Fig.2. From the figure, you can observe that there is nonlinear decision boundary that separates the + and - examples for this dataset. By using SVM with Gaussian kernel, you will be able to learn a nonlinear decision boundary that fits better this data set.\n",
    "\n",
    "<img src=\"images/f2.png\" style=\"width:350px;height:250px;\">\n",
    "<caption><center> **Fig.2 ** : **Dataset 2 (ex6data2.mat)** </center></caption>"
   ]
  },
  {
   "cell_type": "code",
   "execution_count": 8,
   "metadata": {},
   "outputs": [
    {
     "data": {
      "text/plain": [
       "<matplotlib.legend.Legend at 0x233ea3a1dd8>"
      ]
     },
     "execution_count": 8,
     "metadata": {},
     "output_type": "execute_result"
    },
    {
     "data": {
      "image/png": "[encoded data removed]",
      "text/plain": [
       "<Figure size 432x288 with 1 Axes>"
      ]
     },
     "metadata": {},
     "output_type": "display_data"
    }
   ],
   "source": [
    "pos=(y2==1)\n",
    "neg=(y2==0)\n",
    "plt.scatter(X2[pos[:,0],0],X2[pos[:,0],1],c=\"r\",marker=\"+\")\n",
    "plt.scatter(X2[neg[:,0],0],X2[neg[:,0],1],c=\"b\",marker=\"o\")\n",
    "plt.legend([\"Positive examples\",\"Negative examples\"])"
   ]
  },
  {
   "cell_type": "markdown",
   "metadata": {},
   "source": [
    "### Gaussian SVM training\n",
    "\n",
    "Choose *rbf* (Radial Basis Function) kernel, which corresponds to Gaussian kernel. \n",
    "\n",
    "**gamma** parameter is the inverse of the standard deviation of the RBF kernel (gamma = $1/\\sigma$). \n",
    "**gamma** is used as a similarity measure between two points. \n",
    "\n",
    "Small gamma value defines a Gaussian function with a large variance => two points are considered similar even if they are relatively far away from each other. \n",
    "\n",
    "Large gamma value defines a Gaussian function with a small variance => two points are considered similar if they are very close to each other."
   ]
  },
  {
   "cell_type": "code",
   "execution_count": 9,
   "metadata": {},
   "outputs": [
    {
     "name": "stdout",
     "output_type": "stream",
     "text": [
      "0.9721900347624566\n"
     ]
    }
   ],
   "source": [
    "#call SVC with rbf kernel and gamma =30 and get a score of arround 97% accuracy\n",
    "classifier3 = SVC(kernel=\"rbf\",gamma=30)\n",
    "classifier3.fit(X2,y2.ravel())\n",
    "print(classifier3.score(X2,y2)) \n",
    " "
   ]
  },
  {
   "cell_type": "markdown",
   "metadata": {},
   "source": [
    "### Plot the data and the decision boundary\n",
    "\n",
    "Observe that the decision boundary is able to separate most of the positive and negative examples correctly. "
   ]
  },
  {
   "cell_type": "code",
   "execution_count": 10,
   "metadata": {},
   "outputs": [
    {
     "data": {
      "text/plain": [
       "<matplotlib.contour.QuadContourSet at 0x233ea4221d0>"
      ]
     },
     "execution_count": 10,
     "metadata": {},
     "output_type": "execute_result"
    },
    {
     "data": {
      "image/png": "[encoded data removed]",
      "text/plain": [
       "<Figure size 432x288 with 1 Axes>"
      ]
     },
     "metadata": {},
     "output_type": "display_data"
    }
   ],
   "source": [
    "pos=(y2==1)\n",
    "neg=(y2==0)\n",
    "plt.scatter(X2[pos[:,0],0],X2[pos[:,0],1],c=\"r\",marker=\"+\")\n",
    "plt.scatter(X2[neg[:,0],0],X2[neg[:,0],1],c=\"b\",marker=\"o\")\n",
    "#plt.legend([\"Positive examples\",\"Negative examples\"])\n",
    "\n",
    "# plotting the decision boundary\n",
    "num=100\n",
    "X_1,X_2 = np.meshgrid(np.linspace(X2[:,0].min(),X2[:,1].max(),num),np.linspace(X2[:,1].min(),X2[:,1].max(),num))\n",
    "plt.contour(X_1,X_2,classifier3.predict(np.array([X_1.ravel(),X_2.ravel()]).T).reshape(X_1.shape),1,colors=\"y\")\n"
   ]
  },
  {
   "cell_type": "markdown",
   "metadata": {},
   "source": [
    "### PART 3  - Nonlinear SVM with Gaussian Kernels, optimization of C and  $\\sigma$ (Dataset 3)\n",
    "\n",
    "File *ex6data3.mat* contains training data (X,y) and validation data (Xval, yval). \n",
    "Load them and plot the training data to get Fig.3. \n",
    "\n",
    "<img src=\"images/f3.png\" style=\"width:350px;height:250px;\">\n",
    "<caption><center> **Fig.3 ** : **Dataset 3 (ex6data3.mat)** </center></caption>"
   ]
  },
  {
   "cell_type": "code",
   "execution_count": 14,
   "metadata": {},
   "outputs": [],
   "source": [
    "mat3 = loadmat(\"ex6data3.mat\")\n",
    "X3 = mat3[\"X\"]\n",
    "y3 = mat3[\"y\"]\n",
    "Xval = mat3[\"Xval\"]\n",
    "yval = mat3[\"yval\"]\n",
    "\n",
    "#print(mat3)"
   ]
  },
  {
   "cell_type": "code",
   "execution_count": 15,
   "metadata": {},
   "outputs": [
    {
     "data": {
      "text/plain": [
       "<matplotlib.legend.Legend at 0x233ea495828>"
      ]
     },
     "execution_count": 15,
     "metadata": {},
     "output_type": "execute_result"
    },
    {
     "data": {
      "image/png": "[encoded data removed]",
      "text/plain": [
       "<Figure size 432x288 with 1 Axes>"
      ]
     },
     "metadata": {},
     "output_type": "display_data"
    }
   ],
   "source": [
    "pos=(y3==1)\n",
    "neg=(y3==0)\n",
    "plt.scatter(X3[pos[:,0],0],X3[pos[:,0],1],c=\"r\",marker=\"+\")\n",
    "plt.scatter(X3[neg[:,0],0],X3[neg[:,0],1],c=\"b\",marker=\"o\")\n",
    "plt.legend([\"Positive examples\",\"Negative examples\"])"
   ]
  },
  {
   "cell_type": "markdown",
   "metadata": {},
   "source": [
    "### Hyperparameter tuning\n",
    "\n",
    "The task is to use the validation set Xval, yval to determine the best C and  $\\sigma$ parameters. You should complete the code in *dataset3Params*, to search over the parameters C and $\\sigma$. \n",
    "\n",
    "For both C and $\\sigma$, it is suggested to try the following values (0.01; 0.03; 0.1; 0.3; 1; 3; 10; 30). \n",
    "\n",
    "Function *dataset3Params* tries all possible pairs of values for C and  $\\sigma$. For example, for the 8 values listed above, a total of 8\\^2 = 64 different models will be trained and evaluated (on the validation set). For the best parameters, the SVM should return a decision boundary similar to Fig. 4.\n",
    "\n",
    "<img src=\"images/f4.png\" style=\"width:350px;height:250px;\">\n",
    "<caption><center> **Fig.4 ** : **Dataset 3 (ex6data3.mat)** </center></caption>"
   ]
  },
  {
   "cell_type": "code",
   "execution_count": 16,
   "metadata": {},
   "outputs": [],
   "source": [
    "def dataset3Params(X, y, Xval, yval,vals):\n",
    "    \"\"\"\n",
    "    Returns your choice of C and sigma. You should complete this function to return the optimal C and \n",
    "    sigma based on a cross-validation set.\n",
    "    \"\"\"\n",
    "    acc = 0\n",
    "    best_C=0\n",
    "    best_gamma=0\n",
    "    for i in vals:\n",
    "        C= i\n",
    "        for j in vals:\n",
    "            gamma = 1/j\n",
    "            classifier = SVC(C=C,gamma=gamma)\n",
    "            classifier.fit(X,y)\n",
    "            prediction = classifier.predict(Xval)\n",
    "            score = classifier.score(Xval,yval)\n",
    "            if score>acc:\n",
    "                acc =score\n",
    "                best_C =C\n",
    "                best_gamma=gamma\n",
    "    return best_C, best_gamma"
   ]
  },
  {
   "cell_type": "code",
   "execution_count": 25,
   "metadata": {},
   "outputs": [
    {
     "name": "stdout",
     "output_type": "stream",
     "text": [
      "0.95260663507109\n",
      "0.965\n",
      "(200, 2)\n",
      "(211, 2)\n",
      "Best C: 0.3\n",
      "Best sigma: 0.01\n"
     ]
    }
   ],
   "source": [
    "vals = [0.01, 0.03, 0.1, 0.3, 1, 3, 10, 30]\n",
    "best_C, best_gamma = dataset3Params(X3, y3.ravel(), Xval, yval.ravel(),vals)\n",
    "\n",
    "classifier4 = SVC(C=best_C,gamma=best_gamma)\n",
    "classifier4.fit(X3,y3.ravel())\n",
    "\n",
    "print(classifier4.score(X3,y3)) # 95% training set accuracy\n",
    "\n",
    "print(classifier4.score(Xval,yval)) # 96.5 % validation set accuracy \n",
    "\n",
    "print(Xval.shape)\n",
    "print(X3.shape)\n",
    "\n",
    "print('Best C:', best_C)\n",
    "print('Best sigma:', 1/best_gamma)"
   ]
  },
  {
   "cell_type": "markdown",
   "metadata": {},
   "source": [
    "### Plotting the decision boundary"
   ]
  },
  {
   "cell_type": "code",
   "execution_count": 18,
   "metadata": {},
   "outputs": [
    {
     "data": {
      "text/plain": [
       "(-0.7, 0.5)"
      ]
     },
     "execution_count": 18,
     "metadata": {},
     "output_type": "execute_result"
    },
    {
     "data": {
      "image/png": "[encoded data removed]",
      "text/plain": [
       "<Figure size 432x288 with 1 Axes>"
      ]
     },
     "metadata": {},
     "output_type": "display_data"
    }
   ],
   "source": [
    "pos=(y3==1)\n",
    "neg=(y3==0)\n",
    "plt.scatter(X3[pos[:,0],0],X3[pos[:,0],1],c=\"r\",marker=\"+\")\n",
    "plt.scatter(X3[neg[:,0],0],X3[neg[:,0],1],c=\"b\",marker=\"o\")\n",
    "#plt.legend([\"Positive examples\",\"Negative examples\"])\n",
    "\n",
    "# plotting the decision boundary\n",
    "X_7,X_8 = np.meshgrid(np.linspace(X3[:,0].min(),X3[:,1].max(),num=100),np.linspace(X3[:,1].min(),X3[:,1].max(),num=100))\n",
    "plt.contour(X_7,X_8,classifier4.predict(np.array([X_7.ravel(),X_8.ravel()]).T).reshape(X_7.shape),1,colors=\"y\")\n",
    "\n",
    "plt.xlim(-0.6,0.3)\n",
    "plt.ylim(-0.7,0.5)"
   ]
  },
  {
   "cell_type": "code",
   "execution_count": 21,
   "metadata": {},
   "outputs": [],
   "source": [
    "SVC?"
   ]
  },
  {
   "cell_type": "code",
   "execution_count": 24,
   "metadata": {},
   "outputs": [],
   "source": [
    "SVC.score?"
   ]
  },
  {
   "cell_type": "code",
   "execution_count": 20,
   "metadata": {},
   "outputs": [
    {
     "name": "stdout",
     "output_type": "stream",
     "text": [
      "(200, 1)\n",
      "(51, 1)\n"
     ]
    }
   ],
   "source": [
    "print(yval.shape)\n",
    "\n",
    "print(y.shape)"
   ]
  },
  {
   "cell_type": "code",
   "execution_count": null,
   "metadata": {},
   "outputs": [],
   "source": []
  }
 ],
 "metadata": {
  "kernelspec": {
   "display_name": "Python 3",
   "language": "python",
   "name": "python3"
  },
  "language_info": {
   "codemirror_mode": {
    "name": "ipython",
    "version": 3
   },
   "file_extension": ".py",
   "mimetype": "text/x-python",
   "name": "python",
   "nbconvert_exporter": "python",
   "pygments_lexer": "ipython3",
   "version": "3.8.5"
  }
 },
 "nbformat": 4,
 "nbformat_minor": 4
}

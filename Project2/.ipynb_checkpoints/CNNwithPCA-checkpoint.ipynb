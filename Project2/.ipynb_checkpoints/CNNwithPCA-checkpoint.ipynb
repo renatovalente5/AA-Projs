{
 "cells": [
  {
   "cell_type": "code",
   "execution_count": 1,
   "metadata": {},
   "outputs": [],
   "source": [
    "import numpy as np\n",
    "\n",
    "from sklearn import svm\n",
    "from sklearn.model_selection import GridSearchCV\n",
    "from sklearn.metrics import confusion_matrix\n",
    "from sklearn import metrics\n",
    "import matplotlib.pyplot as plt\n",
    "from skimage.io import imshow\n",
    "import matplotlib.image as mpimg\n",
    "#%matplotlib inline\n",
    "\n",
    "import seaborn as sns\n",
    "from sklearn.preprocessing import LabelBinarizer\n",
    "import tensorflow.keras\n",
    "from tensorflow.keras.models import Sequential\n",
    "from tensorflow.keras.layers import Dense, Conv2D, MaxPooling2D, Flatten, Dropout\n",
    "from tensorflow.keras.preprocessing.image import img_to_array\n",
    "\n",
    "import mlxtend\n",
    "from mlxtend.frequent_patterns import apriori\n",
    "from mlxtend.frequent_patterns import association_rules"
   ]
  },
  {
   "cell_type": "code",
   "execution_count": 2,
   "metadata": {},
   "outputs": [],
   "source": [
    "# Input data files consisting of the images\n",
    "pics = np.load(\"olivetti_faces.npy\")\n",
    "labels = np.load(\"olivetti_faces_target.npy\")"
   ]
  },
  {
   "cell_type": "code",
   "execution_count": 3,
   "metadata": {},
   "outputs": [
    {
     "name": "stdout",
     "output_type": "stream",
     "text": [
      "pics:  (400, 64, 64)\n",
      "labels:  (400,)\n"
     ]
    }
   ],
   "source": [
    "print(\"pics: \", pics.shape)  #400 imagens de 64pixeis x 64pixeis\n",
    "print(\"labels: \", labels.shape)"
   ]
  },
  {
   "cell_type": "code",
   "execution_count": 4,
   "metadata": {},
   "outputs": [
    {
     "name": "stdout",
     "output_type": "stream",
     "text": [
      "X shape: (400, 4096)\n",
      "Y shape: (400,)\n"
     ]
    }
   ],
   "source": [
    "Y = labels\n",
    "X=pics.reshape(pics.shape[0], pics.shape[1]*pics.shape[2]) # reshape and store images in X\n",
    "\n",
    "print(\"X shape:\",X.shape)\n",
    "print(\"Y shape:\",Y.shape)"
   ]
  },
  {
   "cell_type": "code",
   "execution_count": 5,
   "metadata": {},
   "outputs": [
    {
     "name": "stdout",
     "output_type": "stream",
     "text": [
      "x_train:  (240, 4096)\n",
      "x_test:  (160, 4096)\n",
      "y_train:  (240,)\n",
      "y_test:  (160,)\n"
     ]
    }
   ],
   "source": [
    "#Split data for train and test purposes\n",
    "from sklearn.model_selection import train_test_split\n",
    "x_train, x_test, y_train, y_test = train_test_split(X, Y, test_size = 0.4, random_state=46)\n",
    "\n",
    "print(\"x_train: \",x_train.shape)\n",
    "print(\"x_test: \",x_test.shape)\n",
    "print(\"y_train: \",y_train.shape)\n",
    "print(\"y_test: \",y_test.shape)"
   ]
  },
  {
   "cell_type": "code",
   "execution_count": 6,
   "metadata": {},
   "outputs": [],
   "source": [
    "class_name = ('0','1','2','3','4','5','6','7','8','9','10','11','12','13','14','15','16','17','18','19','20','21','22','23','24','25','26','27','28','29','30','31','32','33','34','35','36','37','38','39')"
   ]
  },
  {
   "cell_type": "code",
   "execution_count": 7,
   "metadata": {},
   "outputs": [
    {
     "data": {
      "text/plain": [
       "([<matplotlib.axis.XTick at 0x7f170ac57cd0>,\n",
       "  <matplotlib.axis.XTick at 0x7f170ac57ca0>,\n",
       "  <matplotlib.axis.XTick at 0x7f170bd5ed60>,\n",
       "  <matplotlib.axis.XTick at 0x7f170abb1d00>,\n",
       "  <matplotlib.axis.XTick at 0x7f170abc40a0>,\n",
       "  <matplotlib.axis.XTick at 0x7f170abc45b0>,\n",
       "  <matplotlib.axis.XTick at 0x7f170abc4ac0>,\n",
       "  <matplotlib.axis.XTick at 0x7f170abc4fd0>,\n",
       "  <matplotlib.axis.XTick at 0x7f170ab4a520>,\n",
       "  <matplotlib.axis.XTick at 0x7f170ab4aa30>,\n",
       "  <matplotlib.axis.XTick at 0x7f170ab4af40>,\n",
       "  <matplotlib.axis.XTick at 0x7f170ab50490>,\n",
       "  <matplotlib.axis.XTick at 0x7f170ab509a0>,\n",
       "  <matplotlib.axis.XTick at 0x7f170ab4a580>,\n",
       "  <matplotlib.axis.XTick at 0x7f170abc4610>,\n",
       "  <matplotlib.axis.XTick at 0x7f170ab500a0>,\n",
       "  <matplotlib.axis.XTick at 0x7f170ab590a0>,\n",
       "  <matplotlib.axis.XTick at 0x7f170ab595b0>,\n",
       "  <matplotlib.axis.XTick at 0x7f170ab59ac0>,\n",
       "  <matplotlib.axis.XTick at 0x7f170ab59fd0>,\n",
       "  <matplotlib.axis.XTick at 0x7f170ab5f520>,\n",
       "  <matplotlib.axis.XTick at 0x7f170ab5fa30>,\n",
       "  <matplotlib.axis.XTick at 0x7f170ab59640>,\n",
       "  <matplotlib.axis.XTick at 0x7f170abc42b0>,\n",
       "  <matplotlib.axis.XTick at 0x7f170ab5f5b0>,\n",
       "  <matplotlib.axis.XTick at 0x7f170ab66130>,\n",
       "  <matplotlib.axis.XTick at 0x7f170ab66640>,\n",
       "  <matplotlib.axis.XTick at 0x7f170ab66b50>,\n",
       "  <matplotlib.axis.XTick at 0x7f170ab6b0a0>,\n",
       "  <matplotlib.axis.XTick at 0x7f170ab6b5b0>,\n",
       "  <matplotlib.axis.XTick at 0x7f170ab6bac0>,\n",
       "  <matplotlib.axis.XTick at 0x7f170ab66880>,\n",
       "  <matplotlib.axis.XTick at 0x7f170ab4a250>,\n",
       "  <matplotlib.axis.XTick at 0x7f170ab6b700>,\n",
       "  <matplotlib.axis.XTick at 0x7f170ab731c0>,\n",
       "  <matplotlib.axis.XTick at 0x7f170ab736d0>,\n",
       "  <matplotlib.axis.XTick at 0x7f170ab73be0>,\n",
       "  <matplotlib.axis.XTick at 0x7f170ab78130>,\n",
       "  <matplotlib.axis.XTick at 0x7f170ab78640>,\n",
       "  <matplotlib.axis.XTick at 0x7f170ab78b50>],\n",
       " [Text(0, 0, '0'),\n",
       "  Text(1, 0, '1'),\n",
       "  Text(2, 0, '2'),\n",
       "  Text(3, 0, '3'),\n",
       "  Text(4, 0, '4'),\n",
       "  Text(5, 0, '5'),\n",
       "  Text(6, 0, '6'),\n",
       "  Text(7, 0, '7'),\n",
       "  Text(8, 0, '8'),\n",
       "  Text(9, 0, '9'),\n",
       "  Text(10, 0, '10'),\n",
       "  Text(11, 0, '11'),\n",
       "  Text(12, 0, '12'),\n",
       "  Text(13, 0, '13'),\n",
       "  Text(14, 0, '14'),\n",
       "  Text(15, 0, '15'),\n",
       "  Text(16, 0, '16'),\n",
       "  Text(17, 0, '17'),\n",
       "  Text(18, 0, '18'),\n",
       "  Text(19, 0, '19'),\n",
       "  Text(20, 0, '20'),\n",
       "  Text(21, 0, '21'),\n",
       "  Text(22, 0, '22'),\n",
       "  Text(23, 0, '23'),\n",
       "  Text(24, 0, '24'),\n",
       "  Text(25, 0, '25'),\n",
       "  Text(26, 0, '26'),\n",
       "  Text(27, 0, '27'),\n",
       "  Text(28, 0, '28'),\n",
       "  Text(29, 0, '29'),\n",
       "  Text(30, 0, '30'),\n",
       "  Text(31, 0, '31'),\n",
       "  Text(32, 0, '32'),\n",
       "  Text(33, 0, '33'),\n",
       "  Text(34, 0, '34'),\n",
       "  Text(35, 0, '35'),\n",
       "  Text(36, 0, '36'),\n",
       "  Text(37, 0, '37'),\n",
       "  Text(38, 0, '38'),\n",
       "  Text(39, 0, '39')])"
      ]
     },
     "execution_count": 7,
     "metadata": {},
     "output_type": "execute_result"
    },
    {
     "data": {
      "image/png": "[encoded data removed]",
      "text/plain": [
       "<Figure size 1440x576 with 1 Axes>"
      ]
     },
     "metadata": {
      "needs_background": "light"
     },
     "output_type": "display_data"
    }
   ],
   "source": [
    "plt.figure(figsize = (20,8))\n",
    "plt.xlabel('classes')\n",
    "sns.countplot(x = Y)\n",
    "x_pos = np.arange(len(class_name))\n",
    "plt.xticks(x_pos, class_name)"
   ]
  },
  {
   "cell_type": "code",
   "execution_count": 8,
   "metadata": {},
   "outputs": [
    {
     "name": "stdout",
     "output_type": "stream",
     "text": [
      "(240, 4096)\n",
      "(160, 4096)\n",
      "(240, 64, 64, 1)\n",
      "(160, 64, 64, 1)\n"
     ]
    }
   ],
   "source": [
    "print(x_train.shape)\n",
    "print(x_test.shape)\n",
    "xTrain = np.array(x_train.reshape(-1,64,64,1))\n",
    "xTest = np.array(x_test.reshape(-1,64,64,1))\n",
    "print(xTrain.shape)\n",
    "print(xTest.shape)\n"
   ]
  },
  {
   "cell_type": "code",
   "execution_count": 9,
   "metadata": {},
   "outputs": [],
   "source": [
    "lbTrain = LabelBinarizer()\n",
    "lbTest = LabelBinarizer()\n",
    "yTrain = lbTrain.fit_transform(y_train)\n",
    "yTest = lbTest.fit_transform(y_test)"
   ]
  },
  {
   "cell_type": "code",
   "execution_count": 11,
   "metadata": {},
   "outputs": [],
   "source": [
    "from sklearn.decomposition import PCA"
   ]
  },
  {
   "cell_type": "code",
   "execution_count": 72,
   "metadata": {},
   "outputs": [
    {
     "name": "stdout",
     "output_type": "stream",
     "text": [
      "(240, 64, 64, 1)\n",
      "(240, 10, 10, 1)\n",
      "(160, 64, 64, 1)\n",
      "(160, 100)\n"
     ]
    }
   ],
   "source": [
    "k=100\n",
    "# running PCA provided with number of components to retain\n",
    "pca=PCA(n_components=k,whiten= True)\n",
    "x_transformed=pca.fit_transform(x_train)\n",
    "\n",
    "x_train_pca=x_transformed.reshape(-1,10,10,1)\n",
    "print(xTrain.shape)\n",
    "print(x_train_pca.shape)\n",
    "\n",
    "\n",
    "x_test_pca= pca.transform(x_test).reshape(-1,10,10,1)\n",
    "print(xTest.shape)\n",
    "print(x_test_pca.shape)\n"
   ]
  },
  {
   "cell_type": "code",
   "execution_count": null,
   "metadata": {},
   "outputs": [],
   "source": []
  },
  {
   "cell_type": "code",
   "execution_count": null,
   "metadata": {},
   "outputs": [],
   "source": []
  },
  {
   "cell_type": "code",
   "execution_count": null,
   "metadata": {},
   "outputs": [],
   "source": []
  },
  {
   "cell_type": "code",
   "execution_count": 73,
   "metadata": {},
   "outputs": [],
   "source": [
    "model = Sequential()\n",
    "# camada de convolução 1\n",
    "model.add(Conv2D(64, kernel_size=(3,3), activation = 'relu', input_shape=(10,10,1) ))\n",
    "#model.add(MaxPooling2D(pool_size = (2, 2)))\n",
    "\n",
    "# camada de convolução 2\n",
    "model.add(Conv2D(64, kernel_size = (3, 3), activation = 'relu'))\n",
    "#model.add(MaxPooling2D(pool_size = (2, 2)))\n",
    "model.add(Dropout(0.30))\n",
    "\n",
    "# camada de convolução 3\n",
    "model.add(Conv2D(64, kernel_size = (3, 3), activation = 'relu'))\n",
    "model.add(MaxPooling2D(pool_size = (2, 2)))\n",
    "model.add(Dropout(0.30))\n",
    "\n",
    "\n",
    "\n",
    "model.add(Flatten())\n",
    "model.add(Dense(128, activation = 'relu'))\n",
    "model.add(Dropout(0.30))\n",
    "model.add(Dense(40, activation = 'softmax')) #40 - number of classes"
   ]
  },
  {
   "cell_type": "code",
   "execution_count": 74,
   "metadata": {},
   "outputs": [],
   "source": [
    "model.compile(loss = tensorflow.keras.losses.categorical_crossentropy, optimizer=tensorflow.keras.optimizers.Adam(), metrics=['accuracy'])"
   ]
  },
  {
   "cell_type": "code",
   "execution_count": 75,
   "metadata": {},
   "outputs": [
    {
     "name": "stdout",
     "output_type": "stream",
     "text": [
      "240\n"
     ]
    }
   ],
   "source": [
    "# Let's use 15% of our training dataset to validate our model\n",
    "\n",
    "num_rows = x_train_pca.shape[0]\n",
    "print(num_rows)\n",
    "val_percent = 0.15\n",
    "val_size = int(num_rows * val_percent) #240 para validar os dados\n",
    "train_size = num_rows - val_size  #23337 para dados de traino\n",
    "\n",
    "xtrain_ds = x_train_pca[:train_size] #23337\n",
    "xval_ds = x_train_pca[train_size:] #4118\n",
    "ytrain_ds = yTrain[:train_size] #23337\n",
    "yval_ds = yTrain[train_size:] #4118"
   ]
  },
  {
   "cell_type": "code",
   "execution_count": 76,
   "metadata": {},
   "outputs": [
    {
     "name": "stdout",
     "output_type": "stream",
     "text": [
      "Epoch 1/100\n",
      "2/2 [==============================] - 1s 316ms/step - loss: 3.6876 - accuracy: 0.0333 - val_loss: 3.6864 - val_accuracy: 0.0556\n",
      "Epoch 2/100\n",
      "2/2 [==============================] - 0s 56ms/step - loss: 3.6667 - accuracy: 0.0274 - val_loss: 3.6880 - val_accuracy: 0.0000e+00\n",
      "Epoch 3/100\n",
      "2/2 [==============================] - 0s 59ms/step - loss: 3.6821 - accuracy: 0.0457 - val_loss: 3.6877 - val_accuracy: 0.0000e+00\n",
      "Epoch 4/100\n",
      "2/2 [==============================] - 0s 59ms/step - loss: 3.6489 - accuracy: 0.0418 - val_loss: 3.6867 - val_accuracy: 0.0278\n",
      "Epoch 5/100\n",
      "2/2 [==============================] - 0s 66ms/step - loss: 3.6424 - accuracy: 0.0659 - val_loss: 3.6847 - val_accuracy: 0.0278\n",
      "Epoch 6/100\n",
      "2/2 [==============================] - 0s 59ms/step - loss: 3.6224 - accuracy: 0.0490 - val_loss: 3.6815 - val_accuracy: 0.0000e+00\n",
      "Epoch 7/100\n",
      "2/2 [==============================] - 0s 60ms/step - loss: 3.6249 - accuracy: 0.0600 - val_loss: 3.6789 - val_accuracy: 0.0000e+00\n",
      "Epoch 8/100\n",
      "2/2 [==============================] - 0s 69ms/step - loss: 3.6080 - accuracy: 0.0509 - val_loss: 3.6783 - val_accuracy: 0.0278\n",
      "Epoch 9/100\n",
      "2/2 [==============================] - 0s 58ms/step - loss: 3.5890 - accuracy: 0.0783 - val_loss: 3.6768 - val_accuracy: 0.0278\n",
      "Epoch 10/100\n",
      "2/2 [==============================] - 0s 63ms/step - loss: 3.5573 - accuracy: 0.0927 - val_loss: 3.6795 - val_accuracy: 0.0278\n",
      "Epoch 11/100\n",
      "2/2 [==============================] - 0s 63ms/step - loss: 3.5622 - accuracy: 0.0653 - val_loss: 3.6868 - val_accuracy: 0.0000e+00\n",
      "Epoch 12/100\n",
      "2/2 [==============================] - 0s 71ms/step - loss: 3.5162 - accuracy: 0.0999 - val_loss: 3.6937 - val_accuracy: 0.0000e+00\n",
      "Epoch 13/100\n",
      "2/2 [==============================] - 0s 69ms/step - loss: 3.4818 - accuracy: 0.0887 - val_loss: 3.6978 - val_accuracy: 0.0000e+00\n",
      "Epoch 14/100\n",
      "2/2 [==============================] - 0s 62ms/step - loss: 3.4814 - accuracy: 0.0744 - val_loss: 3.6918 - val_accuracy: 0.0000e+00\n",
      "Epoch 15/100\n",
      "2/2 [==============================] - 0s 72ms/step - loss: 3.4650 - accuracy: 0.0999 - val_loss: 3.6743 - val_accuracy: 0.0278\n",
      "Epoch 16/100\n",
      "2/2 [==============================] - 0s 79ms/step - loss: 3.3616 - accuracy: 0.1501 - val_loss: 3.6566 - val_accuracy: 0.0556\n",
      "Epoch 17/100\n",
      "2/2 [==============================] - 0s 59ms/step - loss: 3.4231 - accuracy: 0.1344 - val_loss: 3.6460 - val_accuracy: 0.0833\n",
      "Epoch 18/100\n",
      "2/2 [==============================] - 0s 60ms/step - loss: 3.3104 - accuracy: 0.1521 - val_loss: 3.6363 - val_accuracy: 0.0833\n",
      "Epoch 19/100\n",
      "2/2 [==============================] - 0s 54ms/step - loss: 3.2436 - accuracy: 0.1795 - val_loss: 3.6217 - val_accuracy: 0.0833\n",
      "Epoch 20/100\n",
      "2/2 [==============================] - 0s 61ms/step - loss: 3.2551 - accuracy: 0.1456 - val_loss: 3.6059 - val_accuracy: 0.0833\n",
      "Epoch 21/100\n",
      "2/2 [==============================] - 0s 60ms/step - loss: 3.1921 - accuracy: 0.1860 - val_loss: 3.5982 - val_accuracy: 0.0833\n",
      "Epoch 22/100\n",
      "2/2 [==============================] - 0s 59ms/step - loss: 3.1607 - accuracy: 0.1658 - val_loss: 3.6165 - val_accuracy: 0.0833\n",
      "Epoch 23/100\n",
      "2/2 [==============================] - 0s 64ms/step - loss: 3.0792 - accuracy: 0.2174 - val_loss: 3.6249 - val_accuracy: 0.0833\n",
      "Epoch 24/100\n",
      "2/2 [==============================] - 0s 61ms/step - loss: 2.9961 - accuracy: 0.2591 - val_loss: 3.5880 - val_accuracy: 0.0833\n",
      "Epoch 25/100\n",
      "2/2 [==============================] - 0s 56ms/step - loss: 2.8729 - accuracy: 0.2970 - val_loss: 3.5299 - val_accuracy: 0.0556\n",
      "Epoch 26/100\n",
      "2/2 [==============================] - 0s 65ms/step - loss: 2.7751 - accuracy: 0.3100 - val_loss: 3.5036 - val_accuracy: 0.1111\n",
      "Epoch 27/100\n",
      "2/2 [==============================] - 0s 61ms/step - loss: 2.7851 - accuracy: 0.2722 - val_loss: 3.4793 - val_accuracy: 0.1389\n",
      "Epoch 28/100\n",
      "2/2 [==============================] - 0s 61ms/step - loss: 2.7289 - accuracy: 0.2807 - val_loss: 3.4434 - val_accuracy: 0.1389\n",
      "Epoch 29/100\n",
      "2/2 [==============================] - 0s 61ms/step - loss: 2.5530 - accuracy: 0.3362 - val_loss: 3.4162 - val_accuracy: 0.1944\n",
      "Epoch 30/100\n",
      "2/2 [==============================] - 0s 57ms/step - loss: 2.4751 - accuracy: 0.3714 - val_loss: 3.3990 - val_accuracy: 0.1667\n",
      "Epoch 31/100\n",
      "2/2 [==============================] - 0s 60ms/step - loss: 2.3333 - accuracy: 0.4001 - val_loss: 3.4016 - val_accuracy: 0.1667\n",
      "Epoch 32/100\n",
      "2/2 [==============================] - 0s 60ms/step - loss: 2.3232 - accuracy: 0.3662 - val_loss: 3.4000 - val_accuracy: 0.2500\n",
      "Epoch 33/100\n",
      "2/2 [==============================] - 0s 73ms/step - loss: 2.1886 - accuracy: 0.4157 - val_loss: 3.3407 - val_accuracy: 0.2778\n",
      "Epoch 34/100\n",
      "2/2 [==============================] - 0s 58ms/step - loss: 2.0700 - accuracy: 0.4145 - val_loss: 3.2487 - val_accuracy: 0.3056\n",
      "Epoch 35/100\n",
      "2/2 [==============================] - 0s 56ms/step - loss: 1.9578 - accuracy: 0.4484 - val_loss: 3.2204 - val_accuracy: 0.2778\n",
      "Epoch 36/100\n",
      "2/2 [==============================] - 0s 55ms/step - loss: 1.9013 - accuracy: 0.5065 - val_loss: 3.2494 - val_accuracy: 0.2500\n",
      "Epoch 37/100\n",
      "2/2 [==============================] - 0s 56ms/step - loss: 1.8437 - accuracy: 0.5384 - val_loss: 3.2062 - val_accuracy: 0.2778\n",
      "Epoch 38/100\n",
      "2/2 [==============================] - 0s 64ms/step - loss: 1.6797 - accuracy: 0.4896 - val_loss: 3.1555 - val_accuracy: 0.3333\n",
      "Epoch 39/100\n",
      "2/2 [==============================] - 0s 55ms/step - loss: 1.6699 - accuracy: 0.5568 - val_loss: 3.1303 - val_accuracy: 0.3333\n",
      "Epoch 40/100\n",
      "2/2 [==============================] - 0s 60ms/step - loss: 1.5400 - accuracy: 0.5783 - val_loss: 3.1259 - val_accuracy: 0.3333\n",
      "Epoch 41/100\n",
      "2/2 [==============================] - 0s 59ms/step - loss: 1.4344 - accuracy: 0.5737 - val_loss: 3.1521 - val_accuracy: 0.3611\n",
      "Epoch 42/100\n",
      "2/2 [==============================] - 0s 58ms/step - loss: 1.4169 - accuracy: 0.6397 - val_loss: 3.0925 - val_accuracy: 0.3889\n",
      "Epoch 43/100\n",
      "2/2 [==============================] - 0s 54ms/step - loss: 1.3135 - accuracy: 0.6730 - val_loss: 3.0299 - val_accuracy: 0.3611\n",
      "Epoch 44/100\n",
      "2/2 [==============================] - 0s 63ms/step - loss: 1.3121 - accuracy: 0.6410 - val_loss: 2.9951 - val_accuracy: 0.3333\n",
      "Epoch 45/100\n",
      "2/2 [==============================] - 0s 60ms/step - loss: 1.1522 - accuracy: 0.6632 - val_loss: 3.0035 - val_accuracy: 0.3333\n",
      "Epoch 46/100\n",
      "2/2 [==============================] - 0s 56ms/step - loss: 1.1565 - accuracy: 0.6860 - val_loss: 3.0668 - val_accuracy: 0.3889\n",
      "Epoch 47/100\n",
      "2/2 [==============================] - 0s 55ms/step - loss: 1.0326 - accuracy: 0.7252 - val_loss: 3.1369 - val_accuracy: 0.3611\n",
      "Epoch 48/100\n",
      "2/2 [==============================] - 0s 54ms/step - loss: 1.0082 - accuracy: 0.7572 - val_loss: 3.1191 - val_accuracy: 0.3889\n",
      "Epoch 49/100\n",
      "2/2 [==============================] - 0s 61ms/step - loss: 0.8500 - accuracy: 0.8022 - val_loss: 3.0117 - val_accuracy: 0.3889\n",
      "Epoch 50/100\n",
      "2/2 [==============================] - 0s 59ms/step - loss: 0.8963 - accuracy: 0.7474 - val_loss: 2.8789 - val_accuracy: 0.4444\n",
      "Epoch 51/100\n",
      "2/2 [==============================] - 0s 59ms/step - loss: 0.8630 - accuracy: 0.7565 - val_loss: 2.8874 - val_accuracy: 0.4167\n",
      "Epoch 52/100\n",
      "2/2 [==============================] - 0s 55ms/step - loss: 0.7807 - accuracy: 0.7866 - val_loss: 2.9167 - val_accuracy: 0.4167\n",
      "Epoch 53/100\n",
      "2/2 [==============================] - 0s 53ms/step - loss: 0.7335 - accuracy: 0.8022 - val_loss: 2.9760 - val_accuracy: 0.4167\n",
      "Epoch 54/100\n",
      "2/2 [==============================] - 0s 59ms/step - loss: 0.7535 - accuracy: 0.7715 - val_loss: 3.0382 - val_accuracy: 0.4444\n",
      "Epoch 55/100\n",
      "2/2 [==============================] - 0s 62ms/step - loss: 0.7261 - accuracy: 0.7879 - val_loss: 3.0497 - val_accuracy: 0.4444\n",
      "Epoch 56/100\n",
      "2/2 [==============================] - 0s 67ms/step - loss: 0.6077 - accuracy: 0.8466 - val_loss: 2.9377 - val_accuracy: 0.4444\n",
      "Epoch 57/100\n",
      "2/2 [==============================] - 0s 57ms/step - loss: 0.6232 - accuracy: 0.8427 - val_loss: 2.8499 - val_accuracy: 0.3889\n",
      "Epoch 58/100\n",
      "2/2 [==============================] - 0s 54ms/step - loss: 0.4966 - accuracy: 0.8701 - val_loss: 2.8452 - val_accuracy: 0.4167\n",
      "Epoch 59/100\n",
      "2/2 [==============================] - 0s 56ms/step - loss: 0.4343 - accuracy: 0.8871 - val_loss: 2.8460 - val_accuracy: 0.4722\n",
      "Epoch 60/100\n",
      "2/2 [==============================] - 0s 54ms/step - loss: 0.5241 - accuracy: 0.8407 - val_loss: 2.9118 - val_accuracy: 0.4444\n",
      "Epoch 61/100\n",
      "2/2 [==============================] - 0s 67ms/step - loss: 0.5483 - accuracy: 0.8231 - val_loss: 3.0051 - val_accuracy: 0.4167\n",
      "Epoch 62/100\n",
      "2/2 [==============================] - 0s 81ms/step - loss: 0.4924 - accuracy: 0.8459 - val_loss: 3.0477 - val_accuracy: 0.4167\n",
      "Epoch 63/100\n",
      "2/2 [==============================] - 0s 54ms/step - loss: 0.5102 - accuracy: 0.8453 - val_loss: 3.0362 - val_accuracy: 0.4167\n",
      "Epoch 64/100\n",
      "2/2 [==============================] - 0s 58ms/step - loss: 0.4133 - accuracy: 0.8890 - val_loss: 2.9311 - val_accuracy: 0.4167\n",
      "Epoch 65/100\n",
      "2/2 [==============================] - 0s 56ms/step - loss: 0.3998 - accuracy: 0.8890 - val_loss: 2.8024 - val_accuracy: 0.4167\n",
      "Epoch 66/100\n",
      "2/2 [==============================] - 0s 56ms/step - loss: 0.3973 - accuracy: 0.9001 - val_loss: 2.7417 - val_accuracy: 0.4722\n",
      "Epoch 67/100\n",
      "2/2 [==============================] - 0s 59ms/step - loss: 0.5004 - accuracy: 0.8584 - val_loss: 2.8205 - val_accuracy: 0.4722\n",
      "Epoch 68/100\n",
      "2/2 [==============================] - 0s 58ms/step - loss: 0.3346 - accuracy: 0.9151 - val_loss: 2.9549 - val_accuracy: 0.4722\n",
      "Epoch 69/100\n",
      "2/2 [==============================] - 0s 60ms/step - loss: 0.3890 - accuracy: 0.8884 - val_loss: 3.0641 - val_accuracy: 0.4444\n",
      "Epoch 70/100\n",
      "2/2 [==============================] - 0s 54ms/step - loss: 0.3218 - accuracy: 0.9217 - val_loss: 3.1034 - val_accuracy: 0.4722\n",
      "Epoch 71/100\n",
      "2/2 [==============================] - 0s 52ms/step - loss: 0.3869 - accuracy: 0.8949 - val_loss: 3.0433 - val_accuracy: 0.4444\n",
      "Epoch 72/100\n",
      "2/2 [==============================] - 0s 56ms/step - loss: 0.3076 - accuracy: 0.9099 - val_loss: 3.0102 - val_accuracy: 0.4444\n",
      "Epoch 73/100\n",
      "2/2 [==============================] - 0s 57ms/step - loss: 0.2482 - accuracy: 0.9576 - val_loss: 3.0038 - val_accuracy: 0.3889\n",
      "Epoch 74/100\n",
      "2/2 [==============================] - 0s 61ms/step - loss: 0.2846 - accuracy: 0.9080 - val_loss: 3.0083 - val_accuracy: 0.4722\n",
      "Epoch 75/100\n",
      "2/2 [==============================] - 0s 58ms/step - loss: 0.2725 - accuracy: 0.9426 - val_loss: 3.0140 - val_accuracy: 0.5000\n",
      "Epoch 76/100\n",
      "2/2 [==============================] - 0s 58ms/step - loss: 0.2181 - accuracy: 0.9510 - val_loss: 3.0302 - val_accuracy: 0.5000\n",
      "Epoch 77/100\n",
      "2/2 [==============================] - 0s 59ms/step - loss: 0.4190 - accuracy: 0.8825 - val_loss: 2.9934 - val_accuracy: 0.5000\n",
      "Epoch 78/100\n",
      "2/2 [==============================] - 0s 58ms/step - loss: 0.2575 - accuracy: 0.9249 - val_loss: 2.9769 - val_accuracy: 0.4722\n",
      "Epoch 79/100\n",
      "2/2 [==============================] - 0s 60ms/step - loss: 0.2819 - accuracy: 0.9341 - val_loss: 2.9806 - val_accuracy: 0.5000\n",
      "Epoch 80/100\n",
      "2/2 [==============================] - 0s 59ms/step - loss: 0.2391 - accuracy: 0.9393 - val_loss: 3.0179 - val_accuracy: 0.5000\n",
      "Epoch 81/100\n",
      "2/2 [==============================] - 0s 55ms/step - loss: 0.1721 - accuracy: 0.9634 - val_loss: 3.0273 - val_accuracy: 0.5000\n",
      "Epoch 82/100\n",
      "2/2 [==============================] - 0s 55ms/step - loss: 0.2052 - accuracy: 0.9517 - val_loss: 3.0357 - val_accuracy: 0.5278\n",
      "Epoch 83/100\n",
      "2/2 [==============================] - 0s 56ms/step - loss: 0.2386 - accuracy: 0.9510 - val_loss: 2.9988 - val_accuracy: 0.5000\n",
      "Epoch 84/100\n",
      "2/2 [==============================] - 0s 67ms/step - loss: 0.1985 - accuracy: 0.9491 - val_loss: 2.9468 - val_accuracy: 0.4722\n",
      "Epoch 85/100\n",
      "2/2 [==============================] - 0s 55ms/step - loss: 0.2072 - accuracy: 0.9484 - val_loss: 2.9236 - val_accuracy: 0.4444\n",
      "Epoch 86/100\n",
      "2/2 [==============================] - 0s 56ms/step - loss: 0.2049 - accuracy: 0.9426 - val_loss: 2.9289 - val_accuracy: 0.4722\n",
      "Epoch 87/100\n",
      "2/2 [==============================] - 0s 56ms/step - loss: 0.2313 - accuracy: 0.9217 - val_loss: 2.9680 - val_accuracy: 0.4444\n",
      "Epoch 88/100\n",
      "2/2 [==============================] - 0s 59ms/step - loss: 0.1536 - accuracy: 0.9608 - val_loss: 2.9490 - val_accuracy: 0.4722\n",
      "Epoch 89/100\n",
      "2/2 [==============================] - 0s 57ms/step - loss: 0.1671 - accuracy: 0.9550 - val_loss: 2.9027 - val_accuracy: 0.4722\n",
      "Epoch 90/100\n",
      "2/2 [==============================] - 0s 56ms/step - loss: 0.2024 - accuracy: 0.9439 - val_loss: 2.8666 - val_accuracy: 0.5278\n",
      "Epoch 91/100\n",
      "2/2 [==============================] - 0s 57ms/step - loss: 0.1274 - accuracy: 0.9765 - val_loss: 2.8679 - val_accuracy: 0.5556\n",
      "Epoch 92/100\n",
      "2/2 [==============================] - 0s 61ms/step - loss: 0.1683 - accuracy: 0.9582 - val_loss: 2.8941 - val_accuracy: 0.5278\n",
      "Epoch 93/100\n",
      "2/2 [==============================] - 0s 56ms/step - loss: 0.1922 - accuracy: 0.9550 - val_loss: 2.9152 - val_accuracy: 0.5278\n",
      "Epoch 94/100\n",
      "2/2 [==============================] - 0s 62ms/step - loss: 0.1948 - accuracy: 0.9432 - val_loss: 2.9153 - val_accuracy: 0.5556\n",
      "Epoch 95/100\n",
      "2/2 [==============================] - 0s 56ms/step - loss: 0.1924 - accuracy: 0.9439 - val_loss: 2.9133 - val_accuracy: 0.5556\n",
      "Epoch 96/100\n",
      "2/2 [==============================] - 0s 58ms/step - loss: 0.1930 - accuracy: 0.9615 - val_loss: 2.8811 - val_accuracy: 0.5000\n",
      "Epoch 97/100\n",
      "2/2 [==============================] - 0s 62ms/step - loss: 0.1024 - accuracy: 0.9876 - val_loss: 2.9042 - val_accuracy: 0.5278\n",
      "Epoch 98/100\n",
      "2/2 [==============================] - 0s 60ms/step - loss: 0.1607 - accuracy: 0.9602 - val_loss: 2.9628 - val_accuracy: 0.5278\n",
      "Epoch 99/100\n",
      "2/2 [==============================] - 0s 59ms/step - loss: 0.1772 - accuracy: 0.9465 - val_loss: 3.0539 - val_accuracy: 0.5278\n",
      "Epoch 100/100\n",
      "2/2 [==============================] - 0s 62ms/step - loss: 0.1199 - accuracy: 0.9771 - val_loss: 3.1027 - val_accuracy: 0.5278\n"
     ]
    }
   ],
   "source": [
    "history = model.fit(xtrain_ds, ytrain_ds, validation_data = (xval_ds, yval_ds), epochs=100, batch_size=128)"
   ]
  },
  {
   "cell_type": "code",
   "execution_count": 79,
   "metadata": {},
   "outputs": [
    {
     "data": {
      "text/plain": [
       "Text(0.5, 1.0, 'Accurary Evolution (epochs=100; dropout=0.30)')"
      ]
     },
     "execution_count": 79,
     "metadata": {},
     "output_type": "execute_result"
    },
    {
     "data": {
      "image/png": "[encoded data removed]",
      "text/plain": [
       "<Figure size 1000x600 with 2 Axes>"
      ]
     },
     "metadata": {},
     "output_type": "display_data"
    }
   ],
   "source": [
    "plt.style.use('default')\n",
    "plt.figure(figsize = (10,6))\n",
    "\n",
    "plt.subplot(2,2,1)\n",
    "plt.plot(history.history['loss'], label = 'Loss')\n",
    "plt.plot(history.history['val_loss'], label = 'val_Loss')\n",
    "plt.legend()\n",
    "plt.grid()\n",
    "plt.title('Loss Evolution (epochs=100; dropout=0.30)')\n",
    "\n",
    "plt.subplot(2,2,2)\n",
    "plt.plot(history.history['accuracy'], label = 'Accuracy')\n",
    "plt.plot(history.history['val_accuracy'], label = 'val_accuracy')\n",
    "plt.legend()\n",
    "plt.grid()\n",
    "plt.title('Accurary Evolution (epochs=100; dropout=0.30)')"
   ]
  },
  {
   "cell_type": "code",
   "execution_count": 81,
   "metadata": {},
   "outputs": [
    {
     "ename": "ValueError",
     "evalue": "in user code:\n\n    /home/renato/anaconda3/lib/python3.8/site-packages/tensorflow/python/keras/engine/training.py:1478 predict_function  *\n        return step_function(self, iterator)\n    /home/renato/anaconda3/lib/python3.8/site-packages/tensorflow/python/keras/engine/training.py:1468 step_function  **\n        outputs = model.distribute_strategy.run(run_step, args=(data,))\n    /home/renato/anaconda3/lib/python3.8/site-packages/tensorflow/python/distribute/distribute_lib.py:1259 run\n        return self._extended.call_for_each_replica(fn, args=args, kwargs=kwargs)\n    /home/renato/anaconda3/lib/python3.8/site-packages/tensorflow/python/distribute/distribute_lib.py:2730 call_for_each_replica\n        return self._call_for_each_replica(fn, args, kwargs)\n    /home/renato/anaconda3/lib/python3.8/site-packages/tensorflow/python/distribute/distribute_lib.py:3417 _call_for_each_replica\n        return fn(*args, **kwargs)\n    /home/renato/anaconda3/lib/python3.8/site-packages/tensorflow/python/keras/engine/training.py:1461 run_step  **\n        outputs = model.predict_step(data)\n    /home/renato/anaconda3/lib/python3.8/site-packages/tensorflow/python/keras/engine/training.py:1434 predict_step\n        return self(x, training=False)\n    /home/renato/anaconda3/lib/python3.8/site-packages/tensorflow/python/keras/engine/base_layer.py:998 __call__\n        input_spec.assert_input_compatibility(self.input_spec, inputs, self.name)\n    /home/renato/anaconda3/lib/python3.8/site-packages/tensorflow/python/keras/engine/input_spec.py:234 assert_input_compatibility\n        raise ValueError('Input ' + str(input_index) + ' of layer ' +\n\n    ValueError: Input 0 of layer sequential_34 is incompatible with the layer: : expected min_ndim=4, found ndim=2. Full shape received: (32, 100)\n",
     "output_type": "error",
     "traceback": [
      "\u001b[0;31m---------------------------------------------------------------------------\u001b[0m",
      "\u001b[0;31mValueError\u001b[0m                                Traceback (most recent call last)",
      "\u001b[0;32m<ipython-input-81-dc86d08fad25>\u001b[0m in \u001b[0;36m<module>\u001b[0;34m\u001b[0m\n\u001b[0;32m----> 1\u001b[0;31m \u001b[0mpredicted_classes\u001b[0m \u001b[0;34m=\u001b[0m \u001b[0mmodel\u001b[0m\u001b[0;34m.\u001b[0m\u001b[0mpredict_classes\u001b[0m\u001b[0;34m(\u001b[0m\u001b[0mx_test_pca\u001b[0m\u001b[0;34m)\u001b[0m\u001b[0;34m\u001b[0m\u001b[0;34m\u001b[0m\u001b[0m\n\u001b[0m\u001b[1;32m      2\u001b[0m \u001b[0mrounded_labels\u001b[0m\u001b[0;34m=\u001b[0m\u001b[0mnp\u001b[0m\u001b[0;34m.\u001b[0m\u001b[0margmax\u001b[0m\u001b[0;34m(\u001b[0m\u001b[0myTest\u001b[0m\u001b[0;34m,\u001b[0m \u001b[0maxis\u001b[0m\u001b[0;34m=\u001b[0m\u001b[0;36m1\u001b[0m\u001b[0;34m)\u001b[0m\u001b[0;34m\u001b[0m\u001b[0;34m\u001b[0m\u001b[0m\n\u001b[1;32m      3\u001b[0m \u001b[0;34m\u001b[0m\u001b[0m\n\u001b[1;32m      4\u001b[0m \u001b[0mprint\u001b[0m\u001b[0;34m(\u001b[0m\u001b[0mpredicted_classes2\u001b[0m\u001b[0;34m)\u001b[0m\u001b[0;34m\u001b[0m\u001b[0;34m\u001b[0m\u001b[0m\n\u001b[1;32m      5\u001b[0m \u001b[0mprint\u001b[0m\u001b[0;34m(\u001b[0m\u001b[0my_test\u001b[0m\u001b[0;34m)\u001b[0m\u001b[0;34m\u001b[0m\u001b[0;34m\u001b[0m\u001b[0m\n",
      "\u001b[0;32m~/anaconda3/lib/python3.8/site-packages/tensorflow/python/keras/engine/sequential.py\u001b[0m in \u001b[0;36mpredict_classes\u001b[0;34m(self, x, batch_size, verbose)\u001b[0m\n\u001b[1;32m    457\u001b[0m                   \u001b[0;34m'  if your model does binary classification '\u001b[0m\u001b[0;34m\u001b[0m\u001b[0;34m\u001b[0m\u001b[0m\n\u001b[1;32m    458\u001b[0m                   '  (e.g. if it uses a `sigmoid` last-layer activation).')\n\u001b[0;32m--> 459\u001b[0;31m     \u001b[0mproba\u001b[0m \u001b[0;34m=\u001b[0m \u001b[0mself\u001b[0m\u001b[0;34m.\u001b[0m\u001b[0mpredict\u001b[0m\u001b[0;34m(\u001b[0m\u001b[0mx\u001b[0m\u001b[0;34m,\u001b[0m \u001b[0mbatch_size\u001b[0m\u001b[0;34m=\u001b[0m\u001b[0mbatch_size\u001b[0m\u001b[0;34m,\u001b[0m \u001b[0mverbose\u001b[0m\u001b[0;34m=\u001b[0m\u001b[0mverbose\u001b[0m\u001b[0;34m)\u001b[0m\u001b[0;34m\u001b[0m\u001b[0;34m\u001b[0m\u001b[0m\n\u001b[0m\u001b[1;32m    460\u001b[0m     \u001b[0;32mif\u001b[0m \u001b[0mproba\u001b[0m\u001b[0;34m.\u001b[0m\u001b[0mshape\u001b[0m\u001b[0;34m[\u001b[0m\u001b[0;34m-\u001b[0m\u001b[0;36m1\u001b[0m\u001b[0;34m]\u001b[0m \u001b[0;34m>\u001b[0m \u001b[0;36m1\u001b[0m\u001b[0;34m:\u001b[0m\u001b[0;34m\u001b[0m\u001b[0;34m\u001b[0m\u001b[0m\n\u001b[1;32m    461\u001b[0m       \u001b[0;32mreturn\u001b[0m \u001b[0mproba\u001b[0m\u001b[0;34m.\u001b[0m\u001b[0margmax\u001b[0m\u001b[0;34m(\u001b[0m\u001b[0maxis\u001b[0m\u001b[0;34m=\u001b[0m\u001b[0;34m-\u001b[0m\u001b[0;36m1\u001b[0m\u001b[0;34m)\u001b[0m\u001b[0;34m\u001b[0m\u001b[0;34m\u001b[0m\u001b[0m\n",
      "\u001b[0;32m~/anaconda3/lib/python3.8/site-packages/tensorflow/python/keras/engine/training.py\u001b[0m in \u001b[0;36mpredict\u001b[0;34m(self, x, batch_size, verbose, steps, callbacks, max_queue_size, workers, use_multiprocessing)\u001b[0m\n\u001b[1;32m   1627\u001b[0m           \u001b[0;32mfor\u001b[0m \u001b[0mstep\u001b[0m \u001b[0;32min\u001b[0m \u001b[0mdata_handler\u001b[0m\u001b[0;34m.\u001b[0m\u001b[0msteps\u001b[0m\u001b[0;34m(\u001b[0m\u001b[0;34m)\u001b[0m\u001b[0;34m:\u001b[0m\u001b[0;34m\u001b[0m\u001b[0;34m\u001b[0m\u001b[0m\n\u001b[1;32m   1628\u001b[0m             \u001b[0mcallbacks\u001b[0m\u001b[0;34m.\u001b[0m\u001b[0mon_predict_batch_begin\u001b[0m\u001b[0;34m(\u001b[0m\u001b[0mstep\u001b[0m\u001b[0;34m)\u001b[0m\u001b[0;34m\u001b[0m\u001b[0;34m\u001b[0m\u001b[0m\n\u001b[0;32m-> 1629\u001b[0;31m             \u001b[0mtmp_batch_outputs\u001b[0m \u001b[0;34m=\u001b[0m \u001b[0mself\u001b[0m\u001b[0;34m.\u001b[0m\u001b[0mpredict_function\u001b[0m\u001b[0;34m(\u001b[0m\u001b[0miterator\u001b[0m\u001b[0;34m)\u001b[0m\u001b[0;34m\u001b[0m\u001b[0;34m\u001b[0m\u001b[0m\n\u001b[0m\u001b[1;32m   1630\u001b[0m             \u001b[0;32mif\u001b[0m \u001b[0mdata_handler\u001b[0m\u001b[0;34m.\u001b[0m\u001b[0mshould_sync\u001b[0m\u001b[0;34m:\u001b[0m\u001b[0;34m\u001b[0m\u001b[0;34m\u001b[0m\u001b[0m\n\u001b[1;32m   1631\u001b[0m               \u001b[0mcontext\u001b[0m\u001b[0;34m.\u001b[0m\u001b[0masync_wait\u001b[0m\u001b[0;34m(\u001b[0m\u001b[0;34m)\u001b[0m\u001b[0;34m\u001b[0m\u001b[0;34m\u001b[0m\u001b[0m\n",
      "\u001b[0;32m~/anaconda3/lib/python3.8/site-packages/tensorflow/python/eager/def_function.py\u001b[0m in \u001b[0;36m__call__\u001b[0;34m(self, *args, **kwds)\u001b[0m\n\u001b[1;32m    826\u001b[0m     \u001b[0mtracing_count\u001b[0m \u001b[0;34m=\u001b[0m \u001b[0mself\u001b[0m\u001b[0;34m.\u001b[0m\u001b[0mexperimental_get_tracing_count\u001b[0m\u001b[0;34m(\u001b[0m\u001b[0;34m)\u001b[0m\u001b[0;34m\u001b[0m\u001b[0;34m\u001b[0m\u001b[0m\n\u001b[1;32m    827\u001b[0m     \u001b[0;32mwith\u001b[0m \u001b[0mtrace\u001b[0m\u001b[0;34m.\u001b[0m\u001b[0mTrace\u001b[0m\u001b[0;34m(\u001b[0m\u001b[0mself\u001b[0m\u001b[0;34m.\u001b[0m\u001b[0m_name\u001b[0m\u001b[0;34m)\u001b[0m \u001b[0;32mas\u001b[0m \u001b[0mtm\u001b[0m\u001b[0;34m:\u001b[0m\u001b[0;34m\u001b[0m\u001b[0;34m\u001b[0m\u001b[0m\n\u001b[0;32m--> 828\u001b[0;31m       \u001b[0mresult\u001b[0m \u001b[0;34m=\u001b[0m \u001b[0mself\u001b[0m\u001b[0;34m.\u001b[0m\u001b[0m_call\u001b[0m\u001b[0;34m(\u001b[0m\u001b[0;34m*\u001b[0m\u001b[0margs\u001b[0m\u001b[0;34m,\u001b[0m \u001b[0;34m**\u001b[0m\u001b[0mkwds\u001b[0m\u001b[0;34m)\u001b[0m\u001b[0;34m\u001b[0m\u001b[0;34m\u001b[0m\u001b[0m\n\u001b[0m\u001b[1;32m    829\u001b[0m       \u001b[0mcompiler\u001b[0m \u001b[0;34m=\u001b[0m \u001b[0;34m\"xla\"\u001b[0m \u001b[0;32mif\u001b[0m \u001b[0mself\u001b[0m\u001b[0;34m.\u001b[0m\u001b[0m_experimental_compile\u001b[0m \u001b[0;32melse\u001b[0m \u001b[0;34m\"nonXla\"\u001b[0m\u001b[0;34m\u001b[0m\u001b[0;34m\u001b[0m\u001b[0m\n\u001b[1;32m    830\u001b[0m       \u001b[0mnew_tracing_count\u001b[0m \u001b[0;34m=\u001b[0m \u001b[0mself\u001b[0m\u001b[0;34m.\u001b[0m\u001b[0mexperimental_get_tracing_count\u001b[0m\u001b[0;34m(\u001b[0m\u001b[0;34m)\u001b[0m\u001b[0;34m\u001b[0m\u001b[0;34m\u001b[0m\u001b[0m\n",
      "\u001b[0;32m~/anaconda3/lib/python3.8/site-packages/tensorflow/python/eager/def_function.py\u001b[0m in \u001b[0;36m_call\u001b[0;34m(self, *args, **kwds)\u001b[0m\n\u001b[1;32m    860\u001b[0m       \u001b[0;31m# In this case we have not created variables on the first call. So we can\u001b[0m\u001b[0;34m\u001b[0m\u001b[0;34m\u001b[0m\u001b[0;34m\u001b[0m\u001b[0m\n\u001b[1;32m    861\u001b[0m       \u001b[0;31m# run the first trace but we should fail if variables are created.\u001b[0m\u001b[0;34m\u001b[0m\u001b[0;34m\u001b[0m\u001b[0;34m\u001b[0m\u001b[0m\n\u001b[0;32m--> 862\u001b[0;31m       \u001b[0mresults\u001b[0m \u001b[0;34m=\u001b[0m \u001b[0mself\u001b[0m\u001b[0;34m.\u001b[0m\u001b[0m_stateful_fn\u001b[0m\u001b[0;34m(\u001b[0m\u001b[0;34m*\u001b[0m\u001b[0margs\u001b[0m\u001b[0;34m,\u001b[0m \u001b[0;34m**\u001b[0m\u001b[0mkwds\u001b[0m\u001b[0;34m)\u001b[0m\u001b[0;34m\u001b[0m\u001b[0;34m\u001b[0m\u001b[0m\n\u001b[0m\u001b[1;32m    863\u001b[0m       \u001b[0;32mif\u001b[0m \u001b[0mself\u001b[0m\u001b[0;34m.\u001b[0m\u001b[0m_created_variables\u001b[0m\u001b[0;34m:\u001b[0m\u001b[0;34m\u001b[0m\u001b[0;34m\u001b[0m\u001b[0m\n\u001b[1;32m    864\u001b[0m         raise ValueError(\"Creating variables on a non-first call to a function\"\n",
      "\u001b[0;32m~/anaconda3/lib/python3.8/site-packages/tensorflow/python/eager/function.py\u001b[0m in \u001b[0;36m__call__\u001b[0;34m(self, *args, **kwargs)\u001b[0m\n\u001b[1;32m   2939\u001b[0m     \u001b[0;32mwith\u001b[0m \u001b[0mself\u001b[0m\u001b[0;34m.\u001b[0m\u001b[0m_lock\u001b[0m\u001b[0;34m:\u001b[0m\u001b[0;34m\u001b[0m\u001b[0;34m\u001b[0m\u001b[0m\n\u001b[1;32m   2940\u001b[0m       (graph_function,\n\u001b[0;32m-> 2941\u001b[0;31m        filtered_flat_args) = self._maybe_define_function(args, kwargs)\n\u001b[0m\u001b[1;32m   2942\u001b[0m     return graph_function._call_flat(\n\u001b[1;32m   2943\u001b[0m         filtered_flat_args, captured_inputs=graph_function.captured_inputs)  # pylint: disable=protected-access\n",
      "\u001b[0;32m~/anaconda3/lib/python3.8/site-packages/tensorflow/python/eager/function.py\u001b[0m in \u001b[0;36m_maybe_define_function\u001b[0;34m(self, args, kwargs)\u001b[0m\n\u001b[1;32m   3355\u001b[0m               \u001b[0mself\u001b[0m\u001b[0;34m.\u001b[0m\u001b[0minput_signature\u001b[0m \u001b[0;32mis\u001b[0m \u001b[0;32mNone\u001b[0m \u001b[0;32mand\u001b[0m\u001b[0;34m\u001b[0m\u001b[0;34m\u001b[0m\u001b[0m\n\u001b[1;32m   3356\u001b[0m               call_context_key in self._function_cache.missed):\n\u001b[0;32m-> 3357\u001b[0;31m             return self._define_function_with_shape_relaxation(\n\u001b[0m\u001b[1;32m   3358\u001b[0m                 args, kwargs, flat_args, filtered_flat_args, cache_key_context)\n\u001b[1;32m   3359\u001b[0m \u001b[0;34m\u001b[0m\u001b[0m\n",
      "\u001b[0;32m~/anaconda3/lib/python3.8/site-packages/tensorflow/python/eager/function.py\u001b[0m in \u001b[0;36m_define_function_with_shape_relaxation\u001b[0;34m(self, args, kwargs, flat_args, filtered_flat_args, cache_key_context)\u001b[0m\n\u001b[1;32m   3277\u001b[0m           expand_composites=True)\n\u001b[1;32m   3278\u001b[0m \u001b[0;34m\u001b[0m\u001b[0m\n\u001b[0;32m-> 3279\u001b[0;31m     graph_function = self._create_graph_function(\n\u001b[0m\u001b[1;32m   3280\u001b[0m         args, kwargs, override_flat_arg_shapes=relaxed_arg_shapes)\n\u001b[1;32m   3281\u001b[0m     \u001b[0mself\u001b[0m\u001b[0;34m.\u001b[0m\u001b[0m_function_cache\u001b[0m\u001b[0;34m.\u001b[0m\u001b[0marg_relaxed\u001b[0m\u001b[0;34m[\u001b[0m\u001b[0mrank_only_cache_key\u001b[0m\u001b[0;34m]\u001b[0m \u001b[0;34m=\u001b[0m \u001b[0mgraph_function\u001b[0m\u001b[0;34m\u001b[0m\u001b[0;34m\u001b[0m\u001b[0m\n",
      "\u001b[0;32m~/anaconda3/lib/python3.8/site-packages/tensorflow/python/eager/function.py\u001b[0m in \u001b[0;36m_create_graph_function\u001b[0;34m(self, args, kwargs, override_flat_arg_shapes)\u001b[0m\n\u001b[1;32m   3194\u001b[0m     \u001b[0marg_names\u001b[0m \u001b[0;34m=\u001b[0m \u001b[0mbase_arg_names\u001b[0m \u001b[0;34m+\u001b[0m \u001b[0mmissing_arg_names\u001b[0m\u001b[0;34m\u001b[0m\u001b[0;34m\u001b[0m\u001b[0m\n\u001b[1;32m   3195\u001b[0m     graph_function = ConcreteFunction(\n\u001b[0;32m-> 3196\u001b[0;31m         func_graph_module.func_graph_from_py_func(\n\u001b[0m\u001b[1;32m   3197\u001b[0m             \u001b[0mself\u001b[0m\u001b[0;34m.\u001b[0m\u001b[0m_name\u001b[0m\u001b[0;34m,\u001b[0m\u001b[0;34m\u001b[0m\u001b[0;34m\u001b[0m\u001b[0m\n\u001b[1;32m   3198\u001b[0m             \u001b[0mself\u001b[0m\u001b[0;34m.\u001b[0m\u001b[0m_python_function\u001b[0m\u001b[0;34m,\u001b[0m\u001b[0;34m\u001b[0m\u001b[0;34m\u001b[0m\u001b[0m\n",
      "\u001b[0;32m~/anaconda3/lib/python3.8/site-packages/tensorflow/python/framework/func_graph.py\u001b[0m in \u001b[0;36mfunc_graph_from_py_func\u001b[0;34m(name, python_func, args, kwargs, signature, func_graph, autograph, autograph_options, add_control_dependencies, arg_names, op_return_value, collections, capture_by_value, override_flat_arg_shapes)\u001b[0m\n\u001b[1;32m    988\u001b[0m         \u001b[0m_\u001b[0m\u001b[0;34m,\u001b[0m \u001b[0moriginal_func\u001b[0m \u001b[0;34m=\u001b[0m \u001b[0mtf_decorator\u001b[0m\u001b[0;34m.\u001b[0m\u001b[0munwrap\u001b[0m\u001b[0;34m(\u001b[0m\u001b[0mpython_func\u001b[0m\u001b[0;34m)\u001b[0m\u001b[0;34m\u001b[0m\u001b[0;34m\u001b[0m\u001b[0m\n\u001b[1;32m    989\u001b[0m \u001b[0;34m\u001b[0m\u001b[0m\n\u001b[0;32m--> 990\u001b[0;31m       \u001b[0mfunc_outputs\u001b[0m \u001b[0;34m=\u001b[0m \u001b[0mpython_func\u001b[0m\u001b[0;34m(\u001b[0m\u001b[0;34m*\u001b[0m\u001b[0mfunc_args\u001b[0m\u001b[0;34m,\u001b[0m \u001b[0;34m**\u001b[0m\u001b[0mfunc_kwargs\u001b[0m\u001b[0;34m)\u001b[0m\u001b[0;34m\u001b[0m\u001b[0;34m\u001b[0m\u001b[0m\n\u001b[0m\u001b[1;32m    991\u001b[0m \u001b[0;34m\u001b[0m\u001b[0m\n\u001b[1;32m    992\u001b[0m       \u001b[0;31m# invariant: `func_outputs` contains only Tensors, CompositeTensors,\u001b[0m\u001b[0;34m\u001b[0m\u001b[0;34m\u001b[0m\u001b[0;34m\u001b[0m\u001b[0m\n",
      "\u001b[0;32m~/anaconda3/lib/python3.8/site-packages/tensorflow/python/eager/def_function.py\u001b[0m in \u001b[0;36mwrapped_fn\u001b[0;34m(*args, **kwds)\u001b[0m\n\u001b[1;32m    632\u001b[0m             \u001b[0mxla_context\u001b[0m\u001b[0;34m.\u001b[0m\u001b[0mExit\u001b[0m\u001b[0;34m(\u001b[0m\u001b[0;34m)\u001b[0m\u001b[0;34m\u001b[0m\u001b[0;34m\u001b[0m\u001b[0m\n\u001b[1;32m    633\u001b[0m         \u001b[0;32melse\u001b[0m\u001b[0;34m:\u001b[0m\u001b[0;34m\u001b[0m\u001b[0;34m\u001b[0m\u001b[0m\n\u001b[0;32m--> 634\u001b[0;31m           \u001b[0mout\u001b[0m \u001b[0;34m=\u001b[0m \u001b[0mweak_wrapped_fn\u001b[0m\u001b[0;34m(\u001b[0m\u001b[0;34m)\u001b[0m\u001b[0;34m.\u001b[0m\u001b[0m__wrapped__\u001b[0m\u001b[0;34m(\u001b[0m\u001b[0;34m*\u001b[0m\u001b[0margs\u001b[0m\u001b[0;34m,\u001b[0m \u001b[0;34m**\u001b[0m\u001b[0mkwds\u001b[0m\u001b[0;34m)\u001b[0m\u001b[0;34m\u001b[0m\u001b[0;34m\u001b[0m\u001b[0m\n\u001b[0m\u001b[1;32m    635\u001b[0m         \u001b[0;32mreturn\u001b[0m \u001b[0mout\u001b[0m\u001b[0;34m\u001b[0m\u001b[0;34m\u001b[0m\u001b[0m\n\u001b[1;32m    636\u001b[0m \u001b[0;34m\u001b[0m\u001b[0m\n",
      "\u001b[0;32m~/anaconda3/lib/python3.8/site-packages/tensorflow/python/framework/func_graph.py\u001b[0m in \u001b[0;36mwrapper\u001b[0;34m(*args, **kwargs)\u001b[0m\n\u001b[1;32m    975\u001b[0m           \u001b[0;32mexcept\u001b[0m \u001b[0mException\u001b[0m \u001b[0;32mas\u001b[0m \u001b[0me\u001b[0m\u001b[0;34m:\u001b[0m  \u001b[0;31m# pylint:disable=broad-except\u001b[0m\u001b[0;34m\u001b[0m\u001b[0;34m\u001b[0m\u001b[0m\n\u001b[1;32m    976\u001b[0m             \u001b[0;32mif\u001b[0m \u001b[0mhasattr\u001b[0m\u001b[0;34m(\u001b[0m\u001b[0me\u001b[0m\u001b[0;34m,\u001b[0m \u001b[0;34m\"ag_error_metadata\"\u001b[0m\u001b[0;34m)\u001b[0m\u001b[0;34m:\u001b[0m\u001b[0;34m\u001b[0m\u001b[0;34m\u001b[0m\u001b[0m\n\u001b[0;32m--> 977\u001b[0;31m               \u001b[0;32mraise\u001b[0m \u001b[0me\u001b[0m\u001b[0;34m.\u001b[0m\u001b[0mag_error_metadata\u001b[0m\u001b[0;34m.\u001b[0m\u001b[0mto_exception\u001b[0m\u001b[0;34m(\u001b[0m\u001b[0me\u001b[0m\u001b[0;34m)\u001b[0m\u001b[0;34m\u001b[0m\u001b[0;34m\u001b[0m\u001b[0m\n\u001b[0m\u001b[1;32m    978\u001b[0m             \u001b[0;32melse\u001b[0m\u001b[0;34m:\u001b[0m\u001b[0;34m\u001b[0m\u001b[0;34m\u001b[0m\u001b[0m\n\u001b[1;32m    979\u001b[0m               \u001b[0;32mraise\u001b[0m\u001b[0;34m\u001b[0m\u001b[0;34m\u001b[0m\u001b[0m\n",
      "\u001b[0;31mValueError\u001b[0m: in user code:\n\n    /home/renato/anaconda3/lib/python3.8/site-packages/tensorflow/python/keras/engine/training.py:1478 predict_function  *\n        return step_function(self, iterator)\n    /home/renato/anaconda3/lib/python3.8/site-packages/tensorflow/python/keras/engine/training.py:1468 step_function  **\n        outputs = model.distribute_strategy.run(run_step, args=(data,))\n    /home/renato/anaconda3/lib/python3.8/site-packages/tensorflow/python/distribute/distribute_lib.py:1259 run\n        return self._extended.call_for_each_replica(fn, args=args, kwargs=kwargs)\n    /home/renato/anaconda3/lib/python3.8/site-packages/tensorflow/python/distribute/distribute_lib.py:2730 call_for_each_replica\n        return self._call_for_each_replica(fn, args, kwargs)\n    /home/renato/anaconda3/lib/python3.8/site-packages/tensorflow/python/distribute/distribute_lib.py:3417 _call_for_each_replica\n        return fn(*args, **kwargs)\n    /home/renato/anaconda3/lib/python3.8/site-packages/tensorflow/python/keras/engine/training.py:1461 run_step  **\n        outputs = model.predict_step(data)\n    /home/renato/anaconda3/lib/python3.8/site-packages/tensorflow/python/keras/engine/training.py:1434 predict_step\n        return self(x, training=False)\n    /home/renato/anaconda3/lib/python3.8/site-packages/tensorflow/python/keras/engine/base_layer.py:998 __call__\n        input_spec.assert_input_compatibility(self.input_spec, inputs, self.name)\n    /home/renato/anaconda3/lib/python3.8/site-packages/tensorflow/python/keras/engine/input_spec.py:234 assert_input_compatibility\n        raise ValueError('Input ' + str(input_index) + ' of layer ' +\n\n    ValueError: Input 0 of layer sequential_34 is incompatible with the layer: : expected min_ndim=4, found ndim=2. Full shape received: (32, 100)\n"
     ]
    }
   ],
   "source": [
    "predicted_classes = model.predict_classes(xTest)\n",
    "rounded_labels=np.argmax(yTest, axis=1)\n",
    "\n",
    "print(predicted_classes2)\n",
    "print(y_test)"
   ]
  },
  {
   "cell_type": "code",
   "execution_count": null,
   "metadata": {},
   "outputs": [],
   "source": []
  }
 ],
 "metadata": {
  "kernelspec": {
   "display_name": "Python 3",
   "language": "python",
   "name": "python3"
  },
  "language_info": {
   "codemirror_mode": {
    "name": "ipython",
    "version": 3
   },
   "file_extension": ".py",
   "mimetype": "text/x-python",
   "name": "python",
   "nbconvert_exporter": "python",
   "pygments_lexer": "ipython3",
   "version": "3.8.5"
  }
 },
 "nbformat": 4,
 "nbformat_minor": 4
}

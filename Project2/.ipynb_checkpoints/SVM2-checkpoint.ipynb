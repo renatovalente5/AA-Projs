{
 "cells": [
  {
   "cell_type": "code",
   "execution_count": 17,
   "metadata": {},
   "outputs": [],
   "source": [
    "import numpy as np\n",
    "\n",
    "from sklearn import svm\n",
    "from sklearn.model_selection import GridSearchCV\n",
    "import matplotlib.pyplot as plt\n",
    "from skimage.io import imshow\n",
    "import matplotlib.image as mpimg\n",
    "#%matplotlib inline\n",
    "import seaborn as sns\n",
    "import mlxtend\n",
    "from mlxtend.frequent_patterns import apriori\n",
    "from mlxtend.frequent_patterns import association_rules\n",
    "from sklearn.preprocessing import LabelBinarizer\n",
    "import mlxtend\n",
    "from mlxtend.frequent_patterns import apriori\n",
    "from mlxtend.frequent_patterns import association_rules"
   ]
  },
  {
   "cell_type": "code",
   "execution_count": 2,
   "metadata": {},
   "outputs": [],
   "source": [
    "# Input data files consisting of the images\n",
    "pics = np.load(\"olivetti_faces.npy\")\n",
    "labels = np.load(\"olivetti_faces_target.npy\")"
   ]
  },
  {
   "cell_type": "code",
   "execution_count": 3,
   "metadata": {},
   "outputs": [
    {
     "name": "stdout",
     "output_type": "stream",
     "text": [
      "pics:  (400, 64, 64)\n",
      "labels:  (400,)\n"
     ]
    }
   ],
   "source": [
    "print(\"pics: \", pics.shape)  #400 imagens de 64pixeis x 64pixeis\n",
    "print(\"labels: \", labels.shape)"
   ]
  },
  {
   "cell_type": "code",
   "execution_count": null,
   "metadata": {},
   "outputs": [],
   "source": [
    "# Sample images of a subject\n",
    "img_cnt = 10\n",
    "plt.figure(figsize=(24,24))\n",
    "for i in range(img_cnt):\n",
    "    plt.subplot(1,10,i+1)\n",
    "    x=pics[i+360] # 4th subject\n",
    "    imshow(x)\n",
    "plt.show()"
   ]
  },
  {
   "cell_type": "code",
   "execution_count": null,
   "metadata": {},
   "outputs": [],
   "source": [
    "fig = plt.figure(figsize=(24, 10))\n",
    "columns = 10\n",
    "rows = 4\n",
    "for i in range(1, columns*rows +1):\n",
    "    img = pics[10*(i-1),:,:]\n",
    "    fig.add_subplot(rows, columns, i)\n",
    "    plt.imshow(img, cmap = plt.get_cmap('gray'))\n",
    "    plt.title(\"person {}\".format(i), fontsize=14)\n",
    "    plt.axis('off')\n",
    "    \n",
    "plt.suptitle(\"There are 40 distinct persons in the dataset\", fontsize=24)\n",
    "plt.show()"
   ]
  },
  {
   "cell_type": "code",
   "execution_count": 4,
   "metadata": {},
   "outputs": [
    {
     "name": "stdout",
     "output_type": "stream",
     "text": [
      "X shape: (400, 4096)\n",
      "Y shape: (400,)\n"
     ]
    }
   ],
   "source": [
    "Y = labels\n",
    "X=pics.reshape(pics.shape[0], pics.shape[1]*pics.shape[2]) # reshape and store images in X\n",
    "\n",
    "print(\"X shape:\",X.shape)\n",
    "print(\"Y shape:\",Y.shape)"
   ]
  },
  {
   "cell_type": "code",
   "execution_count": 5,
   "metadata": {},
   "outputs": [
    {
     "name": "stdout",
     "output_type": "stream",
     "text": [
      "x_train:  (240, 4096)\n",
      "x_test:  (160, 4096)\n",
      "y_train:  (240,)\n",
      "y_test:  (160,)\n"
     ]
    }
   ],
   "source": [
    "#Split data for train and test purposes\n",
    "from sklearn.model_selection import train_test_split\n",
    "x_train, x_test, y_train, y_test = train_test_split(X, Y, test_size = 0.4, random_state=46)\n",
    "\n",
    "print(\"x_train: \",x_train.shape)\n",
    "print(\"x_test: \",x_test.shape)\n",
    "print(\"y_train: \",y_train.shape)\n",
    "print(\"y_test: \",y_test.shape)"
   ]
  },
  {
   "cell_type": "code",
   "execution_count": 7,
   "metadata": {},
   "outputs": [
    {
     "name": "stderr",
     "output_type": "stream",
     "text": [
      "/home/renato/anaconda3/lib/python3.8/site-packages/sklearn/model_selection/_split.py:670: UserWarning: The least populated class in y has only 4 members, which is less than n_splits=5.\n",
      "  warnings.warn((\"The least populated class in y has only %d\"\n"
     ]
    },
    {
     "data": {
      "text/plain": [
       "SVC(C=100.0, gamma=0.005)"
      ]
     },
     "execution_count": 7,
     "metadata": {},
     "output_type": "execute_result"
    }
   ],
   "source": [
    "clf=svm.SVC()\n",
    "grid={\"C\":[1e2, 1e3, 5e3, 1e4, 5e4, 1e5], \"gamma\": [1e-3, 5e-4, 1e-4, 5e-3]}\n",
    "\n",
    "abc=GridSearchCV(clf,grid)\n",
    "abc.fit(x_train, y_train)\n",
    "pred=abc.predict(x_test)\n",
    "abc.best_estimator_"
   ]
  },
  {
   "cell_type": "code",
   "execution_count": 8,
   "metadata": {},
   "outputs": [
    {
     "name": "stdout",
     "output_type": "stream",
     "text": [
      "[34 15  8 12 31 27 17 25 34 28 30 35 23 10 37 10 11  1 26 25  0 17 39 32\n",
      " 33 15 17 26  8 34  0 14 18 19 28  5 29  7 37 14 29 13 11 24 29  4  4 11\n",
      " 21 13 25 27 36 24 33 19  7  5 26 14 35 12 11 38  0 26 31 38  3 34 13 36\n",
      " 18 20 10  1 32  3 23  3 22 10 28  5 27  1 39 14  4  3  7 39 10 30 35  1\n",
      " 30 38  1 20  1 10  9 21 30 35 24 11 21 15 30  2 26 21 36  6 17 32 11  6\n",
      " 20 18  7  2 33 28  6 13 15 16  5 25 38 37 22 37 21 16 39 14 25  0  6  0\n",
      " 13 17 37 37 16 22 26 36  7 24 22  8 36 19  0 38]\n",
      "[20 15  8  3 31 27 17 25 34 28 30 35 23 10 37 10 11  1 26 22  4 17 39 32\n",
      " 33 15 17 26  8 34  9 14 18 19 28  5 29  7 37 14 29 13 11 24 29  4  4 11\n",
      " 21 13 25 27 36 24 33 19  7  5 26 14 35 12 11 38 11 26 31 38  3 34 13 36\n",
      " 18 20 10  1 32  3 23  3 22 10 28  5 27  1  4 14  4  3  7 39 10 30 35  1\n",
      " 30 38  1 20  1 10  9 21 30 35 24 11 21 15 30  2 26 21 36  6 17 32 11  6\n",
      " 20 18  9  2 33 28  6 13 35 16  5 25 38 37 22 37 21 16 39 14  2 16  6  7\n",
      " 13 17 37 37 16 22 26 36  7 24 22  8 36 19  0 38]\n"
     ]
    }
   ],
   "source": [
    "print(y_test)\n",
    "print(pred)\n",
    "class_name = ('0', '1','2','3','4','5','6','7','8','9','10','11','12','13','14','15','16','17','18','19','20','21','22','23','24','25','26','27','28','29','30','31','32','33','34','35','36','37','38','39')"
   ]
  },
  {
   "cell_type": "code",
   "execution_count": 18,
   "metadata": {},
   "outputs": [
    {
     "name": "stdout",
     "output_type": "stream",
     "text": [
      "(240, 4096)\n",
      "(160, 4096)\n",
      "(240, 64, 64, 1)\n",
      "(160, 64, 64, 1)\n"
     ]
    }
   ],
   "source": [
    "print(x_train.shape)\n",
    "print(x_test.shape)\n",
    "xTrain = np.array(x_train.reshape(-1,64,64,1))\n",
    "xTest = np.array(x_test.reshape(-1,64,64,1))\n",
    "print(xTrain.shape)\n",
    "print(xTest.shape)\n",
    "\n",
    "lbTrain = LabelBinarizer()\n",
    "lbTest = LabelBinarizer()\n",
    "yTrain = lbTrain.fit_transform(y_train)\n",
    "yTest = lbTest.fit_transform(y_test)"
   ]
  },
  {
   "cell_type": "code",
   "execution_count": 21,
   "metadata": {},
   "outputs": [
    {
     "ename": "NameError",
     "evalue": "name 'metrics' is not defined",
     "output_type": "error",
     "traceback": [
      "\u001b[0;31m---------------------------------------------------------------------------\u001b[0m",
      "\u001b[0;31mNameError\u001b[0m                                 Traceback (most recent call last)",
      "\u001b[0;32m<ipython-input-21-496217fc1d7c>\u001b[0m in \u001b[0;36m<module>\u001b[0;34m\u001b[0m\n\u001b[1;32m      4\u001b[0m \u001b[0;31m#predicted_classes = model.predict_classes(xTest, batch_size=128, verbose=0)\u001b[0m\u001b[0;34m\u001b[0m\u001b[0;34m\u001b[0m\u001b[0;34m\u001b[0m\u001b[0m\n\u001b[1;32m      5\u001b[0m \u001b[0mrounded_labels\u001b[0m\u001b[0;34m=\u001b[0m\u001b[0mnp\u001b[0m\u001b[0;34m.\u001b[0m\u001b[0margmax\u001b[0m\u001b[0;34m(\u001b[0m\u001b[0myTest\u001b[0m\u001b[0;34m,\u001b[0m \u001b[0maxis\u001b[0m\u001b[0;34m=\u001b[0m\u001b[0;36m1\u001b[0m\u001b[0;34m)\u001b[0m\u001b[0;34m\u001b[0m\u001b[0;34m\u001b[0m\u001b[0m\n\u001b[0;32m----> 6\u001b[0;31m \u001b[0mcm\u001b[0m \u001b[0;34m=\u001b[0m \u001b[0mmetrics\u001b[0m\u001b[0;34m.\u001b[0m\u001b[0mconfusion_matrix\u001b[0m\u001b[0;34m(\u001b[0m\u001b[0mrounded_labels\u001b[0m\u001b[0;34m,\u001b[0m \u001b[0mpred\u001b[0m\u001b[0;34m,\u001b[0m \u001b[0mlabels\u001b[0m\u001b[0;34m=\u001b[0m\u001b[0mrange\u001b[0m\u001b[0;34m(\u001b[0m\u001b[0;36m40\u001b[0m\u001b[0;34m)\u001b[0m\u001b[0;34m)\u001b[0m\u001b[0;34m\u001b[0m\u001b[0;34m\u001b[0m\u001b[0m\n\u001b[0m\u001b[1;32m      7\u001b[0m \u001b[0;34m\u001b[0m\u001b[0m\n\u001b[1;32m      8\u001b[0m \u001b[0mprint\u001b[0m\u001b[0;34m(\u001b[0m\u001b[0mrounded_labels\u001b[0m\u001b[0;34m)\u001b[0m\u001b[0;34m\u001b[0m\u001b[0;34m\u001b[0m\u001b[0m\n",
      "\u001b[0;31mNameError\u001b[0m: name 'metrics' is not defined"
     ]
    }
   ],
   "source": [
    "#from sklearn.metrics import plot_confusion_matrix\n",
    "\n",
    "# A matriz de confusão precisa de rótulos e previsões como dígitos únicos, não como vetores codificados por um ponto\n",
    "#predicted_classes = model.predict_classes(xTest, batch_size=128, verbose=0)\n",
    "rounded_labels=np.argmax(yTest, axis=1)\n",
    "cm = metrics.confusion_matrix(rounded_labels, pred, labels=range(40))\n",
    "\n",
    "print(rounded_labels)\n",
    "print(predicted_classes)\n",
    "print(cm)"
   ]
  },
  {
   "cell_type": "code",
   "execution_count": 9,
   "metadata": {},
   "outputs": [],
   "source": [
    "def plot_confusion_matrix(y_true, y_pred, classes, normalize=False, title=None, cmap=plt.cm.Blues):\n",
    "    if not title:\n",
    "        if normalize:\n",
    "            title = 'Normalized confusion matrix'\n",
    "        else:\n",
    "            title = 'Confusion matrix, without normalization'\n",
    "\n",
    "    # matriz de confusao\n",
    "    cm = confusion_matrix(y_true, y_pred)\n",
    "    if normalize:\n",
    "        cm = cm.astype('float') / cm.sum(axis=1)[:, np.newaxis]\n",
    "        print(\"Normalized confusion matrix\")\n",
    "    else:\n",
    "        print('Confusion matrix, without normalization')\n",
    "\n",
    "    # visualizacao\n",
    "    fig, ax = plt.subplots(figsize=(10, 10))\n",
    "    im = ax.imshow(cm, interpolation='nearest', cmap=cmap)\n",
    "    ax.figure.colorbar(im, ax=ax)\n",
    "    ax.set(xticks=np.arange(cm.shape[1]), yticks=np.arange(cm.shape[0]), xticklabels=classes, yticklabels=classes, title=title, ylabel='True label', xlabel='Predicted label')\n",
    "\n",
    "    # girar os rótulos e definir o alinhamento\n",
    "    plt.setp(ax.get_xticklabels(), rotation=45, ha=\"right\", rotation_mode=\"anchor\")\n",
    "    \n",
    "    # loop sobre dimensoes de dados e criar anotacoes de texto\n",
    "    fmt = '.2f' if normalize else 'd'\n",
    "    thresh = cm.max() / 2.\n",
    "    for i in range(cm.shape[0]):\n",
    "        for j in range(cm.shape[1]):\n",
    "            ax.text(j, i, format(cm[i, j], fmt),\n",
    "                    ha=\"center\", va=\"center\",\n",
    "                    color=\"white\" if cm[i, j] > thresh else \"black\")\n",
    "    fig.tight_layout()\n",
    "    return ax\n",
    "\n",
    "np.set_printoptions(precision=2)"
   ]
  },
  {
   "cell_type": "code",
   "execution_count": 10,
   "metadata": {},
   "outputs": [
    {
     "ename": "NameError",
     "evalue": "name 'rounded_labels' is not defined",
     "output_type": "error",
     "traceback": [
      "\u001b[0;31m---------------------------------------------------------------------------\u001b[0m",
      "\u001b[0;31mNameError\u001b[0m                                 Traceback (most recent call last)",
      "\u001b[0;32m<ipython-input-10-c5e79702971b>\u001b[0m in \u001b[0;36m<module>\u001b[0;34m\u001b[0m\n\u001b[1;32m      1\u001b[0m \u001b[0mplt\u001b[0m\u001b[0;34m.\u001b[0m\u001b[0mfigure\u001b[0m\u001b[0;34m(\u001b[0m\u001b[0mfigsize\u001b[0m\u001b[0;34m=\u001b[0m\u001b[0;34m(\u001b[0m\u001b[0;36m20\u001b[0m\u001b[0;34m,\u001b[0m\u001b[0;36m20\u001b[0m\u001b[0;34m)\u001b[0m\u001b[0;34m)\u001b[0m\u001b[0;34m\u001b[0m\u001b[0;34m\u001b[0m\u001b[0m\n\u001b[0;32m----> 2\u001b[0;31m \u001b[0mplot_confusion_matrix\u001b[0m\u001b[0;34m(\u001b[0m\u001b[0mrounded_labels\u001b[0m\u001b[0;34m,\u001b[0m \u001b[0mpredicted_classes\u001b[0m\u001b[0;34m,\u001b[0m \u001b[0mclasses\u001b[0m \u001b[0;34m=\u001b[0m \u001b[0mclass_name\u001b[0m\u001b[0;34m,\u001b[0m \u001b[0mtitle\u001b[0m\u001b[0;34m=\u001b[0m\u001b[0;34m'Non-Normalized Confusion matrix'\u001b[0m\u001b[0;34m)\u001b[0m\u001b[0;34m\u001b[0m\u001b[0;34m\u001b[0m\u001b[0m\n\u001b[0m\u001b[1;32m      3\u001b[0m \u001b[0mplt\u001b[0m\u001b[0;34m.\u001b[0m\u001b[0mshow\u001b[0m\u001b[0;34m(\u001b[0m\u001b[0;34m)\u001b[0m\u001b[0;34m\u001b[0m\u001b[0;34m\u001b[0m\u001b[0m\n",
      "\u001b[0;31mNameError\u001b[0m: name 'rounded_labels' is not defined"
     ]
    },
    {
     "data": {
      "text/plain": [
       "<Figure size 1440x1440 with 0 Axes>"
      ]
     },
     "metadata": {},
     "output_type": "display_data"
    }
   ],
   "source": [
    "plt.figure(figsize=(20,20))\n",
    "plot_confusion_matrix(rounded_labels, predicted_classes, classes = class_name, title='Non-Normalized Confusion matrix')\n",
    "plt.show()"
   ]
  },
  {
   "cell_type": "code",
   "execution_count": null,
   "metadata": {},
   "outputs": [],
   "source": []
  }
 ],
 "metadata": {
  "kernelspec": {
   "display_name": "Python 3",
   "language": "python",
   "name": "python3"
  },
  "language_info": {
   "codemirror_mode": {
    "name": "ipython",
    "version": 3
   },
   "file_extension": ".py",
   "mimetype": "text/x-python",
   "name": "python",
   "nbconvert_exporter": "python",
   "pygments_lexer": "ipython3",
   "version": "3.8.5"
  }
 },
 "nbformat": 4,
 "nbformat_minor": 4
}

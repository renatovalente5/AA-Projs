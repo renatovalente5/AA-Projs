{
 "cells": [
  {
   "cell_type": "code",
   "execution_count": 1,
   "metadata": {},
   "outputs": [],
   "source": [
    "import pandas as pd\n",
    "import numpy as np"
   ]
  },
  {
   "cell_type": "code",
   "execution_count": 2,
   "metadata": {},
   "outputs": [
    {
     "data": {
      "text/html": [
       "<div>\n",
       "<style scoped>\n",
       "    .dataframe tbody tr th:only-of-type {\n",
       "        vertical-align: middle;\n",
       "    }\n",
       "\n",
       "    .dataframe tbody tr th {\n",
       "        vertical-align: top;\n",
       "    }\n",
       "\n",
       "    .dataframe thead th {\n",
       "        text-align: right;\n",
       "    }\n",
       "</style>\n",
       "<table border=\"1\" class=\"dataframe\">\n",
       "  <thead>\n",
       "    <tr style=\"text-align: right;\">\n",
       "      <th></th>\n",
       "      <th>pixel1</th>\n",
       "      <th>pixel2</th>\n",
       "      <th>pixel3</th>\n",
       "      <th>pixel4</th>\n",
       "      <th>pixel5</th>\n",
       "      <th>pixel6</th>\n",
       "      <th>pixel7</th>\n",
       "      <th>pixel8</th>\n",
       "      <th>pixel9</th>\n",
       "      <th>pixel10</th>\n",
       "      <th>...</th>\n",
       "      <th>pixel775</th>\n",
       "      <th>pixel776</th>\n",
       "      <th>pixel777</th>\n",
       "      <th>pixel778</th>\n",
       "      <th>pixel779</th>\n",
       "      <th>pixel780</th>\n",
       "      <th>pixel781</th>\n",
       "      <th>pixel782</th>\n",
       "      <th>pixel783</th>\n",
       "      <th>pixel784</th>\n",
       "    </tr>\n",
       "  </thead>\n",
       "  <tbody>\n",
       "    <tr>\n",
       "      <th>0</th>\n",
       "      <td>149</td>\n",
       "      <td>149</td>\n",
       "      <td>150</td>\n",
       "      <td>150</td>\n",
       "      <td>150</td>\n",
       "      <td>151</td>\n",
       "      <td>151</td>\n",
       "      <td>150</td>\n",
       "      <td>151</td>\n",
       "      <td>152</td>\n",
       "      <td>...</td>\n",
       "      <td>138</td>\n",
       "      <td>148</td>\n",
       "      <td>127</td>\n",
       "      <td>89</td>\n",
       "      <td>82</td>\n",
       "      <td>96</td>\n",
       "      <td>106</td>\n",
       "      <td>112</td>\n",
       "      <td>120</td>\n",
       "      <td>107</td>\n",
       "    </tr>\n",
       "    <tr>\n",
       "      <th>1</th>\n",
       "      <td>126</td>\n",
       "      <td>128</td>\n",
       "      <td>131</td>\n",
       "      <td>132</td>\n",
       "      <td>133</td>\n",
       "      <td>134</td>\n",
       "      <td>135</td>\n",
       "      <td>135</td>\n",
       "      <td>136</td>\n",
       "      <td>138</td>\n",
       "      <td>...</td>\n",
       "      <td>47</td>\n",
       "      <td>104</td>\n",
       "      <td>194</td>\n",
       "      <td>183</td>\n",
       "      <td>186</td>\n",
       "      <td>184</td>\n",
       "      <td>184</td>\n",
       "      <td>184</td>\n",
       "      <td>182</td>\n",
       "      <td>180</td>\n",
       "    </tr>\n",
       "    <tr>\n",
       "      <th>2</th>\n",
       "      <td>85</td>\n",
       "      <td>88</td>\n",
       "      <td>92</td>\n",
       "      <td>96</td>\n",
       "      <td>105</td>\n",
       "      <td>123</td>\n",
       "      <td>135</td>\n",
       "      <td>143</td>\n",
       "      <td>147</td>\n",
       "      <td>152</td>\n",
       "      <td>...</td>\n",
       "      <td>68</td>\n",
       "      <td>166</td>\n",
       "      <td>242</td>\n",
       "      <td>227</td>\n",
       "      <td>230</td>\n",
       "      <td>227</td>\n",
       "      <td>226</td>\n",
       "      <td>225</td>\n",
       "      <td>224</td>\n",
       "      <td>222</td>\n",
       "    </tr>\n",
       "    <tr>\n",
       "      <th>3</th>\n",
       "      <td>203</td>\n",
       "      <td>205</td>\n",
       "      <td>207</td>\n",
       "      <td>206</td>\n",
       "      <td>207</td>\n",
       "      <td>209</td>\n",
       "      <td>210</td>\n",
       "      <td>209</td>\n",
       "      <td>210</td>\n",
       "      <td>209</td>\n",
       "      <td>...</td>\n",
       "      <td>154</td>\n",
       "      <td>248</td>\n",
       "      <td>247</td>\n",
       "      <td>248</td>\n",
       "      <td>253</td>\n",
       "      <td>236</td>\n",
       "      <td>230</td>\n",
       "      <td>240</td>\n",
       "      <td>253</td>\n",
       "      <td>255</td>\n",
       "    </tr>\n",
       "    <tr>\n",
       "      <th>4</th>\n",
       "      <td>188</td>\n",
       "      <td>191</td>\n",
       "      <td>193</td>\n",
       "      <td>195</td>\n",
       "      <td>199</td>\n",
       "      <td>201</td>\n",
       "      <td>202</td>\n",
       "      <td>203</td>\n",
       "      <td>203</td>\n",
       "      <td>203</td>\n",
       "      <td>...</td>\n",
       "      <td>26</td>\n",
       "      <td>40</td>\n",
       "      <td>64</td>\n",
       "      <td>48</td>\n",
       "      <td>29</td>\n",
       "      <td>46</td>\n",
       "      <td>49</td>\n",
       "      <td>46</td>\n",
       "      <td>46</td>\n",
       "      <td>53</td>\n",
       "    </tr>\n",
       "  </tbody>\n",
       "</table>\n",
       "<p>5 rows × 784 columns</p>\n",
       "</div>"
      ],
      "text/plain": [
       "   pixel1  pixel2  pixel3  pixel4  pixel5  pixel6  pixel7  pixel8  pixel9  \\\n",
       "0     149     149     150     150     150     151     151     150     151   \n",
       "1     126     128     131     132     133     134     135     135     136   \n",
       "2      85      88      92      96     105     123     135     143     147   \n",
       "3     203     205     207     206     207     209     210     209     210   \n",
       "4     188     191     193     195     199     201     202     203     203   \n",
       "\n",
       "   pixel10  ...  pixel775  pixel776  pixel777  pixel778  pixel779  pixel780  \\\n",
       "0      152  ...       138       148       127        89        82        96   \n",
       "1      138  ...        47       104       194       183       186       184   \n",
       "2      152  ...        68       166       242       227       230       227   \n",
       "3      209  ...       154       248       247       248       253       236   \n",
       "4      203  ...        26        40        64        48        29        46   \n",
       "\n",
       "   pixel781  pixel782  pixel783  pixel784  \n",
       "0       106       112       120       107  \n",
       "1       184       184       182       180  \n",
       "2       226       225       224       222  \n",
       "3       230       240       253       255  \n",
       "4        49        46        46        53  \n",
       "\n",
       "[5 rows x 784 columns]"
      ]
     },
     "execution_count": 2,
     "metadata": {},
     "output_type": "execute_result"
    }
   ],
   "source": [
    "df_train=pd.read_csv('sign_mnist_train.csv')\n",
    "df_test=pd.read_csv('sign_mnist_test.csv')\n",
    "y_train=df_train['label'].values\n",
    "y_test=df_test['label'].values\n",
    "df_train.drop('label',axis=1,inplace=True)\n",
    "df_test.drop('label',axis=1,inplace=True)\n",
    "df_test.head()"
   ]
  },
  {
   "cell_type": "code",
   "execution_count": 3,
   "metadata": {},
   "outputs": [
    {
     "data": {
      "text/plain": [
       "array([ 0,  1,  2,  3,  4,  5,  6,  7,  8, 10, 11, 12, 13, 14, 15, 16, 17,\n",
       "       18, 19, 20, 21, 22, 23, 24], dtype=int64)"
      ]
     },
     "execution_count": 3,
     "metadata": {},
     "output_type": "execute_result"
    }
   ],
   "source": [
    "x_train=df_train.values\n",
    "x_test=df_test.values\n",
    "unique_val = np.array(y_train)\n",
    "np.unique(unique_val)"
   ]
  },
  {
   "cell_type": "markdown",
   "metadata": {},
   "source": []
  },
  {
   "cell_type": "code",
   "execution_count": 46,
   "metadata": {},
   "outputs": [
    {
     "name": "stdout",
     "output_type": "stream",
     "text": [
      "(27455, 28, 28, 1)\n",
      "(7172, 28, 28, 1)\n"
     ]
    }
   ],
   "source": [
    "x_train=np.array(x_train.reshape(-1,28,28,1))\n",
    "x_test=np.array(x_test.reshape(-1,28,28,1))\n",
    "print(x_train.shape)\n",
    "print(x_test.shape)"
   ]
  },
  {
   "cell_type": "markdown",
   "metadata": {},
   "source": [
    "> \"-1\" especifica que esta dimensão no eixo atual deve ser calculada dinamicamente de acordo com a regra de que os elementos totais do tensor permanecem inalterados. Isso nos permite tratar batch_size (parâmetro com valor -1) como um hiperparâmetro que podemos ajustar."
   ]
  },
  {
   "cell_type": "code",
   "execution_count": 5,
   "metadata": {},
   "outputs": [],
   "source": [
    "from sklearn.preprocessing import LabelBinarizer\n",
    "lb_train= LabelBinarizer()\n",
    "lb_test=LabelBinarizer()\n",
    "y_train=lb_train.fit_transform(y_train)\n",
    "y_test=lb_test.fit_transform(y_test)"
   ]
  },
  {
   "cell_type": "code",
   "execution_count": 6,
   "metadata": {},
   "outputs": [
    {
     "name": "stdout",
     "output_type": "stream",
     "text": [
      "[[0 0 0 ... 0 0 0]\n",
      " [0 0 0 ... 0 0 0]\n",
      " [0 0 1 ... 0 0 0]\n",
      " ...\n",
      " [0 0 0 ... 0 0 0]\n",
      " [0 0 0 ... 0 0 0]\n",
      " [0 0 0 ... 0 1 0]]\n",
      "[[0 0 0 ... 0 0 0]\n",
      " [0 0 0 ... 0 0 0]\n",
      " [0 0 0 ... 0 0 0]\n",
      " ...\n",
      " [0 0 1 ... 0 0 0]\n",
      " [0 0 0 ... 0 0 0]\n",
      " [0 0 1 ... 0 0 0]]\n"
     ]
    }
   ],
   "source": [
    "print(y_train)\n",
    "print(y_test)"
   ]
  },
  {
   "cell_type": "code",
   "execution_count": 8,
   "metadata": {},
   "outputs": [
    {
     "data": {
      "text/plain": [
       "<matplotlib.image.AxesImage at 0x25ad603db80>"
      ]
     },
     "execution_count": 8,
     "metadata": {},
     "output_type": "execute_result"
    },
    {
     "data": {
      "image/png": "[encoded data removed]",
      "text/plain": [
       "<Figure size 432x288 with 1 Axes>"
      ]
     },
     "metadata": {
      "needs_background": "light"
     },
     "output_type": "display_data"
    }
   ],
   "source": [
    "import matplotlib.pyplot as plt\n",
    "plt.imshow(x_train[10].reshape(28,28),cmap='gray')"
   ]
  },
  {
   "cell_type": "code",
   "execution_count": 9,
   "metadata": {},
   "outputs": [],
   "source": [
    "plt.imshow(x_train[10].reshape(28,28),cmap='gray')"
   ]
  },
  {
   "cell_type": "code",
   "execution_count": 22,
   "metadata": {},
   "outputs": [],
   "source": [
    "import keras\n",
    "from keras.models import Sequential\n",
    "from keras.layers import Dense, Conv2D, MaxPooling2D, Flatten, Dropout"
   ]
  },
  {
   "cell_type": "code",
   "execution_count": 23,
   "metadata": {},
   "outputs": [],
   "source": [
    "batch_size = 128\n",
    "num_classes = 24\n",
    "epochs = 100"
   ]
  },
  {
   "cell_type": "code",
   "execution_count": 24,
   "metadata": {},
   "outputs": [],
   "source": [
    "model = Sequential()\n",
    "model.add(Conv2D(64, kernel_size=(3,3), activation = 'relu', input_shape=(28, 28 ,1) ))\n",
    "model.add(MaxPooling2D(pool_size = (2, 2)))\n",
    "\n",
    "model.add(Conv2D(64, kernel_size = (3, 3), activation = 'relu'))\n",
    "model.add(MaxPooling2D(pool_size = (2, 2)))\n",
    "model.add(Dropout(0.20))\n",
    "\n",
    "model.add(Conv2D(64, kernel_size = (3, 3), activation = 'relu'))\n",
    "model.add(MaxPooling2D(pool_size = (2, 2)))\n",
    "model.add(Dropout(0.20))\n",
    "\n",
    "model.add(Flatten())\n",
    "model.add(Dense(128, activation = 'relu'))\n",
    "model.add(Dropout(0.20))\n",
    "model.add(Dense(num_classes, activation = 'softmax'))"
   ]
  },
  {
   "cell_type": "code",
   "execution_count": 25,
   "metadata": {},
   "outputs": [],
   "source": [
    "model.compile(loss = keras.losses.categorical_crossentropy, optimizer=keras.optimizers.Adam(), metrics=['accuracy'])"
   ]
  },
  {
   "cell_type": "code",
   "execution_count": 26,
   "metadata": {},
   "outputs": [
    {
     "name": "stdout",
     "output_type": "stream",
     "text": [
      "Epoch 1/100\n",
      "215/215 [==============================] - 37s 165ms/step - loss: 3.0038 - accuracy: 0.0978 - val_loss: 1.5736 - val_accuracy: 0.5212\n",
      "Epoch 2/100\n",
      "215/215 [==============================] - 28s 131ms/step - loss: 1.4430 - accuracy: 0.5202 - val_loss: 0.8452 - val_accuracy: 0.7209\n",
      "Epoch 3/100\n",
      "215/215 [==============================] - 28s 132ms/step - loss: 0.8800 - accuracy: 0.6995 - val_loss: 0.6054 - val_accuracy: 0.8090\n",
      "Epoch 4/100\n",
      "215/215 [==============================] - 36s 167ms/step - loss: 0.6083 - accuracy: 0.7925 - val_loss: 0.4675 - val_accuracy: 0.8370\n",
      "Epoch 5/100\n",
      "215/215 [==============================] - 38s 178ms/step - loss: 0.4525 - accuracy: 0.8444 - val_loss: 0.3914 - val_accuracy: 0.8755\n",
      "Epoch 6/100\n",
      "215/215 [==============================] - 31s 147ms/step - loss: 0.3568 - accuracy: 0.8797 - val_loss: 0.3313 - val_accuracy: 0.8929\n",
      "Epoch 7/100\n",
      "215/215 [==============================] - 29s 135ms/step - loss: 0.2900 - accuracy: 0.9011 - val_loss: 0.2951 - val_accuracy: 0.9006\n",
      "Epoch 8/100\n",
      "215/215 [==============================] - 32s 148ms/step - loss: 0.2445 - accuracy: 0.9172 - val_loss: 0.2831 - val_accuracy: 0.9059\n",
      "Epoch 9/100\n",
      "215/215 [==============================] - 33s 153ms/step - loss: 0.2120 - accuracy: 0.9329 - val_loss: 0.2727 - val_accuracy: 0.9286\n",
      "Epoch 10/100\n",
      "215/215 [==============================] - 34s 159ms/step - loss: 0.1874 - accuracy: 0.9382 - val_loss: 0.2326 - val_accuracy: 0.9308\n",
      "Epoch 11/100\n",
      "215/215 [==============================] - 31s 142ms/step - loss: 0.1615 - accuracy: 0.9470 - val_loss: 0.2336 - val_accuracy: 0.9289\n",
      "Epoch 12/100\n",
      "215/215 [==============================] - 31s 142ms/step - loss: 0.1457 - accuracy: 0.9492 - val_loss: 0.2294 - val_accuracy: 0.9269\n",
      "Epoch 13/100\n",
      "215/215 [==============================] - 31s 146ms/step - loss: 0.1422 - accuracy: 0.9533 - val_loss: 0.2052 - val_accuracy: 0.9336\n",
      "Epoch 14/100\n",
      "215/215 [==============================] - 31s 145ms/step - loss: 0.1261 - accuracy: 0.9584 - val_loss: 0.1817 - val_accuracy: 0.9400\n",
      "Epoch 15/100\n",
      "215/215 [==============================] - 32s 148ms/step - loss: 0.1140 - accuracy: 0.9622 - val_loss: 0.2066 - val_accuracy: 0.9405\n",
      "Epoch 16/100\n",
      "215/215 [==============================] - 31s 147ms/step - loss: 0.1081 - accuracy: 0.9632 - val_loss: 0.1872 - val_accuracy: 0.9465\n",
      "Epoch 17/100\n",
      "215/215 [==============================] - 32s 151ms/step - loss: 0.0912 - accuracy: 0.9706 - val_loss: 0.2356 - val_accuracy: 0.9243\n",
      "Epoch 18/100\n",
      "215/215 [==============================] - 36s 167ms/step - loss: 0.0920 - accuracy: 0.9700 - val_loss: 0.1845 - val_accuracy: 0.9384\n",
      "Epoch 19/100\n",
      "215/215 [==============================] - 31s 145ms/step - loss: 0.0869 - accuracy: 0.9723 - val_loss: 0.1899 - val_accuracy: 0.9421\n",
      "Epoch 20/100\n",
      "215/215 [==============================] - 32s 150ms/step - loss: 0.0839 - accuracy: 0.9731 - val_loss: 0.1947 - val_accuracy: 0.9428\n",
      "Epoch 21/100\n",
      "215/215 [==============================] - 32s 148ms/step - loss: 0.0731 - accuracy: 0.9752 - val_loss: 0.1514 - val_accuracy: 0.9476\n",
      "Epoch 22/100\n",
      "215/215 [==============================] - 30s 141ms/step - loss: 0.0655 - accuracy: 0.9772 - val_loss: 0.1674 - val_accuracy: 0.9525\n",
      "Epoch 23/100\n",
      "215/215 [==============================] - 29s 133ms/step - loss: 0.0667 - accuracy: 0.9788 - val_loss: 0.1560 - val_accuracy: 0.9527\n",
      "Epoch 24/100\n",
      "215/215 [==============================] - 29s 137ms/step - loss: 0.0656 - accuracy: 0.9780 - val_loss: 0.1615 - val_accuracy: 0.9618\n",
      "Epoch 25/100\n",
      "215/215 [==============================] - 27s 124ms/step - loss: 0.0548 - accuracy: 0.9814 - val_loss: 0.1419 - val_accuracy: 0.9572\n",
      "Epoch 26/100\n",
      "215/215 [==============================] - 30s 140ms/step - loss: 0.0516 - accuracy: 0.9830 - val_loss: 0.1497 - val_accuracy: 0.9580\n",
      "Epoch 27/100\n",
      "215/215 [==============================] - 31s 147ms/step - loss: 0.0596 - accuracy: 0.9809 - val_loss: 0.1406 - val_accuracy: 0.9633\n",
      "Epoch 28/100\n",
      "215/215 [==============================] - 30s 142ms/step - loss: 0.0560 - accuracy: 0.9837 - val_loss: 0.1556 - val_accuracy: 0.9578\n",
      "Epoch 29/100\n",
      "215/215 [==============================] - 31s 143ms/step - loss: 0.0515 - accuracy: 0.9831 - val_loss: 0.1789 - val_accuracy: 0.9566\n",
      "Epoch 30/100\n",
      "215/215 [==============================] - 33s 152ms/step - loss: 0.0507 - accuracy: 0.9828 - val_loss: 0.1253 - val_accuracy: 0.9672\n",
      "Epoch 31/100\n",
      "215/215 [==============================] - 33s 156ms/step - loss: 0.0473 - accuracy: 0.9856 - val_loss: 0.1247 - val_accuracy: 0.9637\n",
      "Epoch 32/100\n",
      "215/215 [==============================] - 32s 148ms/step - loss: 0.0454 - accuracy: 0.9863 - val_loss: 0.1445 - val_accuracy: 0.9615\n",
      "Epoch 33/100\n",
      "215/215 [==============================] - 31s 145ms/step - loss: 0.0451 - accuracy: 0.9855 - val_loss: 0.1299 - val_accuracy: 0.9658\n",
      "Epoch 34/100\n",
      "215/215 [==============================] - 31s 146ms/step - loss: 0.0445 - accuracy: 0.9859 - val_loss: 0.1561 - val_accuracy: 0.9605\n",
      "Epoch 35/100\n",
      "215/215 [==============================] - 33s 154ms/step - loss: 0.0435 - accuracy: 0.9853 - val_loss: 0.1284 - val_accuracy: 0.9628\n",
      "Epoch 36/100\n",
      "215/215 [==============================] - 32s 150ms/step - loss: 0.0420 - accuracy: 0.9865 - val_loss: 0.1433 - val_accuracy: 0.9537\n",
      "Epoch 37/100\n",
      "215/215 [==============================] - 34s 157ms/step - loss: 0.0415 - accuracy: 0.9865 - val_loss: 0.1702 - val_accuracy: 0.9479\n",
      "Epoch 38/100\n",
      "215/215 [==============================] - 33s 152ms/step - loss: 0.0404 - accuracy: 0.9861 - val_loss: 0.1537 - val_accuracy: 0.9533\n",
      "Epoch 39/100\n",
      "215/215 [==============================] - 34s 159ms/step - loss: 0.0342 - accuracy: 0.9891 - val_loss: 0.1318 - val_accuracy: 0.9612\n",
      "Epoch 40/100\n",
      "215/215 [==============================] - 34s 160ms/step - loss: 0.0368 - accuracy: 0.9878 - val_loss: 0.1309 - val_accuracy: 0.9709\n",
      "Epoch 41/100\n",
      "215/215 [==============================] - 28s 131ms/step - loss: 0.0350 - accuracy: 0.9885 - val_loss: 0.1152 - val_accuracy: 0.9607\n",
      "Epoch 42/100\n",
      "215/215 [==============================] - 27s 126ms/step - loss: 0.0358 - accuracy: 0.9879 - val_loss: 0.1359 - val_accuracy: 0.9624\n",
      "Epoch 43/100\n",
      "215/215 [==============================] - 27s 124ms/step - loss: 0.0348 - accuracy: 0.9891 - val_loss: 0.1426 - val_accuracy: 0.9703\n",
      "Epoch 44/100\n",
      "215/215 [==============================] - 24s 113ms/step - loss: 0.0336 - accuracy: 0.9890 - val_loss: 0.1196 - val_accuracy: 0.9671\n",
      "Epoch 45/100\n",
      "215/215 [==============================] - 24s 110ms/step - loss: 0.0372 - accuracy: 0.9888 - val_loss: 0.1588 - val_accuracy: 0.9562\n",
      "Epoch 46/100\n",
      "215/215 [==============================] - 25s 115ms/step - loss: 0.0334 - accuracy: 0.9894 - val_loss: 0.1232 - val_accuracy: 0.9637\n",
      "Epoch 47/100\n",
      "215/215 [==============================] - 26s 119ms/step - loss: 0.0289 - accuracy: 0.9910 - val_loss: 0.1331 - val_accuracy: 0.9649\n",
      "Epoch 48/100\n",
      "215/215 [==============================] - 26s 120ms/step - loss: 0.0281 - accuracy: 0.9910 - val_loss: 0.1135 - val_accuracy: 0.9692\n",
      "Epoch 49/100\n",
      "215/215 [==============================] - 23s 107ms/step - loss: 0.0287 - accuracy: 0.9896 - val_loss: 0.1054 - val_accuracy: 0.9700\n",
      "Epoch 50/100\n",
      "215/215 [==============================] - 24s 112ms/step - loss: 0.0314 - accuracy: 0.9906 - val_loss: 0.1164 - val_accuracy: 0.9677\n",
      "Epoch 51/100\n",
      "215/215 [==============================] - 25s 117ms/step - loss: 0.0316 - accuracy: 0.9892 - val_loss: 0.1166 - val_accuracy: 0.9643\n",
      "Epoch 52/100\n",
      "215/215 [==============================] - 26s 119ms/step - loss: 0.0288 - accuracy: 0.9909 - val_loss: 0.1106 - val_accuracy: 0.9692\n",
      "Epoch 53/100\n",
      "215/215 [==============================] - 24s 114ms/step - loss: 0.0245 - accuracy: 0.9922 - val_loss: 0.1121 - val_accuracy: 0.9644\n",
      "Epoch 54/100\n",
      "215/215 [==============================] - 24s 110ms/step - loss: 0.0254 - accuracy: 0.9925 - val_loss: 0.1348 - val_accuracy: 0.9632\n",
      "Epoch 55/100\n",
      "215/215 [==============================] - 25s 117ms/step - loss: 0.0269 - accuracy: 0.9914 - val_loss: 0.1244 - val_accuracy: 0.9730\n",
      "Epoch 56/100\n",
      "215/215 [==============================] - 27s 126ms/step - loss: 0.0267 - accuracy: 0.9921 - val_loss: 0.1412 - val_accuracy: 0.9610\n",
      "Epoch 57/100\n",
      "215/215 [==============================] - 25s 116ms/step - loss: 0.0268 - accuracy: 0.9915 - val_loss: 0.1184 - val_accuracy: 0.9675\n",
      "Epoch 58/100\n",
      "215/215 [==============================] - 26s 121ms/step - loss: 0.0246 - accuracy: 0.9925 - val_loss: 0.1416 - val_accuracy: 0.9663\n",
      "Epoch 59/100\n",
      "215/215 [==============================] - 26s 120ms/step - loss: 0.0235 - accuracy: 0.9921 - val_loss: 0.1291 - val_accuracy: 0.9584\n",
      "Epoch 60/100\n",
      "215/215 [==============================] - 29s 133ms/step - loss: 0.0251 - accuracy: 0.9919 - val_loss: 0.1318 - val_accuracy: 0.9688\n",
      "Epoch 61/100\n",
      "215/215 [==============================] - 26s 122ms/step - loss: 0.0242 - accuracy: 0.9924 - val_loss: 0.1247 - val_accuracy: 0.9668\n",
      "Epoch 62/100\n",
      "215/215 [==============================] - 27s 124ms/step - loss: 0.0262 - accuracy: 0.9916 - val_loss: 0.0971 - val_accuracy: 0.9686\n",
      "Epoch 63/100\n",
      "215/215 [==============================] - 26s 122ms/step - loss: 0.0245 - accuracy: 0.9915 - val_loss: 0.1092 - val_accuracy: 0.9721\n",
      "Epoch 64/100\n",
      "215/215 [==============================] - 27s 128ms/step - loss: 0.0209 - accuracy: 0.9932 - val_loss: 0.1095 - val_accuracy: 0.9736\n",
      "Epoch 65/100\n",
      "215/215 [==============================] - 22s 104ms/step - loss: 0.0177 - accuracy: 0.9940 - val_loss: 0.0967 - val_accuracy: 0.9743\n",
      "Epoch 66/100\n",
      "215/215 [==============================] - 28s 129ms/step - loss: 0.0228 - accuracy: 0.9929 - val_loss: 0.1149 - val_accuracy: 0.9663\n",
      "Epoch 67/100\n",
      "215/215 [==============================] - 22s 102ms/step - loss: 0.0254 - accuracy: 0.9916 - val_loss: 0.1320 - val_accuracy: 0.9683\n",
      "Epoch 68/100\n",
      "215/215 [==============================] - 20s 92ms/step - loss: 0.0257 - accuracy: 0.9918 - val_loss: 0.1164 - val_accuracy: 0.9665\n",
      "Epoch 69/100\n",
      "215/215 [==============================] - 30s 138ms/step - loss: 0.0193 - accuracy: 0.9935 - val_loss: 0.0963 - val_accuracy: 0.9682\n",
      "Epoch 70/100\n",
      "215/215 [==============================] - 30s 140ms/step - loss: 0.0216 - accuracy: 0.9934 - val_loss: 0.1190 - val_accuracy: 0.9672\n",
      "Epoch 71/100\n",
      "215/215 [==============================] - 26s 122ms/step - loss: 0.0184 - accuracy: 0.9940 - val_loss: 0.1042 - val_accuracy: 0.9752\n",
      "Epoch 72/100\n",
      "215/215 [==============================] - 31s 142ms/step - loss: 0.0170 - accuracy: 0.9944 - val_loss: 0.1570 - val_accuracy: 0.9615\n",
      "Epoch 73/100\n",
      "215/215 [==============================] - 25s 114ms/step - loss: 0.0161 - accuracy: 0.9951 - val_loss: 0.1264 - val_accuracy: 0.9689\n",
      "Epoch 74/100\n",
      "215/215 [==============================] - 24s 113ms/step - loss: 0.0155 - accuracy: 0.9952 - val_loss: 0.0905 - val_accuracy: 0.9789\n",
      "Epoch 75/100\n",
      "215/215 [==============================] - 24s 110ms/step - loss: 0.0175 - accuracy: 0.9947 - val_loss: 0.1036 - val_accuracy: 0.9746\n",
      "Epoch 76/100\n",
      "215/215 [==============================] - 24s 113ms/step - loss: 0.0257 - accuracy: 0.9926 - val_loss: 0.1042 - val_accuracy: 0.9734\n",
      "Epoch 77/100\n",
      "215/215 [==============================] - 25s 114ms/step - loss: 0.0199 - accuracy: 0.9929 - val_loss: 0.1400 - val_accuracy: 0.9697\n",
      "Epoch 78/100\n",
      "215/215 [==============================] - 23s 107ms/step - loss: 0.0203 - accuracy: 0.9935 - val_loss: 0.1138 - val_accuracy: 0.9668\n",
      "Epoch 79/100\n",
      "215/215 [==============================] - 25s 116ms/step - loss: 0.0184 - accuracy: 0.9939 - val_loss: 0.1444 - val_accuracy: 0.9667\n",
      "Epoch 80/100\n",
      "215/215 [==============================] - 27s 127ms/step - loss: 0.0228 - accuracy: 0.9920 - val_loss: 0.1125 - val_accuracy: 0.9695\n",
      "Epoch 81/100\n",
      "215/215 [==============================] - 29s 133ms/step - loss: 0.0160 - accuracy: 0.9949 - val_loss: 0.1391 - val_accuracy: 0.9625\n",
      "Epoch 82/100\n",
      "215/215 [==============================] - 24s 112ms/step - loss: 0.0201 - accuracy: 0.9943 - val_loss: 0.1131 - val_accuracy: 0.9603\n",
      "Epoch 83/100\n",
      "215/215 [==============================] - 33s 152ms/step - loss: 0.0207 - accuracy: 0.9940 - val_loss: 0.1130 - val_accuracy: 0.9688\n",
      "Epoch 84/100\n",
      "215/215 [==============================] - 25s 116ms/step - loss: 0.0178 - accuracy: 0.9942 - val_loss: 0.1043 - val_accuracy: 0.9656\n",
      "Epoch 85/100\n",
      "215/215 [==============================] - 27s 126ms/step - loss: 0.0173 - accuracy: 0.9945 - val_loss: 0.1233 - val_accuracy: 0.9658\n",
      "Epoch 86/100\n",
      "215/215 [==============================] - 31s 144ms/step - loss: 0.0152 - accuracy: 0.9951 - val_loss: 0.1668 - val_accuracy: 0.9543\n",
      "Epoch 87/100\n",
      "215/215 [==============================] - 24s 112ms/step - loss: 0.0148 - accuracy: 0.9954 - val_loss: 0.1557 - val_accuracy: 0.9626\n",
      "Epoch 88/100\n",
      "215/215 [==============================] - 25s 118ms/step - loss: 0.0161 - accuracy: 0.9943 - val_loss: 0.1182 - val_accuracy: 0.9675\n",
      "Epoch 89/100\n",
      "215/215 [==============================] - 20s 95ms/step - loss: 0.0213 - accuracy: 0.9938 - val_loss: 0.1177 - val_accuracy: 0.9692\n",
      "Epoch 90/100\n",
      "215/215 [==============================] - 34s 159ms/step - loss: 0.0201 - accuracy: 0.9936 - val_loss: 0.1259 - val_accuracy: 0.9688\n",
      "Epoch 91/100\n",
      "215/215 [==============================] - 26s 119ms/step - loss: 0.0155 - accuracy: 0.9938 - val_loss: 0.1125 - val_accuracy: 0.9703\n",
      "Epoch 92/100\n",
      "215/215 [==============================] - 26s 121ms/step - loss: 0.0180 - accuracy: 0.9948 - val_loss: 0.1256 - val_accuracy: 0.9688\n",
      "Epoch 93/100\n",
      "215/215 [==============================] - 23s 106ms/step - loss: 0.0186 - accuracy: 0.9938 - val_loss: 0.0872 - val_accuracy: 0.9723\n",
      "Epoch 94/100\n",
      "215/215 [==============================] - 25s 115ms/step - loss: 0.0183 - accuracy: 0.9947 - val_loss: 0.0989 - val_accuracy: 0.9720\n",
      "Epoch 95/100\n",
      "215/215 [==============================] - 24s 113ms/step - loss: 0.0193 - accuracy: 0.9937 - val_loss: 0.1336 - val_accuracy: 0.9699\n",
      "Epoch 96/100\n",
      "215/215 [==============================] - 26s 119ms/step - loss: 0.0195 - accuracy: 0.9945 - val_loss: 0.1389 - val_accuracy: 0.9700\n",
      "Epoch 97/100\n",
      "215/215 [==============================] - 30s 139ms/step - loss: 0.0147 - accuracy: 0.9953 - val_loss: 0.1392 - val_accuracy: 0.9651\n",
      "Epoch 98/100\n",
      "215/215 [==============================] - 28s 131ms/step - loss: 0.0190 - accuracy: 0.9937 - val_loss: 0.1236 - val_accuracy: 0.9624\n",
      "Epoch 99/100\n",
      "215/215 [==============================] - 26s 122ms/step - loss: 0.0173 - accuracy: 0.9953 - val_loss: 0.1175 - val_accuracy: 0.9695\n",
      "Epoch 100/100\n",
      "215/215 [==============================] - 28s 131ms/step - loss: 0.0141 - accuracy: 0.9954 - val_loss: 0.1170 - val_accuracy: 0.9703\n"
     ]
    }
   ],
   "source": [
    "history = model.fit(x_train, y_train, validation_data = (x_test, y_test), epochs=epochs, batch_size=batch_size)"
   ]
  },
  {
   "cell_type": "code",
   "execution_count": 29,
   "metadata": {},
   "outputs": [
    {
     "data": {
      "image/png": "[encoded data removed]",
      "text/plain": [
       "<Figure size 432x288 with 1 Axes>"
      ]
     },
     "metadata": {
      "needs_background": "light"
     },
     "output_type": "display_data"
    }
   ],
   "source": [
    "plt.plot(history.history['accuracy'])\n",
    "plt.plot(history.history['val_accuracy'])\n",
    "plt.title(\"Accuracy\")\n",
    "plt.xlabel('epoch')\n",
    "plt.ylabel('accuracy')\n",
    "plt.legend(['train','test'])\n",
    "plt.show()"
   ]
  },
  {
   "cell_type": "code",
   "execution_count": 30,
   "metadata": {},
   "outputs": [
    {
     "name": "stdout",
     "output_type": "stream",
     "text": [
      "INFO:tensorflow:Assets written to: sign_language\\assets\n"
     ]
    }
   ],
   "source": [
    "model.save('sign_language')"
   ]
  },
  {
   "cell_type": "code",
   "execution_count": 41,
   "metadata": {},
   "outputs": [],
   "source": [
    "import cv2\n",
    "from keras.preprocessing.image import img_to_array\n",
    "alphabet=['A','B','C','D','E','F','G','H','I','K','L','M','N','O','P','Q','R','S','T','U','V','W','X','Y']\n",
    "def classify(image):\n",
    "    image = cv2.resize(image, (28, 28))\n",
    "    image = image.astype(\"float\") / 255.0\n",
    "    image = img_to_array(image)\n",
    "    image = np.expand_dims(image, axis=0)\n",
    "    proba = model.predict(image)\n",
    "    print(proba)\n",
    "    idx = np.argmax(proba)\n",
    "    print(idx)\n",
    "    return alphabet[idx]"
   ]
  },
  {
   "cell_type": "code",
   "execution_count": 42,
   "metadata": {},
   "outputs": [
    {
     "name": "stdout",
     "output_type": "stream",
     "text": [
      "[[2.8876686e-19 1.9940378e-17 1.0670580e-11 7.2375676e-17 6.1157273e-22\n",
      "  5.9605022e-18 1.5607100e-15 2.5432445e-16 4.2399883e-16 1.3544633e-16\n",
      "  3.6687303e-17 8.3928432e-17 3.9384641e-18 1.1973157e-08 8.0726745e-13\n",
      "  1.0000000e+00 2.4667468e-16 3.8802934e-16 1.5352112e-17 1.4680818e-23\n",
      "  1.8201371e-29 1.8758300e-30 5.2497846e-09 1.6160773e-18]]\n",
      "15\n"
     ]
    },
    {
     "data": {
      "text/plain": [
       "'Q'"
      ]
     },
     "execution_count": 42,
     "metadata": {},
     "output_type": "execute_result"
    }
   ],
   "source": [
    "classify(x_train[5]*255)"
   ]
  },
  {
   "cell_type": "code",
   "execution_count": 43,
   "metadata": {},
   "outputs": [
    {
     "name": "stdout",
     "output_type": "stream",
     "text": [
      "[0 0 0 0 0 0 0 0 0 0 0 0 0 0 0 1 0 0 0 0 0 0 0 0]\n"
     ]
    }
   ],
   "source": [
    "print(y_train[5])"
   ]
  },
  {
   "cell_type": "code",
   "execution_count": null,
   "metadata": {},
   "outputs": [],
   "source": []
  }
 ],
 "metadata": {
  "kernelspec": {
   "display_name": "Python 3",
   "language": "python",
   "name": "python3"
  },
  "language_info": {
   "codemirror_mode": {
    "name": "ipython",
    "version": 3
   },
   "file_extension": ".py",
   "mimetype": "text/x-python",
   "name": "python",
   "nbconvert_exporter": "python",
   "pygments_lexer": "ipython3",
   "version": "3.8.5"
  }
 },
 "nbformat": 4,
 "nbformat_minor": 4
}

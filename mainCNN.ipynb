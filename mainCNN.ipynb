{
 "cells": [
  {
   "cell_type": "markdown",
   "metadata": {},
   "source": [
    "## American-Sign-Language\n",
    "O ficheiro *sign_mnist_test.csv* contém 7172 exemplos de teste de gestos.\n",
    "\n",
    "Os dados de teste (7172 casos) têm uma linha de cabeçalho de rótulo, pixel1, pixel2 ... pixel784 que representa uma única imagem de 28x28 pixels com valores em tons de cinza entre 0-255. Os dados de imagem do gesto de mão original representavam vários utilizadores repetindo o gesto em diferentes fundos.\n",
    "\n",
    "Cada um desses exemplos de teste torna-se uma única linha no array X. Isso dá uma (7172, 785) forma X, onde em cada linha estão os pixels de uma imagem.\n",
    "\n",
    "Y é um vetor de forma (7172, 1) dos rótulos do conjunto de teste. Os dados foram rotulados da seguinte maneira: o índice 0 corresponde a A, o índice 1 corresponde a B, o índice 2 corresponde a C e assim sucessivamente. É de saliantar que não existe dados para os índice 9 e 25, uma vez que estes gestos apresentam movimentos."
   ]
  },
  {
   "cell_type": "code",
   "execution_count": 27,
   "metadata": {},
   "outputs": [],
   "source": [
    "# import relevant libraries\n",
    "import numpy as np\n",
    "import pandas as pd\n",
    "import matplotlib.pyplot as plt\n",
    "#from scipy.io import loadmat\n",
    "#import sys\n",
    "#from PIL import Image\n",
    "#import itertools\n",
    "#from sklearn.svm import SVC\n",
    "#from sklearn.preprocessing import LabelBinarizer\n",
    "#from sklearn.neural_network import MLPClassifier\n",
    "#from sklearn.datasets import make_classification\n",
    "#from sklearn.model_selection import train_test_split\n",
    "from sklearn.preprocessing import LabelBinarizer\n",
    "import keras\n",
    "from keras.models import Sequential\n",
    "from keras.layers import Dense, Conv2D, MaxPooling2D, Flatten, Dropout\n",
    "import cv2\n",
    "from keras.preprocessing.image import img_to_array"
   ]
  },
  {
   "cell_type": "code",
   "execution_count": 30,
   "metadata": {},
   "outputs": [
    {
     "data": {
      "text/html": [
       "<div>\n",
       "<style scoped>\n",
       "    .dataframe tbody tr th:only-of-type {\n",
       "        vertical-align: middle;\n",
       "    }\n",
       "\n",
       "    .dataframe tbody tr th {\n",
       "        vertical-align: top;\n",
       "    }\n",
       "\n",
       "    .dataframe thead th {\n",
       "        text-align: right;\n",
       "    }\n",
       "</style>\n",
       "<table border=\"1\" class=\"dataframe\">\n",
       "  <thead>\n",
       "    <tr style=\"text-align: right;\">\n",
       "      <th></th>\n",
       "      <th>pixel1</th>\n",
       "      <th>pixel2</th>\n",
       "      <th>pixel3</th>\n",
       "      <th>pixel4</th>\n",
       "      <th>pixel5</th>\n",
       "      <th>pixel6</th>\n",
       "      <th>pixel7</th>\n",
       "      <th>pixel8</th>\n",
       "      <th>pixel9</th>\n",
       "      <th>pixel10</th>\n",
       "      <th>...</th>\n",
       "      <th>pixel775</th>\n",
       "      <th>pixel776</th>\n",
       "      <th>pixel777</th>\n",
       "      <th>pixel778</th>\n",
       "      <th>pixel779</th>\n",
       "      <th>pixel780</th>\n",
       "      <th>pixel781</th>\n",
       "      <th>pixel782</th>\n",
       "      <th>pixel783</th>\n",
       "      <th>pixel784</th>\n",
       "    </tr>\n",
       "  </thead>\n",
       "  <tbody>\n",
       "    <tr>\n",
       "      <th>0</th>\n",
       "      <td>149</td>\n",
       "      <td>149</td>\n",
       "      <td>150</td>\n",
       "      <td>150</td>\n",
       "      <td>150</td>\n",
       "      <td>151</td>\n",
       "      <td>151</td>\n",
       "      <td>150</td>\n",
       "      <td>151</td>\n",
       "      <td>152</td>\n",
       "      <td>...</td>\n",
       "      <td>138</td>\n",
       "      <td>148</td>\n",
       "      <td>127</td>\n",
       "      <td>89</td>\n",
       "      <td>82</td>\n",
       "      <td>96</td>\n",
       "      <td>106</td>\n",
       "      <td>112</td>\n",
       "      <td>120</td>\n",
       "      <td>107</td>\n",
       "    </tr>\n",
       "    <tr>\n",
       "      <th>1</th>\n",
       "      <td>126</td>\n",
       "      <td>128</td>\n",
       "      <td>131</td>\n",
       "      <td>132</td>\n",
       "      <td>133</td>\n",
       "      <td>134</td>\n",
       "      <td>135</td>\n",
       "      <td>135</td>\n",
       "      <td>136</td>\n",
       "      <td>138</td>\n",
       "      <td>...</td>\n",
       "      <td>47</td>\n",
       "      <td>104</td>\n",
       "      <td>194</td>\n",
       "      <td>183</td>\n",
       "      <td>186</td>\n",
       "      <td>184</td>\n",
       "      <td>184</td>\n",
       "      <td>184</td>\n",
       "      <td>182</td>\n",
       "      <td>180</td>\n",
       "    </tr>\n",
       "    <tr>\n",
       "      <th>2</th>\n",
       "      <td>85</td>\n",
       "      <td>88</td>\n",
       "      <td>92</td>\n",
       "      <td>96</td>\n",
       "      <td>105</td>\n",
       "      <td>123</td>\n",
       "      <td>135</td>\n",
       "      <td>143</td>\n",
       "      <td>147</td>\n",
       "      <td>152</td>\n",
       "      <td>...</td>\n",
       "      <td>68</td>\n",
       "      <td>166</td>\n",
       "      <td>242</td>\n",
       "      <td>227</td>\n",
       "      <td>230</td>\n",
       "      <td>227</td>\n",
       "      <td>226</td>\n",
       "      <td>225</td>\n",
       "      <td>224</td>\n",
       "      <td>222</td>\n",
       "    </tr>\n",
       "    <tr>\n",
       "      <th>3</th>\n",
       "      <td>203</td>\n",
       "      <td>205</td>\n",
       "      <td>207</td>\n",
       "      <td>206</td>\n",
       "      <td>207</td>\n",
       "      <td>209</td>\n",
       "      <td>210</td>\n",
       "      <td>209</td>\n",
       "      <td>210</td>\n",
       "      <td>209</td>\n",
       "      <td>...</td>\n",
       "      <td>154</td>\n",
       "      <td>248</td>\n",
       "      <td>247</td>\n",
       "      <td>248</td>\n",
       "      <td>253</td>\n",
       "      <td>236</td>\n",
       "      <td>230</td>\n",
       "      <td>240</td>\n",
       "      <td>253</td>\n",
       "      <td>255</td>\n",
       "    </tr>\n",
       "    <tr>\n",
       "      <th>4</th>\n",
       "      <td>188</td>\n",
       "      <td>191</td>\n",
       "      <td>193</td>\n",
       "      <td>195</td>\n",
       "      <td>199</td>\n",
       "      <td>201</td>\n",
       "      <td>202</td>\n",
       "      <td>203</td>\n",
       "      <td>203</td>\n",
       "      <td>203</td>\n",
       "      <td>...</td>\n",
       "      <td>26</td>\n",
       "      <td>40</td>\n",
       "      <td>64</td>\n",
       "      <td>48</td>\n",
       "      <td>29</td>\n",
       "      <td>46</td>\n",
       "      <td>49</td>\n",
       "      <td>46</td>\n",
       "      <td>46</td>\n",
       "      <td>53</td>\n",
       "    </tr>\n",
       "  </tbody>\n",
       "</table>\n",
       "<p>5 rows × 784 columns</p>\n",
       "</div>"
      ],
      "text/plain": [
       "   pixel1  pixel2  pixel3  pixel4  pixel5  pixel6  pixel7  pixel8  pixel9  \\\n",
       "0     149     149     150     150     150     151     151     150     151   \n",
       "1     126     128     131     132     133     134     135     135     136   \n",
       "2      85      88      92      96     105     123     135     143     147   \n",
       "3     203     205     207     206     207     209     210     209     210   \n",
       "4     188     191     193     195     199     201     202     203     203   \n",
       "\n",
       "   pixel10  ...  pixel775  pixel776  pixel777  pixel778  pixel779  pixel780  \\\n",
       "0      152  ...       138       148       127        89        82        96   \n",
       "1      138  ...        47       104       194       183       186       184   \n",
       "2      152  ...        68       166       242       227       230       227   \n",
       "3      209  ...       154       248       247       248       253       236   \n",
       "4      203  ...        26        40        64        48        29        46   \n",
       "\n",
       "   pixel781  pixel782  pixel783  pixel784  \n",
       "0       106       112       120       107  \n",
       "1       184       184       182       180  \n",
       "2       226       225       224       222  \n",
       "3       230       240       253       255  \n",
       "4        49        46        46        53  \n",
       "\n",
       "[5 rows x 784 columns]"
      ]
     },
     "execution_count": 30,
     "metadata": {},
     "output_type": "execute_result"
    }
   ],
   "source": [
    "# get train data \n",
    "dataTrain = pd.read_csv('sign_mnist_train.csv')\n",
    "yTrain = dataTrain['label'].values\n",
    "dataTrain.drop('label', axis = 1, inplace = True)\n",
    "\n",
    "# get test data \n",
    "dataTest = pd.read_csv('sign_mnist_test.csv')\n",
    "yTest = dataTest['label'].values\n",
    "dataTest.drop('label', axis = 1, inplace = True)\n",
    "dataTest.head()"
   ]
  },
  {
   "cell_type": "code",
   "execution_count": 72,
   "metadata": {},
   "outputs": [
    {
     "data": {
      "text/plain": [
       "array([ 0,  1,  2,  3,  4,  5,  6,  7,  8, 10, 11, 12, 13, 14, 15, 16, 17,\n",
       "       18, 19, 20, 21, 22, 23, 24], dtype=int64)"
      ]
     },
     "execution_count": 72,
     "metadata": {},
     "output_type": "execute_result"
    }
   ],
   "source": [
    "# get train data to array\n",
    "xTrain = dataTrain.values\n",
    "\n",
    "# get test data to array\n",
    "xTest = dataTest.values\n",
    "\n",
    "# get all letters\n",
    "unique_val = np.array(yTrain)\n",
    "np.unique(unique_val)"
   ]
  },
  {
   "cell_type": "code",
   "execution_count": 73,
   "metadata": {},
   "outputs": [
    {
     "name": "stdout",
     "output_type": "stream",
     "text": [
      "(27455, 28, 28, 1)\n",
      "(7172, 28, 28, 1)\n"
     ]
    }
   ],
   "source": [
    "xTrain = np.array(xTrain.reshape(-1,28,28,1))\n",
    "xTest = np.array(xTest.reshape(-1,28,28,1))\n",
    "print(xTrain.shape)\n",
    "print(xTest.shape)"
   ]
  },
  {
   "cell_type": "markdown",
   "metadata": {},
   "source": [
    "> \"-1\" especifica que esta dimensão no eixo atual deve ser calculada dinamicamente de acordo com a regra de que os elementos totais do tensor permanecem inalterados. Isso nos permite tratar batch_size (parâmetro com valor -1) como um hiperparâmetro que podemos ajustar."
   ]
  },
  {
   "cell_type": "code",
   "execution_count": 74,
   "metadata": {},
   "outputs": [
    {
     "name": "stdout",
     "output_type": "stream",
     "text": [
      "[[0 0 0 ... 0 0 0]\n",
      " [0 0 0 ... 0 0 0]\n",
      " [0 0 1 ... 0 0 0]\n",
      " ...\n",
      " [0 0 0 ... 0 0 0]\n",
      " [0 0 0 ... 0 0 0]\n",
      " [0 0 0 ... 0 1 0]]\n",
      "[[0 0 0 ... 0 0 0]\n",
      " [0 0 0 ... 0 0 0]\n",
      " [0 0 0 ... 0 0 0]\n",
      " ...\n",
      " [0 0 1 ... 0 0 0]\n",
      " [0 0 0 ... 0 0 0]\n",
      " [0 0 1 ... 0 0 0]]\n"
     ]
    }
   ],
   "source": [
    "# convert multi-class labels to binary labels (belong or does not belong to the class)\n",
    "lbTrain = LabelBinarizer()\n",
    "lbTest = LabelBinarizer()\n",
    "yTrain = lbTrain.fit_transform(yTrain)\n",
    "yTest = lbTest.fit_transform(yTest)\n",
    "print(yTrain)\n",
    "print(yTest)"
   ]
  },
  {
   "cell_type": "code",
   "execution_count": 75,
   "metadata": {},
   "outputs": [
    {
     "data": {
      "text/plain": [
       "<matplotlib.image.AxesImage at 0x149048ec820>"
      ]
     },
     "execution_count": 75,
     "metadata": {},
     "output_type": "execute_result"
    },
    {
     "data": {
      "image/png": "[encoded data removed]",
      "text/plain": [
       "<Figure size 432x288 with 1 Axes>"
      ]
     },
     "metadata": {
      "needs_background": "light"
     },
     "output_type": "display_data"
    }
   ],
   "source": [
    "# show one image of train dataset \n",
    "plt.imshow(xTrain[700].reshape(28,28),cmap='gray')"
   ]
  },
  {
   "cell_type": "code",
   "execution_count": 76,
   "metadata": {},
   "outputs": [],
   "source": [
    "batch_size = 128\n",
    "# number of classes\n",
    "num_classes = 24\n",
    "epochs = 100"
   ]
  },
  {
   "cell_type": "markdown",
   "metadata": {},
   "source": [
    "From the definition of Keras documentation the **Sequential** model is a linear stack of layers.You can create a Sequential model by passing a list of layer instances to the constructor.\n",
    "**kernel_size**: An integer or tuple/list of 2 integers, specifying the height and width of the 2D convolution window. Can be a single integer to specify the same value for all spatial dimensions.\n",
    "**activation**: Activation function to use. If you don't specify anything, no activation is applied (see keras.activations).\n",
    "**input shape**: 4+D tensor with shape: batch_shape + (channels, rows, cols) if data_format='channels_first' or 4+D tensor with shape: batch_shape + (rows, cols, channels) if data_format='channels_last'."
   ]
  },
  {
   "cell_type": "code",
   "execution_count": 77,
   "metadata": {},
   "outputs": [],
   "source": [
    "model = Sequential()\n",
    "model.add(Conv2D(64, kernel_size=(3,3), activation = 'relu', input_shape=(28, 28 ,1) ))\n",
    "model.add(MaxPooling2D(pool_size = (2, 2)))\n",
    "\n",
    "model.add(Conv2D(64, kernel_size = (3, 3), activation = 'relu'))\n",
    "model.add(MaxPooling2D(pool_size = (2, 2)))\n",
    "model.add(Dropout(0.20))\n",
    "\n",
    "model.add(Conv2D(64, kernel_size = (3, 3), activation = 'relu'))\n",
    "model.add(MaxPooling2D(pool_size = (2, 2)))\n",
    "model.add(Dropout(0.20))\n",
    "\n",
    "model.add(Flatten())\n",
    "model.add(Dense(128, activation = 'relu'))\n",
    "model.add(Dropout(0.20))\n",
    "model.add(Dense(num_classes, activation = 'softmax'))"
   ]
  },
  {
   "cell_type": "code",
   "execution_count": 78,
   "metadata": {},
   "outputs": [],
   "source": [
    "model.compile(loss = keras.losses.categorical_crossentropy, optimizer=keras.optimizers.Adam(), metrics=['accuracy'])"
   ]
  },
  {
   "cell_type": "code",
   "execution_count": 79,
   "metadata": {},
   "outputs": [
    {
     "name": "stdout",
     "output_type": "stream",
     "text": [
      "Epoch 1/100\n",
      "215/215 [==============================] - 31s 139ms/step - loss: 4.5886 - accuracy: 0.0829 - val_loss: 2.4695 - val_accuracy: 0.2267\n",
      "Epoch 2/100\n",
      "215/215 [==============================] - 29s 135ms/step - loss: 2.3155 - accuracy: 0.2789 - val_loss: 1.6663 - val_accuracy: 0.5124\n",
      "Epoch 3/100\n",
      "215/215 [==============================] - 29s 134ms/step - loss: 1.6831 - accuracy: 0.4540 - val_loss: 1.0807 - val_accuracy: 0.6697\n",
      "Epoch 4/100\n",
      "215/215 [==============================] - 29s 135ms/step - loss: 1.2682 - accuracy: 0.5677 - val_loss: 0.9492 - val_accuracy: 0.6933\n",
      "Epoch 5/100\n",
      "215/215 [==============================] - 26s 120ms/step - loss: 1.0235 - accuracy: 0.6508 - val_loss: 0.7174 - val_accuracy: 0.7750\n",
      "Epoch 6/100\n",
      "215/215 [==============================] - 25s 117ms/step - loss: 0.8945 - accuracy: 0.6942 - val_loss: 0.5557 - val_accuracy: 0.8105\n",
      "Epoch 7/100\n",
      "215/215 [==============================] - 22s 104ms/step - loss: 0.6736 - accuracy: 0.7673 - val_loss: 0.4775 - val_accuracy: 0.8358\n",
      "Epoch 8/100\n",
      "215/215 [==============================] - 26s 121ms/step - loss: 0.4982 - accuracy: 0.8295 - val_loss: 0.3802 - val_accuracy: 0.8763\n",
      "Epoch 9/100\n",
      "215/215 [==============================] - 22s 104ms/step - loss: 0.4021 - accuracy: 0.8672 - val_loss: 0.4273 - val_accuracy: 0.8546\n",
      "Epoch 10/100\n",
      "215/215 [==============================] - 26s 120ms/step - loss: 0.3574 - accuracy: 0.8804 - val_loss: 0.2979 - val_accuracy: 0.9067\n",
      "Epoch 11/100\n",
      "215/215 [==============================] - 32s 151ms/step - loss: 0.2769 - accuracy: 0.9074 - val_loss: 0.2453 - val_accuracy: 0.9261\n",
      "Epoch 12/100\n",
      "215/215 [==============================] - 26s 120ms/step - loss: 0.2494 - accuracy: 0.9165 - val_loss: 0.2665 - val_accuracy: 0.9279\n",
      "Epoch 13/100\n",
      "215/215 [==============================] - 26s 120ms/step - loss: 0.2096 - accuracy: 0.9290 - val_loss: 0.2882 - val_accuracy: 0.9140\n",
      "Epoch 14/100\n",
      "215/215 [==============================] - 26s 120ms/step - loss: 0.1863 - accuracy: 0.9399 - val_loss: 0.2456 - val_accuracy: 0.9200\n",
      "Epoch 15/100\n",
      "215/215 [==============================] - 26s 120ms/step - loss: 0.1489 - accuracy: 0.9526 - val_loss: 0.1967 - val_accuracy: 0.9439\n",
      "Epoch 16/100\n",
      "215/215 [==============================] - 26s 120ms/step - loss: 0.1283 - accuracy: 0.9589 - val_loss: 0.2435 - val_accuracy: 0.9328\n",
      "Epoch 17/100\n",
      "215/215 [==============================] - 26s 120ms/step - loss: 0.1246 - accuracy: 0.9587 - val_loss: 0.2044 - val_accuracy: 0.9289\n",
      "Epoch 18/100\n",
      "215/215 [==============================] - 26s 120ms/step - loss: 0.1321 - accuracy: 0.9580 - val_loss: 0.2078 - val_accuracy: 0.9442\n",
      "Epoch 19/100\n",
      "215/215 [==============================] - 26s 119ms/step - loss: 0.1083 - accuracy: 0.9660 - val_loss: 0.1965 - val_accuracy: 0.9459\n",
      "Epoch 20/100\n",
      "215/215 [==============================] - 26s 120ms/step - loss: 0.1089 - accuracy: 0.9647 - val_loss: 0.2979 - val_accuracy: 0.9201\n",
      "Epoch 21/100\n",
      "215/215 [==============================] - 26s 120ms/step - loss: 0.0942 - accuracy: 0.9705 - val_loss: 0.2229 - val_accuracy: 0.9353\n",
      "Epoch 22/100\n",
      "215/215 [==============================] - 26s 120ms/step - loss: 0.0894 - accuracy: 0.9710 - val_loss: 0.2036 - val_accuracy: 0.9534\n",
      "Epoch 23/100\n",
      "215/215 [==============================] - 26s 122ms/step - loss: 0.0932 - accuracy: 0.9687 - val_loss: 0.1832 - val_accuracy: 0.9417\n",
      "Epoch 24/100\n",
      "215/215 [==============================] - 26s 120ms/step - loss: 0.0925 - accuracy: 0.9696 - val_loss: 0.1953 - val_accuracy: 0.9389\n",
      "Epoch 25/100\n",
      "215/215 [==============================] - 26s 121ms/step - loss: 0.0734 - accuracy: 0.9763 - val_loss: 0.1851 - val_accuracy: 0.9532\n",
      "Epoch 26/100\n",
      "215/215 [==============================] - 27s 126ms/step - loss: 0.0843 - accuracy: 0.9741 - val_loss: 0.1901 - val_accuracy: 0.9469\n",
      "Epoch 27/100\n",
      "215/215 [==============================] - 29s 133ms/step - loss: 0.0703 - accuracy: 0.9788 - val_loss: 0.1693 - val_accuracy: 0.9506\n",
      "Epoch 28/100\n",
      "215/215 [==============================] - 29s 135ms/step - loss: 0.0732 - accuracy: 0.9762 - val_loss: 0.1885 - val_accuracy: 0.9441\n",
      "Epoch 29/100\n",
      "215/215 [==============================] - 26s 120ms/step - loss: 0.0651 - accuracy: 0.9788 - val_loss: 0.2113 - val_accuracy: 0.9361\n",
      "Epoch 30/100\n",
      "215/215 [==============================] - 26s 119ms/step - loss: 0.0679 - accuracy: 0.9784 - val_loss: 0.1763 - val_accuracy: 0.9480\n",
      "Epoch 31/100\n",
      "215/215 [==============================] - 32s 151ms/step - loss: 0.0624 - accuracy: 0.9818 - val_loss: 0.2303 - val_accuracy: 0.9353\n",
      "Epoch 32/100\n",
      "215/215 [==============================] - 25s 115ms/step - loss: 0.0669 - accuracy: 0.9782 - val_loss: 0.1925 - val_accuracy: 0.9520\n",
      "Epoch 33/100\n",
      "215/215 [==============================] - 25s 115ms/step - loss: 0.0810 - accuracy: 0.9746 - val_loss: 0.1941 - val_accuracy: 0.9460\n",
      "Epoch 34/100\n",
      "215/215 [==============================] - 25s 118ms/step - loss: 0.0658 - accuracy: 0.9799 - val_loss: 0.2172 - val_accuracy: 0.9398\n",
      "Epoch 35/100\n",
      "215/215 [==============================] - 26s 121ms/step - loss: 0.0596 - accuracy: 0.9796 - val_loss: 0.2228 - val_accuracy: 0.9484\n",
      "Epoch 36/100\n",
      "215/215 [==============================] - 25s 116ms/step - loss: 0.0602 - accuracy: 0.9818 - val_loss: 0.1894 - val_accuracy: 0.9543\n",
      "Epoch 37/100\n",
      "215/215 [==============================] - 27s 127ms/step - loss: 0.0627 - accuracy: 0.9816 - val_loss: 0.1622 - val_accuracy: 0.9529\n",
      "Epoch 38/100\n",
      "215/215 [==============================] - 25s 115ms/step - loss: 0.0601 - accuracy: 0.9829 - val_loss: 0.1936 - val_accuracy: 0.9488\n",
      "Epoch 39/100\n",
      "215/215 [==============================] - 23s 108ms/step - loss: 0.0563 - accuracy: 0.9828 - val_loss: 0.2658 - val_accuracy: 0.9247\n",
      "Epoch 40/100\n",
      "215/215 [==============================] - 24s 114ms/step - loss: 0.0623 - accuracy: 0.9807 - val_loss: 0.1753 - val_accuracy: 0.9513\n",
      "Epoch 41/100\n",
      "215/215 [==============================] - 29s 133ms/step - loss: 0.0553 - accuracy: 0.9833 - val_loss: 0.1768 - val_accuracy: 0.9497\n",
      "Epoch 42/100\n",
      "215/215 [==============================] - 36s 167ms/step - loss: 0.0554 - accuracy: 0.9851 - val_loss: 0.1504 - val_accuracy: 0.9552\n",
      "Epoch 43/100\n",
      "215/215 [==============================] - 47s 219ms/step - loss: 0.0565 - accuracy: 0.9829 - val_loss: 0.1522 - val_accuracy: 0.9587\n",
      "Epoch 44/100\n",
      "215/215 [==============================] - 30s 141ms/step - loss: 0.0455 - accuracy: 0.9855 - val_loss: 0.2323 - val_accuracy: 0.9353\n",
      "Epoch 45/100\n",
      "215/215 [==============================] - 38s 178ms/step - loss: 0.0567 - accuracy: 0.9815 - val_loss: 0.2084 - val_accuracy: 0.9423\n",
      "Epoch 46/100\n",
      "215/215 [==============================] - 29s 136ms/step - loss: 0.0477 - accuracy: 0.9850 - val_loss: 0.1992 - val_accuracy: 0.9526\n",
      "Epoch 47/100\n",
      "215/215 [==============================] - 29s 134ms/step - loss: 0.0499 - accuracy: 0.9848 - val_loss: 0.1829 - val_accuracy: 0.9492\n",
      "Epoch 48/100\n",
      "215/215 [==============================] - 30s 138ms/step - loss: 0.0529 - accuracy: 0.9861 - val_loss: 0.1853 - val_accuracy: 0.9480\n",
      "Epoch 49/100\n",
      "215/215 [==============================] - 33s 151ms/step - loss: 0.0476 - accuracy: 0.9866 - val_loss: 0.1670 - val_accuracy: 0.9543\n",
      "Epoch 50/100\n",
      "215/215 [==============================] - 28s 130ms/step - loss: 0.0410 - accuracy: 0.9874 - val_loss: 0.1753 - val_accuracy: 0.9557\n",
      "Epoch 51/100\n",
      "215/215 [==============================] - 26s 123ms/step - loss: 0.0415 - accuracy: 0.9876 - val_loss: 0.2341 - val_accuracy: 0.9419\n",
      "Epoch 52/100\n",
      "215/215 [==============================] - 30s 141ms/step - loss: 0.0464 - accuracy: 0.9855 - val_loss: 0.1892 - val_accuracy: 0.9420\n",
      "Epoch 53/100\n",
      "215/215 [==============================] - 35s 161ms/step - loss: 0.0514 - accuracy: 0.9837 - val_loss: 0.1850 - val_accuracy: 0.9504\n",
      "Epoch 54/100\n",
      "215/215 [==============================] - 35s 162ms/step - loss: 0.0428 - accuracy: 0.9877 - val_loss: 0.2315 - val_accuracy: 0.9481\n",
      "Epoch 55/100\n",
      "215/215 [==============================] - 34s 157ms/step - loss: 0.0371 - accuracy: 0.9888 - val_loss: 0.1790 - val_accuracy: 0.9472\n",
      "Epoch 56/100\n",
      "215/215 [==============================] - 28s 132ms/step - loss: 0.0526 - accuracy: 0.9841 - val_loss: 0.2012 - val_accuracy: 0.9462\n",
      "Epoch 57/100\n",
      "215/215 [==============================] - 33s 152ms/step - loss: 0.0504 - accuracy: 0.9847 - val_loss: 0.2260 - val_accuracy: 0.9349\n",
      "Epoch 58/100\n",
      "215/215 [==============================] - 29s 136ms/step - loss: 0.0531 - accuracy: 0.9842 - val_loss: 0.1592 - val_accuracy: 0.9505\n",
      "Epoch 59/100\n",
      "215/215 [==============================] - 39s 180ms/step - loss: 0.0389 - accuracy: 0.9894 - val_loss: 0.1660 - val_accuracy: 0.9512\n",
      "Epoch 60/100\n",
      "215/215 [==============================] - 28s 132ms/step - loss: 0.0401 - accuracy: 0.9873 - val_loss: 0.2298 - val_accuracy: 0.9444\n",
      "Epoch 61/100\n",
      "215/215 [==============================] - 30s 139ms/step - loss: 0.0470 - accuracy: 0.9854 - val_loss: 0.1863 - val_accuracy: 0.9569\n",
      "Epoch 62/100\n",
      "215/215 [==============================] - 28s 131ms/step - loss: 0.0371 - accuracy: 0.9889 - val_loss: 0.2323 - val_accuracy: 0.9502\n",
      "Epoch 63/100\n",
      "215/215 [==============================] - 26s 119ms/step - loss: 0.0511 - accuracy: 0.9858 - val_loss: 0.2175 - val_accuracy: 0.9420\n",
      "Epoch 64/100\n",
      "215/215 [==============================] - 34s 158ms/step - loss: 0.0366 - accuracy: 0.9887 - val_loss: 0.2400 - val_accuracy: 0.9403\n",
      "Epoch 65/100\n",
      "215/215 [==============================] - 27s 124ms/step - loss: 0.0353 - accuracy: 0.9897 - val_loss: 0.2670 - val_accuracy: 0.9407\n",
      "Epoch 66/100\n",
      "215/215 [==============================] - 34s 161ms/step - loss: 0.0453 - accuracy: 0.9875 - val_loss: 0.2315 - val_accuracy: 0.9352\n",
      "Epoch 67/100\n",
      "215/215 [==============================] - 31s 145ms/step - loss: 0.0513 - accuracy: 0.9855 - val_loss: 0.2102 - val_accuracy: 0.9445\n",
      "Epoch 68/100\n",
      "215/215 [==============================] - 38s 176ms/step - loss: 0.0401 - accuracy: 0.9884 - val_loss: 0.1972 - val_accuracy: 0.9407\n",
      "Epoch 69/100\n",
      "215/215 [==============================] - 29s 136ms/step - loss: 0.0589 - accuracy: 0.9831 - val_loss: 0.2612 - val_accuracy: 0.9438\n",
      "Epoch 70/100\n",
      "215/215 [==============================] - 35s 163ms/step - loss: 0.0416 - accuracy: 0.9877 - val_loss: 0.1513 - val_accuracy: 0.9594\n",
      "Epoch 71/100\n",
      "215/215 [==============================] - 36s 168ms/step - loss: 0.0380 - accuracy: 0.9883 - val_loss: 0.1821 - val_accuracy: 0.9473\n",
      "Epoch 72/100\n",
      "215/215 [==============================] - 29s 134ms/step - loss: 0.0407 - accuracy: 0.9888 - val_loss: 0.2251 - val_accuracy: 0.9516\n",
      "Epoch 73/100\n",
      "215/215 [==============================] - 41s 190ms/step - loss: 0.0452 - accuracy: 0.9879 - val_loss: 0.2506 - val_accuracy: 0.9532\n",
      "Epoch 74/100\n",
      "215/215 [==============================] - 41s 188ms/step - loss: 0.0371 - accuracy: 0.9893 - val_loss: 0.2353 - val_accuracy: 0.9614\n",
      "Epoch 75/100\n",
      "215/215 [==============================] - 29s 133ms/step - loss: 0.0405 - accuracy: 0.9884 - val_loss: 0.1858 - val_accuracy: 0.9568\n",
      "Epoch 76/100\n",
      "215/215 [==============================] - 41s 193ms/step - loss: 0.0340 - accuracy: 0.9899 - val_loss: 0.3015 - val_accuracy: 0.9402\n",
      "Epoch 77/100\n",
      "215/215 [==============================] - 37s 171ms/step - loss: 0.0314 - accuracy: 0.9906 - val_loss: 0.2816 - val_accuracy: 0.9300\n",
      "Epoch 78/100\n",
      "215/215 [==============================] - 31s 142ms/step - loss: 0.0413 - accuracy: 0.9888 - val_loss: 0.2211 - val_accuracy: 0.9538\n",
      "Epoch 79/100\n",
      "215/215 [==============================] - 33s 152ms/step - loss: 0.0458 - accuracy: 0.9861 - val_loss: 0.2799 - val_accuracy: 0.9483\n",
      "Epoch 80/100\n",
      "215/215 [==============================] - 25s 115ms/step - loss: 0.0377 - accuracy: 0.9890 - val_loss: 0.2216 - val_accuracy: 0.9484\n",
      "Epoch 81/100\n",
      "215/215 [==============================] - 28s 132ms/step - loss: 0.0392 - accuracy: 0.9894 - val_loss: 0.2037 - val_accuracy: 0.9578\n",
      "Epoch 82/100\n",
      "215/215 [==============================] - 24s 112ms/step - loss: 0.0334 - accuracy: 0.9911 - val_loss: 0.2129 - val_accuracy: 0.9511\n",
      "Epoch 83/100\n",
      "215/215 [==============================] - 40s 186ms/step - loss: 0.0310 - accuracy: 0.9910 - val_loss: 0.1687 - val_accuracy: 0.9629\n",
      "Epoch 84/100\n",
      "215/215 [==============================] - 29s 136ms/step - loss: 0.0311 - accuracy: 0.9910 - val_loss: 0.2428 - val_accuracy: 0.9551\n",
      "Epoch 85/100\n",
      "215/215 [==============================] - 23s 109ms/step - loss: 0.0406 - accuracy: 0.9891 - val_loss: 0.2738 - val_accuracy: 0.9406\n",
      "Epoch 86/100\n",
      "215/215 [==============================] - 30s 142ms/step - loss: 0.0376 - accuracy: 0.9903 - val_loss: 0.2516 - val_accuracy: 0.9428\n",
      "Epoch 87/100\n",
      "215/215 [==============================] - 36s 169ms/step - loss: 0.0450 - accuracy: 0.9861 - val_loss: 0.2252 - val_accuracy: 0.9508\n",
      "Epoch 88/100\n",
      "215/215 [==============================] - 25s 119ms/step - loss: 0.0356 - accuracy: 0.9893 - val_loss: 0.2505 - val_accuracy: 0.9485\n",
      "Epoch 89/100\n",
      "215/215 [==============================] - 32s 148ms/step - loss: 0.0257 - accuracy: 0.9919 - val_loss: 0.2350 - val_accuracy: 0.9470\n",
      "Epoch 90/100\n",
      "215/215 [==============================] - 30s 140ms/step - loss: 0.0345 - accuracy: 0.9895 - val_loss: 0.2250 - val_accuracy: 0.9499\n",
      "Epoch 91/100\n",
      "215/215 [==============================] - 29s 135ms/step - loss: 0.0403 - accuracy: 0.9881 - val_loss: 0.2471 - val_accuracy: 0.9392\n",
      "Epoch 92/100\n",
      "215/215 [==============================] - 29s 136ms/step - loss: 0.0383 - accuracy: 0.9897 - val_loss: 0.2280 - val_accuracy: 0.9481\n",
      "Epoch 93/100\n",
      "215/215 [==============================] - 27s 125ms/step - loss: 0.0342 - accuracy: 0.9912 - val_loss: 0.1935 - val_accuracy: 0.9505\n",
      "Epoch 94/100\n",
      "215/215 [==============================] - 29s 135ms/step - loss: 0.0348 - accuracy: 0.9910 - val_loss: 0.3696 - val_accuracy: 0.9299\n",
      "Epoch 95/100\n",
      "215/215 [==============================] - 26s 121ms/step - loss: 0.0431 - accuracy: 0.9875 - val_loss: 0.2430 - val_accuracy: 0.9494\n",
      "Epoch 96/100\n",
      "215/215 [==============================] - 18s 85ms/step - loss: 0.0268 - accuracy: 0.9920 - val_loss: 0.2135 - val_accuracy: 0.9509\n",
      "Epoch 97/100\n",
      "215/215 [==============================] - 19s 89ms/step - loss: 0.0289 - accuracy: 0.9916 - val_loss: 0.3078 - val_accuracy: 0.9459\n",
      "Epoch 98/100\n",
      "215/215 [==============================] - 18s 86ms/step - loss: 0.0300 - accuracy: 0.9913 - val_loss: 0.2884 - val_accuracy: 0.9530\n",
      "Epoch 99/100\n",
      "215/215 [==============================] - 18s 85ms/step - loss: 0.0475 - accuracy: 0.9860 - val_loss: 0.2712 - val_accuracy: 0.9569\n",
      "Epoch 100/100\n",
      "215/215 [==============================] - 18s 83ms/step - loss: 0.0228 - accuracy: 0.9936 - val_loss: 0.2521 - val_accuracy: 0.9505\n"
     ]
    }
   ],
   "source": [
    "history = model.fit(xTrain, yTrain, validation_data = (xTest, yTest), epochs=epochs, batch_size=batch_size)"
   ]
  },
  {
   "cell_type": "code",
   "execution_count": 80,
   "metadata": {},
   "outputs": [
    {
     "data": {
      "image/png": "[encoded data removed]",
      "text/plain": [
       "<Figure size 432x288 with 1 Axes>"
      ]
     },
     "metadata": {
      "needs_background": "light"
     },
     "output_type": "display_data"
    }
   ],
   "source": [
    "# accurary plot\n",
    "plt.plot(history.history['accuracy'])\n",
    "plt.plot(history.history['val_accuracy'])\n",
    "plt.title(\"Accuracy\")\n",
    "plt.xlabel('epoch')\n",
    "plt.ylabel('accuracy')\n",
    "plt.legend(['train','test'])\n",
    "plt.show()"
   ]
  },
  {
   "cell_type": "code",
   "execution_count": 81,
   "metadata": {},
   "outputs": [
    {
     "name": "stdout",
     "output_type": "stream",
     "text": [
      "INFO:tensorflow:Assets written to: sign_language\\assets\n"
     ]
    }
   ],
   "source": [
    "model.save('sign_language')"
   ]
  },
  {
   "cell_type": "code",
   "execution_count": 82,
   "metadata": {},
   "outputs": [],
   "source": [
    "alphabet = ['A','B','C','D','E','F','G','H','I','K','L','M','N','O','P','Q','R','S','T','U','V','W','X','Y']\n",
    "def classify(image):\n",
    "    image = cv2.resize(image, (28, 28))\n",
    "    image = image.astype(\"float\") / 255.0\n",
    "    image = img_to_array(image)\n",
    "    image = np.expand_dims(image, axis = 0)\n",
    "    proba = model.predict(image)\n",
    "    idx = np.argmax(proba)\n",
    "    return alphabet[idx]"
   ]
  },
  {
   "cell_type": "code",
   "execution_count": 83,
   "metadata": {},
   "outputs": [
    {
     "data": {
      "text/plain": [
       "'C'"
      ]
     },
     "execution_count": 83,
     "metadata": {},
     "output_type": "execute_result"
    }
   ],
   "source": [
    "classify(xTrain[3]*255)"
   ]
  },
  {
   "cell_type": "code",
   "execution_count": 84,
   "metadata": {},
   "outputs": [
    {
     "name": "stdout",
     "output_type": "stream",
     "text": [
      "[0 0 1 0 0 0 0 0 0 0 0 0 0 0 0 0 0 0 0 0 0 0 0 0]\n"
     ]
    }
   ],
   "source": [
    "print(yTrain[3])"
   ]
  },
  {
   "cell_type": "code",
   "execution_count": null,
   "metadata": {},
   "outputs": [],
   "source": []
  }
 ],
 "metadata": {
  "kernelspec": {
   "display_name": "Python 3",
   "language": "python",
   "name": "python3"
  },
  "language_info": {
   "codemirror_mode": {
    "name": "ipython",
    "version": 3
   },
   "file_extension": ".py",
   "mimetype": "text/x-python",
   "name": "python",
   "nbconvert_exporter": "python",
   "pygments_lexer": "ipython3",
   "version": "3.8.5"
  }
 },
 "nbformat": 4,
 "nbformat_minor": 4
}
